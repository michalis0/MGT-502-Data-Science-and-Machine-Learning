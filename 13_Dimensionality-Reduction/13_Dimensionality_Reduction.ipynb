{
  "cells": [
    {
      "cell_type": "markdown",
      "metadata": {
        "id": "w6fWqd8BITZH"
      },
      "source": [
        "<a href=\"https://colab.research.google.com/github/michalis0/MGT-502-Data-Science-and-Machine-Learning/blob/main/13_Dimensionality-Reduction/13_Dimensionality_Reduction.ipynb\" target=\"_parent\"><img src=\"https://colab.research.google.com/assets/colab-badge.svg\" alt=\"Open In Colab\"/></a>"
      ]
    },
    {
      "cell_type": "code",
      "execution_count": 1,
      "metadata": {
        "colab": {
          "base_uri": "https://localhost:8080/"
        },
        "id": "C6oS2oex_pnD",
        "outputId": "0ff0fb7d-2e5c-48f0-8837-3bf0b7db044a"
      },
      "outputs": [
        {
          "name": "stderr",
          "output_type": "stream",
          "text": [
            "[nltk_data] Downloading package stopwords to\n",
            "[nltk_data]     /Users/rodrigoalvarezlucendo/nltk_data...\n",
            "[nltk_data]   Package stopwords is already up-to-date!\n",
            "[nltk_data] Downloading package punkt to\n",
            "[nltk_data]     /Users/rodrigoalvarezlucendo/nltk_data...\n",
            "[nltk_data]   Package punkt is already up-to-date!\n"
          ]
        }
      ],
      "source": [
        "# Import standard libraries\n",
        "import pandas as pd\n",
        "import numpy as np\n",
        "import matplotlib\n",
        "import matplotlib.pylab as plt\n",
        "#import plotly.express as px\n",
        "import seaborn as sns\n",
        "%matplotlib inline\n",
        "import time\n",
        "import re\n",
        "import nltk\n",
        "from IPython.display import YouTubeVideo\n",
        "\n",
        "# nltk.download('stopwords') # uncomment if stopwords is not up-to-date\n",
        "# nltk.download('punkt')     # uncomment if punkt is not up-to-date\n",
        "from nltk.corpus import stopwords\n",
        "from nltk.tokenize import word_tokenize\n",
        "from nltk.stem import PorterStemmer\n",
        "nltk.download(\"stopwords\")\n",
        "nltk.download('punkt')\n",
        "\n",
        "# ML import\n",
        "from sklearn import datasets\n",
        "from sklearn.preprocessing import StandardScaler\n",
        "from sklearn.model_selection import train_test_split\n",
        "from sklearn.feature_extraction.text import TfidfVectorizer\n",
        "from sklearn.linear_model import LogisticRegression\n",
        "from sklearn.neighbors import KNeighborsClassifier\n",
        "from sklearn.pipeline import Pipeline\n",
        "from sklearn.decomposition import PCA             # PCA\n",
        "from sklearn.manifold import TSNE                 # t-SNE\n",
        "from sklearn.manifold import MDS                  # Multidimensional scaling\n",
        "from sklearn.manifold import Isomap               # Isomap\n",
        "from sklearn.cluster import KMeans\n",
        "from sklearn.metrics import accuracy_score\n",
        "\n",
        "# import mnist\n",
        "from keras.datasets import mnist"
      ]
    },
    {
      "cell_type": "markdown",
      "metadata": {
        "id": "b-eLAvbp_pnG"
      },
      "source": [
        "# Dimensionality Reduction\n",
        "\n",
        "<img src='https://media.tenor.com/fh89_ZNYrnwAAAAC/flat-earth-dinosaurs.gif' width=\"500\">"
      ]
    },
    {
      "cell_type": "markdown",
      "metadata": {
        "id": "Umsz9VL9Ia0a"
      },
      "source": [
        "## Content\n",
        "\n",
        "The goal of this walkthrough is to provide you with insights on Dimensionality Reduction. After presenting the main concepts, you will be introduced to the techniques to implement dimensionality reduction techniques, e.g., PCA, t-SNE, multidimensional scaling, Isomap. Finally, we'll explore a few applications to demonstrate the usefulness of dimensionality reduction for data visualization and classification tasks.  \n",
        "\n",
        "This notebook is organized as follows:\n",
        "- [Background](#Background)\n",
        "    - [Principal Component Analysis](#Principal-Component-Analysis)\n",
        "        - [Finding principal components](#Finding-principal-components)\n",
        "        - [How many dimensions?](#How-many-dimensions?)\n",
        "        - [Practical issues of PCA](#Practical-issues-of-PCA)\n",
        "        - [Further reading](#Further-reading)\n",
        "    - [t-SNE](#t-SNE)\n",
        "        - [How does t-SNE work?](#How-does-t-SNE-work?)\n",
        "        - [Practical issues of t-SNE](#Practical-issues-of-t-SNE)\n",
        "        - [References and further reading](#References-and-further-reading)\n",
        "- [Implementation](#Implementation)\n",
        "    - [PCA](#PCA)\n",
        "    - [t-SNE and other Manifold Learning techniques](#t-SNE-and-other-Manifold-Learning-techniques)\n",
        "    - [Your turn!](#Your-turn!)\n",
        "- [Applications](#Applications)\n",
        "    - [PCA for visualization: Palmer penguins](#PCA-for-visualization:-Palmer-penguins)\n",
        "    - [SMS Classification: with vs. without PCA](#SMS-Classification:-with-vs.-without-PCA)\n",
        "        - [Discover dataset](#Discover-dataset)\n",
        "        - [Data preparation and cleaning](#Data-preparation-and-cleaning)\n",
        "        - [Dimensionality reduction and Classification](#Dimensionality-reduction-and-Classification)"
      ]
    },
    {
      "cell_type": "markdown",
      "metadata": {
        "id": "s6MBv80A_pnI"
      },
      "source": [
        "## Background\n",
        "\n",
        "[Dimensionality reduction](https://en.wikipedia.org/wiki/Dimensionality_reduction) is the transformation of data from a high-dimensional space into a low-dimensional space so that the low-dimensional representation retains some meaningful properties of the original data.\n",
        "\n",
        "Dimensionality reduction is useful to:\n",
        "- Visualize data\n",
        "- Deal with the [curse of dimensionality](https://en.wikipedia.org/wiki/Curse_of_dimensionality)\n",
        "- Removing noise, leading to better prediction and classification accuracy\n",
        "- Reduce time complexity (faster to train algorithms with less features)\n",
        "- Compress data (less space needed)\n",
        "\n",
        "We generally distinguish between two sets of techniques:\n",
        "- [Feature selection](https://en.wikipedia.org/wiki/Feature_selection), which consists in selecting a subset of relevant features, using, for instance:\n",
        "    - domain knowledge ,\n",
        "    - information gain, e.g., in decision trees at each node we select the feature that maximizes the information gained,\n",
        "    - properties of your features, e.g., correlation, with the assumption that the prediction/classification performance is improved when features are highly correlated with the outcome, yet uncorrelated to each others,\n",
        "    - regularization techniques (LASSO, Ridge, Elastic Net)\n",
        "- [Feature extraction](https://en.wikipedia.org/wiki/Feature_extraction), which consists in transforming our original features into new features that should be informative and non-redundant.\n",
        "\n",
        "This notebook focuses on feature extraction. We detail below a few techniques, namely Principal Component Analysis (PCA) and t-distributed Stochastic Neighbor Embedding (t-SNE)."
      ]
    },
    {
      "cell_type": "markdown",
      "metadata": {
        "id": "8oV4MYOq_pnI"
      },
      "source": [
        "### Principal Component Analysis\n",
        "\n",
        "\n",
        "If you want to watch a small introduction video about PCA:\n",
        "\n",
        "\n",
        "\n"
      ]
    },
    {
      "cell_type": "code",
      "execution_count": null,
      "metadata": {
        "colab": {
          "base_uri": "https://localhost:8080/",
          "height": 321
        },
        "id": "T66jxFqAEpyd",
        "outputId": "21b3701d-e9c6-44cb-c3e1-5e87cd558bcc"
      },
      "outputs": [],
      "source": [
        "YouTubeVideo('HMOI_lkzW08')"
      ]
    },
    {
      "cell_type": "markdown",
      "metadata": {
        "id": "YRMahLunFDsc"
      },
      "source": [
        "[Principal component analysis](https://en.wikipedia.org/wiki/Principal_component_analysis) (PCA) performs a linear combination of our original features into new and linearly-uncorrelated features, called **principal components**. The principal components are constructed such that:\n",
        "- the first principal component is the direction of greatest variability in the data, i.e., it has the largest possible [variance](https://en.wikipedia.org/wiki/Variance);\n",
        "- each succeeding component in turn has the highest variance possible, under the constraint that it is [orthogonal](https://en.wikipedia.org/wiki/Orthogonal) to the preceding components.\n",
        "\n",
        "The orthogonality constraint allows to build linearly-uncorrelated features. But why are we interested in the direction of greatest variability? Well, consider the figure below, the direction of the first principal component (V1) has the largest spread (variance). It is also the direction that distorts the least our observations when performing a projection. In other words, the direction of the largest variance is also the direction that minimizes the distances between the original points and their projections. In this sense, it is the most informative direction.  \n",
        "\n",
        "<img src='http://lazyprogrammer.me/wp-content/uploads/2015/11/PCA.jpg' width=\"400\">\n",
        "\n",
        "Source: [Tutorial: Principal Components Analysis (PCA)](https://lazyprogrammer.me/tutorial-principal-components-analysis-pca/), Lazy Programmer\n"
      ]
    },
    {
      "cell_type": "markdown",
      "metadata": {
        "id": "j-OnauiX_pnI"
      },
      "source": [
        "#### Finding principal components\n",
        "\n",
        "How do we find the direction of largest variance? Let's formalize our problem!\n",
        "\n",
        "Say we have a matrix of $p$ features $\\boldsymbol{X}=[\\boldsymbol{x_1}$, ... , $\\boldsymbol{x_p}]$, each feature having $n$ observations $\\boldsymbol{x_j}=(x_{1j}, x_{2j}, ..., x_{nj})$. We assume that the mean of each feature is zero; otherwise the first step is to center the data at zero by subtracting the mean of each feature.\n",
        "\n",
        "Each principal component is a linear combination of our features, i.e., it can be represented by a vector of dimension $p$: $\\boldsymbol{\\phi_k} = (\\phi_{k,1}, \\phi_{k,2}, ..., \\phi_{k,p})$, where $\\phi_{k,j}$ are the weights associated with each feature. We impose that $\\boldsymbol{\\phi_k}$ is a unit vector, i.e., $|| \\boldsymbol{\\phi_k} ||=\\sum_j (\\phi_{k,j})^2=1$. Indeed, there exists an infinity of vectors that have the same direction, so we need to select one, and the unit vector leads to some interesting properties that we will discover below.\n",
        "\n",
        "For each observation $i = 1,...,n$ and each principal component $k$, we define a principal component *score* $z_{k,i}$:\n",
        "\n",
        "$$ z_{k,i} = \\phi_{k,1} x_{i1} + \\phi_{k,2} x_{i2} + ... + \\phi_{k,p} x_{ip} = \\sum_{j=1}^p \\phi_{k,j} x_{ij} $$\n",
        "\n",
        "Note that $z_{k,i}$ is the scalar [projection](https://en.wikipedia.org/wiki/Vector_projection) of observation $i$ on the principal component $\\boldsymbol{\\phi_k}$.  \n",
        "\n",
        "The first principal component is the direction of the largest variance. More explicitly, our problem consists in finding the weights $(\\phi_{1,1}, \\phi_{1,2}, ..., \\phi_{1,p})$ that maximizes the variance of the projections $\\boldsymbol{z_1}=(z_{1,1}, z_{1,2},..., z_{1,n})$, such that $\\boldsymbol{\\phi_1}$ is a unit vector. Note that since the mean of each feature is zero, the mean of $\\boldsymbol{z_1}$ is also zero. Hence, we need to solve the following problem:\n",
        "\n",
        "$$\\boldsymbol{\\phi_1} = \\arg \\max_{|| \\boldsymbol{\\phi_1} || =1} \\left\\{  \\frac{1}{n} \\sum_{i=1}^n (z_{1,i})^2 \\right \\} =  \\arg \\max_{|| \\boldsymbol{\\phi_1} || =1} \\left\\{  \\frac{1}{n} \\sum_{i=1}^n \\left(\\sum_{j=1}^p \\phi_{1,j} x_{ij} \\right)^2 \\right \\} $$\n",
        "\n",
        "Once $\\boldsymbol{\\phi_1}$ is found, we can compute for each observation $i$ the principal component score $z_{1,i}$, and $\\boldsymbol{z_1}$ is our new feature.\n",
        "\n",
        "We proceed similarly to find the other components: the $k^{th}$ component can then be found by subtracting the first $k$ − 1 principal components from $\\mathbf{X}$ and finding the weights that maximize the variance of the new projections.\n",
        "\n",
        "However, in practice, the principal components are computed differently. Let's take a step back and reconsider our optimization problem above. When solving it, by adding a Lagrangian multiplier $\\lambda_1$ and taking the derivatives with respect to each weight $\\phi_{1,j}$, we obtain, with some reshuffling:\n",
        "\n",
        "$$\\boldsymbol{\\Sigma} \\boldsymbol{\\phi_1}  = \\lambda_1 \\boldsymbol{\\phi_1} $$\n",
        "\n",
        "where $\\boldsymbol{\\Sigma}$ is the covariance matrix of our features. We can get similar equations for all principal components $\\boldsymbol{\\Sigma} \\boldsymbol{\\phi_k}  = \\lambda_k \\boldsymbol{\\phi_k}$.\n",
        "\n",
        "If you are familiar with linear algebra, you will have recognized this equation: it means that the ***principal components are the [eigenvectors](https://en.wikipedia.org/wiki/Eigenvalues_and_eigenvectors) of the covariance matrix of our features***!\n",
        "\n",
        "Not only that, we can show that, because $\\boldsymbol{\\phi_k}$ are unit vectors, the ***eigenvalues*** ($\\lambda_k$) are equal to the ***variance*** of the projections. Hence, the first principal component is the eigenvector of the covariance matrix with the largest eigenvalues, and so on.\n",
        "\n",
        "Consequently, we can compute the principal components thanks to [eigenvalue decomposition](https://en.wikipedia.org/wiki/Eigendecomposition_of_a_matrix) of the covariance matrix or the more general [singular value decomposition](https://en.wikipedia.org/wiki/Singular_value_decomposition)(SVD)."
      ]
    },
    {
      "cell_type": "markdown",
      "metadata": {
        "id": "K0jIxwBE_pnJ"
      },
      "source": [
        "#### How many dimensions?\n",
        "\n",
        "We want to select $m$ principal components such that we (vastly) reduce our feature space ($m<<p$) while explaining the most variance (\"information\"). There are several techniques, such as:\n",
        "- using a [scree plot](https://en.wikipedia.org/wiki/Scree_plot): rank principal components by the amount of variance they capture in the original dataset, i.e., from largest to smallest eigenvalue, and look for the elbow of the curve\n",
        "- picking the first $m$ eigenvectors that explain a certain percentage of the total variance, e..g.90% or 95%: $\\frac{\\sum_{k=1}^m \\lambda_k}{\\sum_{k=1}^p \\lambda_k} \\geq 0.9$  "
      ]
    },
    {
      "cell_type": "markdown",
      "metadata": {
        "id": "lugAvRH3_pnJ"
      },
      "source": [
        "#### Practical issues of PCA\n",
        "\n",
        "Even though PCA is a very nice technique building on the geometry of our data, there are a few practical considerations to keep in mind before using it:\n",
        "- since the covariance is extremely sensitive to large values, it is best to normalize your features to zero mean and unit variance before performing PCA,\n",
        "- PCA is a linear transformation, i.e., it assumes that the direction of greater variability is linear, which is not always the case."
      ]
    },
    {
      "cell_type": "markdown",
      "metadata": {
        "id": "_np2YhF0_pnK"
      },
      "source": [
        "#### Further reading\n",
        "\n",
        "To further deepen your understanding of PCA, you can refer to the following materials:\n",
        "- [Principal Component Analysis](https://www.youtube.com/watch?v=IbE0tbjy6JQ&list=PLBv09BD7ez_5_yapAg86Od6JeeypkS4YM) lecture by Victor Lavrenko (playlist of short videos), which includes the proofs of why the eigenvectors are the principal components and the eigenvalues the variance of the projections\n",
        "- [Everything you did and didn't know about PCA](http://alexhwilliams.info/itsneuronalblog/2016/03/27/pca/), blog post by Alex Williams\n",
        "- [Eigenvectors and eigenvalues](https://www.youtube.com/watch?v=PFDu9oVAE-g), video by 3Blue1Brown, for a visual understanding of eigenvectors and eigenvalues\n",
        "- [A geometric interpretation of the covariance matrix](https://www.visiondummy.com/2014/04/geometric-interpretation-covariance-matrix/), blog post by Vincent Spruyt, to explore the geometric properties of the covariance matrix"
      ]
    },
    {
      "cell_type": "markdown",
      "metadata": {
        "id": "r7s64rFV_pnK"
      },
      "source": [
        "### t-SNE\n",
        "\n",
        "Unlike PCA, [t-distributed stochastic neighbor embedding](https://en.wikipedia.org/wiki/T-distributed_stochastic_neighbor_embedding) (t-SNE) is a [nonlinear dimensionality reduction](https://en.wikipedia.org/wiki/Nonlinear_dimensionality_reduction) technique. The method attempts to learn a low-dimensional representation of the data that preserves the local structure of the data. It attempts to preserve pairwise distance and \"cluster\" information.\n",
        "\n",
        "You can watch here a small introduction video about t-SNE:"
      ]
    },
    {
      "cell_type": "code",
      "execution_count": null,
      "metadata": {
        "colab": {
          "base_uri": "https://localhost:8080/",
          "height": 321
        },
        "id": "88NX93iJF5BU",
        "outputId": "953a8fcd-ecd1-4f52-fc3b-2fc6ec5c0abb"
      },
      "outputs": [],
      "source": [
        "YouTubeVideo('NEaUSP4YerM')"
      ]
    },
    {
      "cell_type": "markdown",
      "metadata": {
        "id": "FL7Erx--_pnK"
      },
      "source": [
        "#### How does t-SNE work?\n",
        "\n",
        "t-SNE maps the data points from our initial high-dimensional space to a low-dimensional space in such a way that similar data points are close to each other in the low-dimensional space. The method involves two main steps:\n",
        "1. we compute the probability of similarity between each pair of data points in the high-dimensional space\n",
        "2. we compute the probability of similarity between each pair of data points in the low-dimensional space\n",
        "The objective is to minimize the difference between the two similarity probabilities to find the best mapping between the high-dimensional data and the low-dimensional space.\n",
        "\n",
        "Let's formalize this.We have a matrix of $p$ features $\\boldsymbol{X}$, each feature having $n$ observations. We call $\\boldsymbol{x_{(i)}}=(X_{i1}, X_{i2}, ..., X_{ip})$ the $i^{th}$ observation. Note that in the previous section $\\boldsymbol{x_{j}}$ was referring to feature $j$, i.e., a column of the matrix feature, while $\\boldsymbol{x_{(i)}}$ refers to observation $i$, i.e., a row of the matrix feature.\n",
        "\n",
        "The first step is to compute the similarity between each pair of data points. This similarity of datapoint $\\boldsymbol{x_{(a)}}$ to datapoint $\\boldsymbol{x_{(b)}}$ is defined to be the conditional probability $p_{b|a}$ that $\\boldsymbol{x_{(a)}}$ would pick $\\boldsymbol{x_{(b)}}$ as its neighbor, if the neighbors were picked in proportion to their probability density under a Gaussian centered at $\\boldsymbol{x_{(a)}}$:\n",
        "\n",
        "$$p_{b|a} = \\frac{\\exp(- ||\\boldsymbol{x_{(a)}} - \\boldsymbol{x_{(b)}}||^2 / 2 \\sigma_a^2)}{\\sum_{i \\neq a} \\exp(- ||\\boldsymbol{x_{(a)}} - \\boldsymbol{x_{(i)}}||^2 / 2 \\sigma_a^2)}$$\n",
        "\n",
        "We set $p_{a|a}=0$. The variance $\\sigma_a^2$ is set such that the entropy of the conditional distribution equals a predefined entropy, specified by a parameter called *perplexity*: $Perp = 2^{-\\sum_i p_{i|a} \\log_2 p_{i|a}}$. The perplexity can be interpreted as the number of neighbors for our central point. As a result, the variance is adjusted to the density of the data: smaller values of $\\sigma_a^2$ are used in denser part of the data space.\n",
        "\n",
        "See the illustration in the figure below, at the top is our initial space and at the bottom the similarities to the red observation.\n",
        "\n",
        "<img src='https://miro.medium.com/v2/resize:fit:1400/format:webp/0*Afr8xsKrl6dwZ10Q.png' width=\"500\">\n",
        "\n",
        "Source: [t-SNE clearly explained](https://towardsdatascience.com/t-sne-clearly-explained-d84c537f53a), by Kermal Erdem"
      ]
    },
    {
      "cell_type": "markdown",
      "metadata": {
        "id": "3tAgaMXI_pnL"
      },
      "source": [
        "Note that since the variances $\\sigma_a^2$ and $\\sigma_b^2$ differ, so do $p_{b|a}$ and $p_{a|b}$. We thus define:\n",
        "$$p_{ab} = \\frac{p_{a|b}+p_{b|a}}{2n} $$\n",
        "\n",
        "Ok, we have defined similarities between two observations in our original data space. Our objective is to map our initial p-dimensional data points $\\boldsymbol{x_{(i)}}$ to lower-dimensional points $\\boldsymbol{y_{(i)}}$, such that the similarities in the high-dimensional space match the ones in the low- dimensional space. Thus, next step is to define similarities, $q_{ab}$, in a low-dimensional space. We use a [Student t-distribution](https://en.wikipedia.org/wiki/Student%27s_t-distribution) (hence the name of the algorithm):\n",
        "\n",
        "$$q_{ab}=\\frac{(1+||\\boldsymbol{y_{(a)}} - \\boldsymbol{y_{(b)}}||^2)^{-1}}{\\sum_k \\sum_{k \\neq l}(1+||\\boldsymbol{y_{(k)}} - \\boldsymbol{y_{(l)}}||^2)^{-1}}$$\n",
        "\n",
        "Laurens Van der Maaten and Geoffrey Hinton, who introduced this distribution, discuss the rationale behind this assumption in their paper [Visualizing data using t-SNE](https://www.jmlr.org/papers/volume9/vandermaaten08a/vandermaaten08a.pdf).\n",
        "\n",
        "Last step, we find the new data points $\\boldsymbol{y_{(i)}}$ by minimizing the distance between the two similarity distributions. We use the [Kullback-Leibler divergence](https://en.wikipedia.org/wiki/Kullback%E2%80%93Leibler_divergence):\n",
        "\n",
        "$$\\sum_{a \\neq b} p_{ab} \\log \\frac{p_{ab}}{q_{ab}}$$"
      ]
    },
    {
      "cell_type": "markdown",
      "metadata": {
        "id": "vc033uDB_pnL"
      },
      "source": [
        "#### Practical issues of t-SNE\n",
        "\n",
        "t-SNE is effective in preserving the local structure of the data points, making it ideal for visualizing complex and non-linear data. As drawbacks, the method is:\n",
        "- computationally expensive\n",
        "- sensitive to initial conditions, e.g., perplexity. You can read [How to Use t-SNE Effectively](https://distill.pub/2016/misread-tsne/), by Martin Wattenberg, Fernanda Viégas and Ian Johnson, for a nice discussion and good practices\n",
        "- not guaranteed to preserve the global structure of data. For instance, t-SNE is not recommended for clustering analysis or outlier detection since it does not necessarily preserve densities or distances"
      ]
    },
    {
      "cell_type": "markdown",
      "metadata": {
        "id": "m0Wl9i68_pnL"
      },
      "source": [
        "#### References and further reading\n",
        "\n",
        "- Van der Maaten, L., & Hinton, G. (2008). [Visualizing data using t-SNE](https://www.jmlr.org/papers/volume9/vandermaaten08a/vandermaaten08a.pdf). *Journal of machine learning research*, 9(11).\n",
        "- [t-SNE clearly explained](https://towardsdatascience.com/t-sne-clearly-explained-d84c537f53a), by Kemal Erdem\n",
        "- [How to Use t-SNE Effectively](https://distill.pub/2016/misread-tsne/), by Martin Wattenberg, Fernanda Viégas and Ian Johnson"
      ]
    },
    {
      "cell_type": "markdown",
      "metadata": {
        "id": "i3FNBRUHIa0b"
      },
      "source": [
        "## Implementation\n",
        "\n",
        "We present in this section how to implement dimensionality reduction techniques using some synthetic data to better understand the algorithms."
      ]
    },
    {
      "cell_type": "markdown",
      "metadata": {
        "id": "QMzZdwQj_pnM"
      },
      "source": [
        "### PCA\n",
        "\n",
        "We use the `PCA` module of sklearn ([Documentation](https://scikit-learn.org/stable/modules/generated/sklearn.decomposition.PCA.html#sklearn.decomposition.PCA))\n",
        "\n",
        "```python\n",
        "from sklearn.decomposition import PCA\n",
        "```\n",
        "\n",
        "Ok, let's try with some synthetic data, in two dimensions to visualize the results."
      ]
    },
    {
      "cell_type": "code",
      "execution_count": 2,
      "metadata": {
        "colab": {
          "base_uri": "https://localhost:8080/",
          "height": 465
        },
        "id": "2mm8sJzz_pnM",
        "outputId": "62242232-094c-46f3-a121-ae443154b96b"
      },
      "outputs": [
        {
          "data": {
            "image/png": "[encoded data removed]",
            "text/plain": [
              "<Figure size 500x500 with 1 Axes>"
            ]
          },
          "metadata": {},
          "output_type": "display_data"
        }
      ],
      "source": [
        "## Generate 2D points\n",
        "rng = np.random.RandomState(7)\n",
        "X_2D = np.dot(rng.rand(2, 2), rng.randn(2, 200)).T\n",
        "\n",
        "## Plot\n",
        "plt.figure(figsize=(5,5))\n",
        "plt.scatter(X_2D[:, 0], X_2D[:, 1])\n",
        "plt.xlabel('x1')\n",
        "plt.ylabel('x2')\n",
        "plt.show()"
      ]
    },
    {
      "cell_type": "markdown",
      "metadata": {
        "id": "F9rA_3Xd_pnM"
      },
      "source": [
        "We use `PCA()` specifying the number of components `n_components`. Here, we are in 2 dimensions, there are thus 2 principal components."
      ]
    },
    {
      "cell_type": "code",
      "execution_count": 3,
      "metadata": {
        "colab": {
          "base_uri": "https://localhost:8080/",
          "height": 75
        },
        "id": "3E6j--wp_pnM",
        "outputId": "aea5fc3a-348c-47ed-da00-a3457c00eb38"
      },
      "outputs": [
        {
          "data": {
            "text/html": [
              "<style>#sk-container-id-1 {\n",
              "  /* Definition of color scheme common for light and dark mode */\n",
              "  --sklearn-color-text: #000;\n",
              "  --sklearn-color-text-muted: #666;\n",
              "  --sklearn-color-line: gray;\n",
              "  /* Definition of color scheme for unfitted estimators */\n",
              "  --sklearn-color-unfitted-level-0: #fff5e6;\n",
              "  --sklearn-color-unfitted-level-1: #f6e4d2;\n",
              "  --sklearn-color-unfitted-level-2: #ffe0b3;\n",
              "  --sklearn-color-unfitted-level-3: chocolate;\n",
              "  /* Definition of color scheme for fitted estimators */\n",
              "  --sklearn-color-fitted-level-0: #f0f8ff;\n",
              "  --sklearn-color-fitted-level-1: #d4ebff;\n",
              "  --sklearn-color-fitted-level-2: #b3dbfd;\n",
              "  --sklearn-color-fitted-level-3: cornflowerblue;\n",
              "\n",
              "  /* Specific color for light theme */\n",
              "  --sklearn-color-text-on-default-background: var(--sg-text-color, var(--theme-code-foreground, var(--jp-content-font-color1, black)));\n",
              "  --sklearn-color-background: var(--sg-background-color, var(--theme-background, var(--jp-layout-color0, white)));\n",
              "  --sklearn-color-border-box: var(--sg-text-color, var(--theme-code-foreground, var(--jp-content-font-color1, black)));\n",
              "  --sklearn-color-icon: #696969;\n",
              "\n",
              "  @media (prefers-color-scheme: dark) {\n",
              "    /* Redefinition of color scheme for dark theme */\n",
              "    --sklearn-color-text-on-default-background: var(--sg-text-color, var(--theme-code-foreground, var(--jp-content-font-color1, white)));\n",
              "    --sklearn-color-background: var(--sg-background-color, var(--theme-background, var(--jp-layout-color0, #111)));\n",
              "    --sklearn-color-border-box: var(--sg-text-color, var(--theme-code-foreground, var(--jp-content-font-color1, white)));\n",
              "    --sklearn-color-icon: #878787;\n",
              "  }\n",
              "}\n",
              "\n",
              "#sk-container-id-1 {\n",
              "  color: var(--sklearn-color-text);\n",
              "}\n",
              "\n",
              "#sk-container-id-1 pre {\n",
              "  padding: 0;\n",
              "}\n",
              "\n",
              "#sk-container-id-1 input.sk-hidden--visually {\n",
              "  border: 0;\n",
              "  clip: rect(1px 1px 1px 1px);\n",
              "  clip: rect(1px, 1px, 1px, 1px);\n",
              "  height: 1px;\n",
              "  margin: -1px;\n",
              "  overflow: hidden;\n",
              "  padding: 0;\n",
              "  position: absolute;\n",
              "  width: 1px;\n",
              "}\n",
              "\n",
              "#sk-container-id-1 div.sk-dashed-wrapped {\n",
              "  border: 1px dashed var(--sklearn-color-line);\n",
              "  margin: 0 0.4em 0.5em 0.4em;\n",
              "  box-sizing: border-box;\n",
              "  padding-bottom: 0.4em;\n",
              "  background-color: var(--sklearn-color-background);\n",
              "}\n",
              "\n",
              "#sk-container-id-1 div.sk-container {\n",
              "  /* jupyter's `normalize.less` sets `[hidden] { display: none; }`\n",
              "     but bootstrap.min.css set `[hidden] { display: none !important; }`\n",
              "     so we also need the `!important` here to be able to override the\n",
              "     default hidden behavior on the sphinx rendered scikit-learn.org.\n",
              "     See: https://github.com/scikit-learn/scikit-learn/issues/21755 */\n",
              "  display: inline-block !important;\n",
              "  position: relative;\n",
              "}\n",
              "\n",
              "#sk-container-id-1 div.sk-text-repr-fallback {\n",
              "  display: none;\n",
              "}\n",
              "\n",
              "div.sk-parallel-item,\n",
              "div.sk-serial,\n",
              "div.sk-item {\n",
              "  /* draw centered vertical line to link estimators */\n",
              "  background-image: linear-gradient(var(--sklearn-color-text-on-default-background), var(--sklearn-color-text-on-default-background));\n",
              "  background-size: 2px 100%;\n",
              "  background-repeat: no-repeat;\n",
              "  background-position: center center;\n",
              "}\n",
              "\n",
              "/* Parallel-specific style estimator block */\n",
              "\n",
              "#sk-container-id-1 div.sk-parallel-item::after {\n",
              "  content: \"\";\n",
              "  width: 100%;\n",
              "  border-bottom: 2px solid var(--sklearn-color-text-on-default-background);\n",
              "  flex-grow: 1;\n",
              "}\n",
              "\n",
              "#sk-container-id-1 div.sk-parallel {\n",
              "  display: flex;\n",
              "  align-items: stretch;\n",
              "  justify-content: center;\n",
              "  background-color: var(--sklearn-color-background);\n",
              "  position: relative;\n",
              "}\n",
              "\n",
              "#sk-container-id-1 div.sk-parallel-item {\n",
              "  display: flex;\n",
              "  flex-direction: column;\n",
              "}\n",
              "\n",
              "#sk-container-id-1 div.sk-parallel-item:first-child::after {\n",
              "  align-self: flex-end;\n",
              "  width: 50%;\n",
              "}\n",
              "\n",
              "#sk-container-id-1 div.sk-parallel-item:last-child::after {\n",
              "  align-self: flex-start;\n",
              "  width: 50%;\n",
              "}\n",
              "\n",
              "#sk-container-id-1 div.sk-parallel-item:only-child::after {\n",
              "  width: 0;\n",
              "}\n",
              "\n",
              "/* Serial-specific style estimator block */\n",
              "\n",
              "#sk-container-id-1 div.sk-serial {\n",
              "  display: flex;\n",
              "  flex-direction: column;\n",
              "  align-items: center;\n",
              "  background-color: var(--sklearn-color-background);\n",
              "  padding-right: 1em;\n",
              "  padding-left: 1em;\n",
              "}\n",
              "\n",
              "\n",
              "/* Toggleable style: style used for estimator/Pipeline/ColumnTransformer box that is\n",
              "clickable and can be expanded/collapsed.\n",
              "- Pipeline and ColumnTransformer use this feature and define the default style\n",
              "- Estimators will overwrite some part of the style using the `sk-estimator` class\n",
              "*/\n",
              "\n",
              "/* Pipeline and ColumnTransformer style (default) */\n",
              "\n",
              "#sk-container-id-1 div.sk-toggleable {\n",
              "  /* Default theme specific background. It is overwritten whether we have a\n",
              "  specific estimator or a Pipeline/ColumnTransformer */\n",
              "  background-color: var(--sklearn-color-background);\n",
              "}\n",
              "\n",
              "/* Toggleable label */\n",
              "#sk-container-id-1 label.sk-toggleable__label {\n",
              "  cursor: pointer;\n",
              "  display: flex;\n",
              "  width: 100%;\n",
              "  margin-bottom: 0;\n",
              "  padding: 0.5em;\n",
              "  box-sizing: border-box;\n",
              "  text-align: center;\n",
              "  align-items: start;\n",
              "  justify-content: space-between;\n",
              "  gap: 0.5em;\n",
              "}\n",
              "\n",
              "#sk-container-id-1 label.sk-toggleable__label .caption {\n",
              "  font-size: 0.6rem;\n",
              "  font-weight: lighter;\n",
              "  color: var(--sklearn-color-text-muted);\n",
              "}\n",
              "\n",
              "#sk-container-id-1 label.sk-toggleable__label-arrow:before {\n",
              "  /* Arrow on the left of the label */\n",
              "  content: \"▸\";\n",
              "  float: left;\n",
              "  margin-right: 0.25em;\n",
              "  color: var(--sklearn-color-icon);\n",
              "}\n",
              "\n",
              "#sk-container-id-1 label.sk-toggleable__label-arrow:hover:before {\n",
              "  color: var(--sklearn-color-text);\n",
              "}\n",
              "\n",
              "/* Toggleable content - dropdown */\n",
              "\n",
              "#sk-container-id-1 div.sk-toggleable__content {\n",
              "  max-height: 0;\n",
              "  max-width: 0;\n",
              "  overflow: hidden;\n",
              "  text-align: left;\n",
              "  /* unfitted */\n",
              "  background-color: var(--sklearn-color-unfitted-level-0);\n",
              "}\n",
              "\n",
              "#sk-container-id-1 div.sk-toggleable__content.fitted {\n",
              "  /* fitted */\n",
              "  background-color: var(--sklearn-color-fitted-level-0);\n",
              "}\n",
              "\n",
              "#sk-container-id-1 div.sk-toggleable__content pre {\n",
              "  margin: 0.2em;\n",
              "  border-radius: 0.25em;\n",
              "  color: var(--sklearn-color-text);\n",
              "  /* unfitted */\n",
              "  background-color: var(--sklearn-color-unfitted-level-0);\n",
              "}\n",
              "\n",
              "#sk-container-id-1 div.sk-toggleable__content.fitted pre {\n",
              "  /* unfitted */\n",
              "  background-color: var(--sklearn-color-fitted-level-0);\n",
              "}\n",
              "\n",
              "#sk-container-id-1 input.sk-toggleable__control:checked~div.sk-toggleable__content {\n",
              "  /* Expand drop-down */\n",
              "  max-height: 200px;\n",
              "  max-width: 100%;\n",
              "  overflow: auto;\n",
              "}\n",
              "\n",
              "#sk-container-id-1 input.sk-toggleable__control:checked~label.sk-toggleable__label-arrow:before {\n",
              "  content: \"▾\";\n",
              "}\n",
              "\n",
              "/* Pipeline/ColumnTransformer-specific style */\n",
              "\n",
              "#sk-container-id-1 div.sk-label input.sk-toggleable__control:checked~label.sk-toggleable__label {\n",
              "  color: var(--sklearn-color-text);\n",
              "  background-color: var(--sklearn-color-unfitted-level-2);\n",
              "}\n",
              "\n",
              "#sk-container-id-1 div.sk-label.fitted input.sk-toggleable__control:checked~label.sk-toggleable__label {\n",
              "  background-color: var(--sklearn-color-fitted-level-2);\n",
              "}\n",
              "\n",
              "/* Estimator-specific style */\n",
              "\n",
              "/* Colorize estimator box */\n",
              "#sk-container-id-1 div.sk-estimator input.sk-toggleable__control:checked~label.sk-toggleable__label {\n",
              "  /* unfitted */\n",
              "  background-color: var(--sklearn-color-unfitted-level-2);\n",
              "}\n",
              "\n",
              "#sk-container-id-1 div.sk-estimator.fitted input.sk-toggleable__control:checked~label.sk-toggleable__label {\n",
              "  /* fitted */\n",
              "  background-color: var(--sklearn-color-fitted-level-2);\n",
              "}\n",
              "\n",
              "#sk-container-id-1 div.sk-label label.sk-toggleable__label,\n",
              "#sk-container-id-1 div.sk-label label {\n",
              "  /* The background is the default theme color */\n",
              "  color: var(--sklearn-color-text-on-default-background);\n",
              "}\n",
              "\n",
              "/* On hover, darken the color of the background */\n",
              "#sk-container-id-1 div.sk-label:hover label.sk-toggleable__label {\n",
              "  color: var(--sklearn-color-text);\n",
              "  background-color: var(--sklearn-color-unfitted-level-2);\n",
              "}\n",
              "\n",
              "/* Label box, darken color on hover, fitted */\n",
              "#sk-container-id-1 div.sk-label.fitted:hover label.sk-toggleable__label.fitted {\n",
              "  color: var(--sklearn-color-text);\n",
              "  background-color: var(--sklearn-color-fitted-level-2);\n",
              "}\n",
              "\n",
              "/* Estimator label */\n",
              "\n",
              "#sk-container-id-1 div.sk-label label {\n",
              "  font-family: monospace;\n",
              "  font-weight: bold;\n",
              "  display: inline-block;\n",
              "  line-height: 1.2em;\n",
              "}\n",
              "\n",
              "#sk-container-id-1 div.sk-label-container {\n",
              "  text-align: center;\n",
              "}\n",
              "\n",
              "/* Estimator-specific */\n",
              "#sk-container-id-1 div.sk-estimator {\n",
              "  font-family: monospace;\n",
              "  border: 1px dotted var(--sklearn-color-border-box);\n",
              "  border-radius: 0.25em;\n",
              "  box-sizing: border-box;\n",
              "  margin-bottom: 0.5em;\n",
              "  /* unfitted */\n",
              "  background-color: var(--sklearn-color-unfitted-level-0);\n",
              "}\n",
              "\n",
              "#sk-container-id-1 div.sk-estimator.fitted {\n",
              "  /* fitted */\n",
              "  background-color: var(--sklearn-color-fitted-level-0);\n",
              "}\n",
              "\n",
              "/* on hover */\n",
              "#sk-container-id-1 div.sk-estimator:hover {\n",
              "  /* unfitted */\n",
              "  background-color: var(--sklearn-color-unfitted-level-2);\n",
              "}\n",
              "\n",
              "#sk-container-id-1 div.sk-estimator.fitted:hover {\n",
              "  /* fitted */\n",
              "  background-color: var(--sklearn-color-fitted-level-2);\n",
              "}\n",
              "\n",
              "/* Specification for estimator info (e.g. \"i\" and \"?\") */\n",
              "\n",
              "/* Common style for \"i\" and \"?\" */\n",
              "\n",
              ".sk-estimator-doc-link,\n",
              "a:link.sk-estimator-doc-link,\n",
              "a:visited.sk-estimator-doc-link {\n",
              "  float: right;\n",
              "  font-size: smaller;\n",
              "  line-height: 1em;\n",
              "  font-family: monospace;\n",
              "  background-color: var(--sklearn-color-background);\n",
              "  border-radius: 1em;\n",
              "  height: 1em;\n",
              "  width: 1em;\n",
              "  text-decoration: none !important;\n",
              "  margin-left: 0.5em;\n",
              "  text-align: center;\n",
              "  /* unfitted */\n",
              "  border: var(--sklearn-color-unfitted-level-1) 1pt solid;\n",
              "  color: var(--sklearn-color-unfitted-level-1);\n",
              "}\n",
              "\n",
              ".sk-estimator-doc-link.fitted,\n",
              "a:link.sk-estimator-doc-link.fitted,\n",
              "a:visited.sk-estimator-doc-link.fitted {\n",
              "  /* fitted */\n",
              "  border: var(--sklearn-color-fitted-level-1) 1pt solid;\n",
              "  color: var(--sklearn-color-fitted-level-1);\n",
              "}\n",
              "\n",
              "/* On hover */\n",
              "div.sk-estimator:hover .sk-estimator-doc-link:hover,\n",
              ".sk-estimator-doc-link:hover,\n",
              "div.sk-label-container:hover .sk-estimator-doc-link:hover,\n",
              ".sk-estimator-doc-link:hover {\n",
              "  /* unfitted */\n",
              "  background-color: var(--sklearn-color-unfitted-level-3);\n",
              "  color: var(--sklearn-color-background);\n",
              "  text-decoration: none;\n",
              "}\n",
              "\n",
              "div.sk-estimator.fitted:hover .sk-estimator-doc-link.fitted:hover,\n",
              ".sk-estimator-doc-link.fitted:hover,\n",
              "div.sk-label-container:hover .sk-estimator-doc-link.fitted:hover,\n",
              ".sk-estimator-doc-link.fitted:hover {\n",
              "  /* fitted */\n",
              "  background-color: var(--sklearn-color-fitted-level-3);\n",
              "  color: var(--sklearn-color-background);\n",
              "  text-decoration: none;\n",
              "}\n",
              "\n",
              "/* Span, style for the box shown on hovering the info icon */\n",
              ".sk-estimator-doc-link span {\n",
              "  display: none;\n",
              "  z-index: 9999;\n",
              "  position: relative;\n",
              "  font-weight: normal;\n",
              "  right: .2ex;\n",
              "  padding: .5ex;\n",
              "  margin: .5ex;\n",
              "  width: min-content;\n",
              "  min-width: 20ex;\n",
              "  max-width: 50ex;\n",
              "  color: var(--sklearn-color-text);\n",
              "  box-shadow: 2pt 2pt 4pt #999;\n",
              "  /* unfitted */\n",
              "  background: var(--sklearn-color-unfitted-level-0);\n",
              "  border: .5pt solid var(--sklearn-color-unfitted-level-3);\n",
              "}\n",
              "\n",
              ".sk-estimator-doc-link.fitted span {\n",
              "  /* fitted */\n",
              "  background: var(--sklearn-color-fitted-level-0);\n",
              "  border: var(--sklearn-color-fitted-level-3);\n",
              "}\n",
              "\n",
              ".sk-estimator-doc-link:hover span {\n",
              "  display: block;\n",
              "}\n",
              "\n",
              "/* \"?\"-specific style due to the `<a>` HTML tag */\n",
              "\n",
              "#sk-container-id-1 a.estimator_doc_link {\n",
              "  float: right;\n",
              "  font-size: 1rem;\n",
              "  line-height: 1em;\n",
              "  font-family: monospace;\n",
              "  background-color: var(--sklearn-color-background);\n",
              "  border-radius: 1rem;\n",
              "  height: 1rem;\n",
              "  width: 1rem;\n",
              "  text-decoration: none;\n",
              "  /* unfitted */\n",
              "  color: var(--sklearn-color-unfitted-level-1);\n",
              "  border: var(--sklearn-color-unfitted-level-1) 1pt solid;\n",
              "}\n",
              "\n",
              "#sk-container-id-1 a.estimator_doc_link.fitted {\n",
              "  /* fitted */\n",
              "  border: var(--sklearn-color-fitted-level-1) 1pt solid;\n",
              "  color: var(--sklearn-color-fitted-level-1);\n",
              "}\n",
              "\n",
              "/* On hover */\n",
              "#sk-container-id-1 a.estimator_doc_link:hover {\n",
              "  /* unfitted */\n",
              "  background-color: var(--sklearn-color-unfitted-level-3);\n",
              "  color: var(--sklearn-color-background);\n",
              "  text-decoration: none;\n",
              "}\n",
              "\n",
              "#sk-container-id-1 a.estimator_doc_link.fitted:hover {\n",
              "  /* fitted */\n",
              "  background-color: var(--sklearn-color-fitted-level-3);\n",
              "}\n",
              "</style><div id=\"sk-container-id-1\" class=\"sk-top-container\"><div class=\"sk-text-repr-fallback\"><pre>PCA(n_components=2)</pre><b>In a Jupyter environment, please rerun this cell to show the HTML representation or trust the notebook. <br />On GitHub, the HTML representation is unable to render, please try loading this page with nbviewer.org.</b></div><div class=\"sk-container\" hidden><div class=\"sk-item\"><div class=\"sk-estimator fitted sk-toggleable\"><input class=\"sk-toggleable__control sk-hidden--visually\" id=\"sk-estimator-id-1\" type=\"checkbox\" checked><label for=\"sk-estimator-id-1\" class=\"sk-toggleable__label fitted sk-toggleable__label-arrow\"><div><div>PCA</div></div><div><a class=\"sk-estimator-doc-link fitted\" rel=\"noreferrer\" target=\"_blank\" href=\"https://scikit-learn.org/1.6/modules/generated/sklearn.decomposition.PCA.html\">?<span>Documentation for PCA</span></a><span class=\"sk-estimator-doc-link fitted\">i<span>Fitted</span></span></div></label><div class=\"sk-toggleable__content fitted\"><pre>PCA(n_components=2)</pre></div> </div></div></div></div>"
            ],
            "text/plain": [
              "PCA(n_components=2)"
            ]
          },
          "execution_count": 3,
          "metadata": {},
          "output_type": "execute_result"
        }
      ],
      "source": [
        "## PCA\n",
        "# Create instance of PCA with the desired number of components\n",
        "pca_2D = PCA(n_components=2)\n",
        "# Fit: find principal components\n",
        "pca_2D.fit(X_2D)"
      ]
    },
    {
      "cell_type": "markdown",
      "metadata": {
        "id": "ebTwIFLR_pnM"
      },
      "source": [
        "With `.fit()` we have learned our principal components, i.e., the eigenvectors of the covariance matrix, and the explained variance, i.e., the eigenvalues:"
      ]
    },
    {
      "cell_type": "code",
      "execution_count": 4,
      "metadata": {
        "colab": {
          "base_uri": "https://localhost:8080/"
        },
        "id": "r98SxSJw_pnN",
        "outputId": "4152b42c-e01a-4e10-f39e-1d80dac74145"
      },
      "outputs": [
        {
          "name": "stdout",
          "output_type": "stream",
          "text": [
            "The eigenvectors are:\n",
            "[[ 0.67415701  0.73858806]\n",
            " [ 0.73858806 -0.67415701]]\n",
            "The eigenvalues are: [1.21551024 0.06392182]\n",
            "The explained variance ratio is: [0.95003891 0.04996109]\n"
          ]
        }
      ],
      "source": [
        "# Print components = eigenvectors\n",
        "print('The eigenvectors are:')\n",
        "print(pca_2D.components_)\n",
        "\n",
        "# Print explained variance = eigenvalues\n",
        "print('The eigenvalues are:', pca_2D.explained_variance_)\n",
        "print('The explained variance ratio is:', pca_2D.explained_variance_ratio_)"
      ]
    },
    {
      "cell_type": "markdown",
      "metadata": {},
      "source": [
        "--> Explain here the ration, and why it's 100% in the sum"
      ]
    },
    {
      "cell_type": "markdown",
      "metadata": {
        "id": "gkA5tq3h_pnN"
      },
      "source": [
        "Let's visualize this. We use the components to define the direction of the vector, and the explained variance to define the squared-length of the vector:"
      ]
    },
    {
      "cell_type": "code",
      "execution_count": 5,
      "metadata": {
        "colab": {
          "base_uri": "https://localhost:8080/",
          "height": 465
        },
        "id": "l-6_fb1u_pnN",
        "outputId": "f4c1b662-aa2c-4de5-8bbc-b5ec548f539e"
      },
      "outputs": [
        {
          "data": {
            "image/png": "[encoded data removed]",
            "text/plain": [
              "<Figure size 500x500 with 1 Axes>"
            ]
          },
          "metadata": {},
          "output_type": "display_data"
        }
      ],
      "source": [
        "# Function to draw vectors\n",
        "def draw_vector(v0, v1, color, ax=None):\n",
        "    ax = ax or plt.gca()\n",
        "    arrowprops=dict(arrowstyle='->',\n",
        "                    linewidth=2.5,\n",
        "                    color = color,\n",
        "                    shrinkA=0, shrinkB=0)\n",
        "    ax.annotate('', v1, v0, arrowprops=arrowprops)\n",
        "\n",
        "## Plot\n",
        "colors_vec = ['red','coral']\n",
        "plt.figure(figsize=(5,5))\n",
        "plt.scatter(X_2D[:, 0], X_2D[:, 1])\n",
        "for length, vector, col in zip(pca_2D.explained_variance_, pca_2D.components_, colors_vec):\n",
        "    v = vector * 3 * np.sqrt(length)\n",
        "    draw_vector(pca_2D.mean_, pca_2D.mean_ - v, col)\n",
        "plt.xlabel('x1')\n",
        "plt.ylabel('x2')\n",
        "plt.show()"
      ]
    },
    {
      "cell_type": "markdown",
      "metadata": {
        "id": "QamjR6FP_pnN"
      },
      "source": [
        "The red vector is the first principal component and the orange one the second principal component. As seen in the figure, they are orthogonal and the first principal component is the direction of largest variance.\n",
        "\n",
        "Let's now transform our points to reduce the dimension. In other words, we will project our points on the first principal components:"
      ]
    },
    {
      "cell_type": "code",
      "execution_count": 6,
      "metadata": {
        "colab": {
          "base_uri": "https://localhost:8080/"
        },
        "id": "PYoLP79w_pnN",
        "outputId": "1ef7f351-f4f8-4f12-a327-1507f2a2895a"
      },
      "outputs": [
        {
          "name": "stdout",
          "output_type": "stream",
          "text": [
            "Original shape:    (200, 2)\n",
            "Transformed shape: (200, 1)\n"
          ]
        }
      ],
      "source": [
        "## PCA\n",
        "# Create instance of PCA with the desired number of components\n",
        "pca_1D = PCA(n_components=1)\n",
        "# Fit: find principal components\n",
        "pca_1D.fit(X_2D)\n",
        "# Transform our points: projection\n",
        "X_2D_pca = pca_1D.transform(X_2D)\n",
        "# Note: instead of .fit() and .transform(), we could directly use .fit_transform()\n",
        "\n",
        "print(\"Original shape:   \", X_2D.shape)\n",
        "print(\"Transformed shape:\", X_2D_pca.shape)"
      ]
    },
    {
      "cell_type": "markdown",
      "metadata": {
        "id": "Iw1GxBGH_pnO"
      },
      "source": [
        "We transformed our 2D points into 1D point. To transform the data back to its original dimension, we can use the method `.inverse_transform()`:"
      ]
    },
    {
      "cell_type": "code",
      "execution_count": 7,
      "metadata": {
        "colab": {
          "base_uri": "https://localhost:8080/",
          "height": 465
        },
        "id": "1HemuWDL_pnO",
        "outputId": "8c759716-95d9-4a35-c94a-d8acb745ff47"
      },
      "outputs": [
        {
          "data": {
            "image/png": "[encoded data removed]",
            "text/plain": [
              "<Figure size 500x500 with 1 Axes>"
            ]
          },
          "metadata": {},
          "output_type": "display_data"
        }
      ],
      "source": [
        "# Transform projections to original dimension\n",
        "X_2D_new = pca_1D.inverse_transform(X_2D_pca)\n",
        "\n",
        "# Plot\n",
        "plt.figure(figsize=(5,5))\n",
        "plt.scatter(X_2D[:, 0], X_2D[:, 1], alpha = 0.3)\n",
        "plt.scatter(X_2D_new[:, 0], X_2D_new[:, 1], color = 'blue')\n",
        "v1 = pca_1D.components_[0] * 2.5 * np.sqrt(pca_1D.explained_variance_)\n",
        "draw_vector(pca_1D.mean_, pca_1D.mean_ -  v1, 'black')\n",
        "plt.xlabel('x1')\n",
        "plt.ylabel('x2')\n",
        "plt.show()"
      ]
    },
    {
      "cell_type": "code",
      "execution_count": 8,
      "metadata": {},
      "outputs": [
        {
          "data": {
            "image/png": "[encoded data removed]",
            "text/plain": [
              "<Figure size 500x500 with 1 Axes>"
            ]
          },
          "metadata": {},
          "output_type": "display_data"
        }
      ],
      "source": [
        "# Transform projections using the second component\n",
        "X_2D_pca_second = X_2D @ pca_2D.components_[1].reshape(-1, 1)  # Project onto second component\n",
        "X_2D_new_second = X_2D_pca_second @ pca_2D.components_[1].reshape(1, -1) + pca_2D.mean_  # Reconstruct\n",
        "\n",
        "# Plot\n",
        "plt.figure(figsize=(5, 5))\n",
        "plt.scatter(X_2D[:, 0], X_2D[:, 1], alpha=0.3, label='Original Data')\n",
        "plt.scatter(X_2D_new_second[:, 0], X_2D_new_second[:, 1], color='blue', label='Reconstructed Data')\n",
        "v2 = pca_2D.components_[1] * 2.5 * np.sqrt(pca_2D.explained_variance_[1])\n",
        "draw_vector(pca_2D.mean_, pca_2D.mean_ + v2, 'red')\n",
        "plt.xlabel('x1')\n",
        "plt.ylabel('x2')\n",
        "plt.legend()\n",
        "plt.title('Reconstruction Using the Second Principal Component')\n",
        "plt.show()\n"
      ]
    },
    {
      "cell_type": "markdown",
      "metadata": {
        "id": "7L-x86z5_pnO"
      },
      "source": [
        "As displayed in the figure, the 2D data points were projected on the first principal components. In other words, with PCA, the information along the least important principal axis or axes is removed, leaving only the component(s) of the data with the highest variance. The fraction of variance that is cut out is roughly a measure of how much \"information\" is discarded in this reduction of dimensionality. The reduced-dimension dataset should preserve the overall relationship between the data points."
      ]
    },
    {
      "cell_type": "markdown",
      "metadata": {
        "id": "y7A9MPTX_pnO"
      },
      "source": [
        "One of the weakness of PCA is that it tends to be highly affected by outliers in the data. Many robust variants of PCA have been developed to overcome this limitation, with the idea to iteratively discard data points that are poorly described by the initial components. For instance, `SparsePCA` ([Documentation](https://scikit-learn.org/stable/modules/generated/sklearn.decomposition.SparsePCA.html)) introduces a regularization term that serves to enforce sparsity of the components.\n",
        "\n",
        "Discover other options in sklearn [user guide](https://scikit-learn.org/stable/modules/decomposition.html)!"
      ]
    },
    {
      "cell_type": "markdown",
      "metadata": {
        "id": "g2RuQCs9_pnO"
      },
      "source": [
        "### t-SNE and other Manifold Learning techniques\n",
        "\n",
        "We have previously discussed that PCA assumes that the direction of greater variability is linear. What if it is not the case? For instance, consider the famous [Swiss roll](https://en.wikipedia.org/wiki/Swiss_roll) (which is not from Switzerland...):"
      ]
    },
    {
      "cell_type": "code",
      "execution_count": null,
      "metadata": {
        "colab": {
          "base_uri": "https://localhost:8080/",
          "height": 453
        },
        "id": "5SjveQhw_pnP",
        "outputId": "45ed9987-b907-4929-ab6e-b3c827cb381b"
      },
      "outputs": [],
      "source": [
        "## Generate Swiss roll\n",
        "sr_points, sr_color = datasets.make_swiss_roll(n_samples=1500, random_state=0)\n",
        "\n",
        "## PCA\n",
        "sr_pca = PCA(n_components=2).fit_transform(sr_points)\n",
        "\n",
        "## Plot\n",
        "fig = plt.figure(figsize=(10, 5))\n",
        "# Swiss Roll\n",
        "ax = fig.add_subplot(1,2,1, projection=\"3d\")\n",
        "ax.scatter(sr_points[:, 0], sr_points[:, 1], sr_points[:, 2], c=sr_color, s=50, alpha=0.8)\n",
        "ax.set_title(\"Swiss Roll\")\n",
        "ax.view_init(azim=-60, elev=9)\n",
        "# Swiss Roll projected with PCA\n",
        "ax2 = fig.add_subplot(1,2,2)\n",
        "ax2.scatter(sr_pca[:, 0], sr_pca[:, 1], c=sr_color)\n",
        "ax2.set_title(\"PCA Embedding of Swiss Roll\")\n",
        "fig.tight_layout(pad=3.0)\n",
        "plt.show()"
      ]
    },
    {
      "cell_type": "markdown",
      "metadata": {
        "id": "AQmUqgZa_pnP"
      },
      "source": [
        "Notice what happened? The PCA \"cut\" the Swiss roll, but by doing so we lost some information.\n",
        "\n",
        "Let's try with manifold learning, i.e., nonlinear dimensionality reduction techniques:\n",
        "- t-distributed Stochastic Neighbor Embedding (t-SNE), using the `TSNE` module of sklearn ([Documentation](https://scikit-learn.org/stable/modules/generated/sklearn.manifold.TSNE.html#sklearn.manifold.TSNE)).\n",
        "    - as parameters, we specify the number of components (dimensions) `n_components` and the `perplexity`, which can be interpreted as the number of nearest neighbors.\n",
        "- [Multidimensional scaling](https://en.wikipedia.org/wiki/Multidimensional_scaling) (MDS) , using the `MDS` module ([Documentation](https://scikit-learn.org/stable/modules/generated/sklearn.manifold.MDS.html))\n",
        "    - MDS seeks a low-dimensional representation of the data in which the distances respect well the distances in the original high-dimensional space\n",
        "    - as parameters, we specify the number of components (dimensions) `n_components`\n",
        "- [Isomap](https://en.wikipedia.org/wiki/Isomap), using the `Isomap` module ([Documentation](https://scikit-learn.org/stable/modules/generated/sklearn.manifold.Isomap.html))\n",
        "    - Isomap seeks a lower-dimensional embedding which maintains [geodesic](https://en.wikipedia.org/wiki/Geodesic) distances between all points. It can be viewed as an extension of MDS, using geodesic distances instead of Euclidean distances. In short, the idea is to:\n",
        "        1) determine the k nearest neighbors of each point\n",
        "        2) construct a neighborhood graph by connecting each point to its nearest neighbors\n",
        "        3) compute the geodesic distances between points, defined as the shortest path\n",
        "        4) find the lower-dimensional embedding such that the (Euclidean) distances in the low-dimensional space are close to the geodesic distances\n",
        "    - as parameters, we specify the number of components (dimensions) `n_components` and the number of neighbors to each point `n_neighbors`\n",
        "\n",
        "Do not hesitate to check the [user guide](https://scikit-learn.org/stable/modules/manifold.html) for more details on each approach!"
      ]
    },
    {
      "cell_type": "code",
      "execution_count": null,
      "metadata": {
        "colab": {
          "base_uri": "https://localhost:8080/"
        },
        "id": "zdNyJjvx_pnP",
        "outputId": "9cc8967c-798f-4afb-c0e8-44acfe45ef3f"
      },
      "outputs": [],
      "source": [
        "## t-SNE\n",
        "# Create instance of TSNE\n",
        "tsne_sr = TSNE(n_components=2, perplexity=40, random_state=0)\n",
        "# Fit and project points\n",
        "start = time.time()\n",
        "sr_tsne = tsne_sr.fit_transform(sr_points)\n",
        "end = time.time()\n",
        "print('Time to run t-SNE algorithm', end-start)\n",
        "\n",
        "## MDS\n",
        "# Create instance of MDS\n",
        "mds_sr = MDS(n_components=2, max_iter=50, random_state=0, normalized_stress = 'auto')\n",
        "# Fit and project points\n",
        "start = time.time()\n",
        "sr_mds = mds_sr.fit_transform(sr_points)\n",
        "end = time.time()\n",
        "print('Time to run MDS algorithm', end-start)\n",
        "\n",
        "## Isomap\n",
        "# Create instance of Isomap\n",
        "isomap_sr = Isomap(n_components=2, n_neighbors=10)\n",
        "# Fit and project points\n",
        "start = time.time()\n",
        "sr_isomap = isomap_sr.fit_transform(sr_points)\n",
        "end = time.time()\n",
        "print('Time to run Isomap algorithm', end-start)"
      ]
    },
    {
      "cell_type": "markdown",
      "metadata": {
        "id": "_EvQ6GUU_pnQ"
      },
      "source": [
        "Isomap was much faster than t-SNE and MDS. But what about the quality of the projections? Let's visualize the results:"
      ]
    },
    {
      "cell_type": "code",
      "execution_count": null,
      "metadata": {
        "colab": {
          "base_uri": "https://localhost:8080/",
          "height": 308
        },
        "id": "aA-X1uPe_pnQ",
        "outputId": "0ee3513c-9f77-4498-dfde-fe02f7f3379c"
      },
      "outputs": [],
      "source": [
        "## Plot\n",
        "fig, axs = plt.subplots(1,3, figsize=(16, 4))\n",
        "axs[0].scatter(sr_tsne[:, 0], sr_tsne[:, 1], c=sr_color)\n",
        "axs[0].set_title(\"t-SNE Embedding of Swiss Roll\")\n",
        "axs[1].scatter(sr_mds[:, 0], sr_mds[:, 1], c=sr_color)\n",
        "axs[1].set_title(\"MDS Embedding of Swiss Roll\")\n",
        "axs[2].scatter(sr_isomap[:, 0], sr_isomap[:, 1], c=sr_color)\n",
        "axs[2].set_title(\"Isomap Embedding of Swiss Roll\")\n",
        "plt.show()"
      ]
    },
    {
      "cell_type": "markdown",
      "metadata": {
        "id": "4Ledm7NR_pnQ"
      },
      "source": [
        "t-SNE seems to preserve the general structure of the data, but, poorly represents the continuous nature of the Swiss roll. MDS improves a bit over PCA (more information is retained), but does not capture well the pattern of our manifold. On the other hand, Isomap perfectly unroll the Swiss roll!"
      ]
    },
    {
      "cell_type": "markdown",
      "metadata": {
        "id": "eM54WmZI_pnQ"
      },
      "source": [
        "### Your turn!\n",
        "\n",
        "Consider the following \"noisy plane\":"
      ]
    },
    {
      "cell_type": "code",
      "execution_count": null,
      "metadata": {
        "colab": {
          "base_uri": "https://localhost:8080/",
          "height": 422
        },
        "id": "uz_gUsKa_pnR",
        "outputId": "ff1939af-09c2-4827-fa23-da5279cce511"
      },
      "outputs": [],
      "source": [
        "## Plane function -> ax + by + cz = d + e\n",
        "rng = np.random.RandomState(7)\n",
        "\n",
        "def noisy_plane(a, b, c, d, noise, n):\n",
        "    \"\"\"Function returns n points belonging to a plane in 3D, with some added noise.\n",
        "       Equation of plane -> ax + by + cz = d\n",
        "    \"\"\"\n",
        "    # Generate n points\n",
        "    x = 100*rng.rand(n)\n",
        "    y = 100*rng.rand(n)\n",
        "    # Noise\n",
        "    e = rng.normal(0, noise, n)\n",
        "    # Calculate the third coordinate of the plane\n",
        "    z = (d - a*x - b*y + e)/c\n",
        "    # Make and return DataFrame\n",
        "    df = pd.DataFrame(np.array([x,y,z])).transpose()\n",
        "    df.columns = ['x', 'y', 'z']\n",
        "    return df\n",
        "\n",
        "# Number of points\n",
        "n_samples = 500\n",
        "\n",
        "# Plane with noise of 50\n",
        "df = noisy_plane(-2, -1, -3, 0, 25, n_samples)\n",
        "\n",
        "# Plot\n",
        "fig = plt.figure(figsize=(5, 5))\n",
        "ax = fig.add_subplot(111, projection=\"3d\")\n",
        "fig.add_axes(ax)\n",
        "ax.scatter(df['x'], df['y'], df['z'])\n",
        "ax.set_xlabel('x')\n",
        "ax.set_ylabel('y')\n",
        "ax.set_zlabel('z')\n",
        "ax.view_init(azim=-45, elev=10)\n",
        "\n",
        "plt.show()"
      ]
    },
    {
      "cell_type": "markdown",
      "metadata": {
        "id": "csmcnav5_pnR"
      },
      "source": [
        "- Implement PCA with 2 components. Show (print) the components and the explained variance. Plot the projections of the points in a 3D scatter plot."
      ]
    },
    {
      "cell_type": "code",
      "execution_count": null,
      "metadata": {
        "colab": {
          "base_uri": "https://localhost:8080/"
        },
        "id": "6fII0ofO_pnW",
        "outputId": "ef9dd211-d871-45b0-fe8f-6dbb72463d01"
      },
      "outputs": [],
      "source": [
        "# Your code here"
      ]
    },
    {
      "cell_type": "markdown",
      "metadata": {
        "id": "9nG30mT-_pnW"
      },
      "source": [
        "- Implement manifold learning techniques (e.g., t-SNE, Isomap, MDS) and compare the results to what you obtained with PCA."
      ]
    },
    {
      "cell_type": "markdown",
      "metadata": {
        "id": "2PTjZ_0g_pnX"
      },
      "source": [
        "Consider the following 3-dimensional S-curve"
      ]
    },
    {
      "cell_type": "code",
      "execution_count": null,
      "metadata": {
        "colab": {
          "base_uri": "https://localhost:8080/",
          "height": 521
        },
        "id": "aePbMpTN_pnX",
        "outputId": "3bd1aedc-7c35-4fbb-e385-6de6a2fecd50"
      },
      "outputs": [],
      "source": [
        "S_points, S_color = datasets.make_s_curve(1500, random_state=0)\n",
        "\n",
        "fig = plt.figure(figsize=(8, 6))\n",
        "ax = fig.add_subplot(111, projection=\"3d\")\n",
        "fig.add_axes(ax)\n",
        "ax.scatter(\n",
        "    S_points[:, 0], S_points[:, 1], S_points[:, 2], c=S_color, s=50, alpha=0.8\n",
        ")\n",
        "ax.set_title(\"S-Curve\")\n",
        "ax.view_init(azim=-66, elev=12)\n",
        "plt.show()"
      ]
    },
    {
      "cell_type": "markdown",
      "metadata": {
        "id": "lPRc0TEh_pnX"
      },
      "source": [
        "- Implement various manifold learning techniques, playing with the parameters of the algorithms"
      ]
    },
    {
      "cell_type": "code",
      "execution_count": null,
      "metadata": {
        "id": "095M19TjXpnf"
      },
      "outputs": [],
      "source": [
        "## t-SNE\n",
        "# Your code here"
      ]
    },
    {
      "cell_type": "code",
      "execution_count": null,
      "metadata": {
        "id": "socoGwvN_pnX"
      },
      "outputs": [],
      "source": [
        "## MDS\n",
        "# Your code here\n"
      ]
    },
    {
      "cell_type": "code",
      "execution_count": null,
      "metadata": {
        "id": "nTUPPVanXr_k"
      },
      "outputs": [],
      "source": [
        "## Isomap\n",
        "# Your code here"
      ]
    },
    {
      "cell_type": "code",
      "execution_count": null,
      "metadata": {
        "colab": {
          "base_uri": "https://localhost:8080/",
          "height": 1000
        },
        "id": "yfkN48yMUPb-",
        "outputId": "6175e2c1-5122-4d99-8ba8-b0f8f23dbcbd"
      },
      "outputs": [],
      "source": [
        "## Plot\n",
        "# Your code here"
      ]
    },
    {
      "cell_type": "markdown",
      "metadata": {
        "id": "HTi5JInS_pnY"
      },
      "source": [
        "## Applications\n",
        "\n",
        "In this section, we present a few applications of dimensionality reduction techniques with real data."
      ]
    },
    {
      "cell_type": "markdown",
      "metadata": {
        "id": "zK19ZlE5_pnY"
      },
      "source": [
        "### PCA for visualization: Palmer penguins"
      ]
    },
    {
      "cell_type": "markdown",
      "metadata": {
        "id": "JHr622bw_pnY"
      },
      "source": [
        "We are going to use the [palmerpenguins](https://allisonhorst.github.io/palmerpenguins/) dataset. It contains information about 3 types of Palmer penguins, namely Adelie, Gentoo and Chinstrap:\n",
        "\n",
        "<img src='https://allisonhorst.github.io/palmerpenguins/reference/figures/lter_penguins.png' width=\"500\">\n",
        "\n",
        "Source: Artwork by @allison_horst\n",
        "\n",
        "Data were collected and made available by Dr. Kristen Gorman and the Palmer Station, Antarctica LTER, a member of the Long Term Ecological Research Network.\n",
        "\n",
        "Reference: Horst AM, Hill AP, Gorman KB (2020). palmerpenguins: Palmer Archipelago (Antarctica) penguin data. DOI: [10.5281/zenodo.3960218](https://allisonhorst.github.io/palmerpenguins/)."
      ]
    },
    {
      "cell_type": "code",
      "execution_count": null,
      "metadata": {
        "colab": {
          "base_uri": "https://localhost:8080/",
          "height": 206
        },
        "id": "k_2Ke1KC2wR8",
        "outputId": "ea440e60-38a9-4dc6-8b32-e2eda3bb57c7"
      },
      "outputs": [],
      "source": [
        "# Import data\n",
        "url_penguin = 'https://raw.githubusercontent.com/michalis0/DataScience_and_MachineLearning/master/11-dimensionality-reduction/data/penguins.csv'\n",
        "\n",
        "df_peng = pd.read_csv(url_penguin).dropna().reset_index()\n",
        "df_peng.head()"
      ]
    },
    {
      "cell_type": "markdown",
      "metadata": {
        "id": "EVu8wBmP_pnY"
      },
      "source": [
        "We have 4 numerical features ('bill length', 'bill depth', 'flipper length', and 'body mass'), so visualizing information about our penguins would require to select 2 or 3 features, or instead, to use dimensionality reduction!\n",
        "\n",
        "Let's check the correlation matrix:"
      ]
    },
    {
      "cell_type": "code",
      "execution_count": null,
      "metadata": {
        "colab": {
          "base_uri": "https://localhost:8080/",
          "height": 490
        },
        "id": "dp7Etd1V2wNJ",
        "outputId": "c0bcab4a-7432-4de9-99af-6a3631797694"
      },
      "outputs": [],
      "source": [
        "# Correlation\n",
        "X_peng = df_peng[['bill_length_mm', 'bill_depth_mm', 'flipper_length_mm', 'body_mass_g']]\n",
        "plt.figure(figsize=(5,4))\n",
        "sns.heatmap(X_peng.corr(), annot=True, cmap='coolwarm')\n",
        "plt.show()"
      ]
    },
    {
      "cell_type": "markdown",
      "metadata": {
        "id": "9gE3el6Z3aln"
      },
      "source": [
        "There are some high correlations, so PCA may be useful. Note that our features have very different scales. Hence, before applying PCA, each feature should be centered with unit variance. We use the `StandardScaler` module of sklearn ([Documentation](https://scikit-learn.org/stable/modules/generated/sklearn.preprocessing.StandardScaler.html))."
      ]
    },
    {
      "cell_type": "code",
      "execution_count": null,
      "metadata": {
        "id": "_0PO9fh73rW4"
      },
      "outputs": [],
      "source": [
        "# Standardize data\n",
        "X_peng_normalized = StandardScaler().fit_transform(X_peng)"
      ]
    },
    {
      "cell_type": "markdown",
      "metadata": {
        "id": "XZMXhRT57p2K"
      },
      "source": [
        "We now apply PCA reducing our 4-dimensional space to 2 dimensions:"
      ]
    },
    {
      "cell_type": "code",
      "execution_count": null,
      "metadata": {
        "colab": {
          "base_uri": "https://localhost:8080/",
          "height": 206
        },
        "id": "fVD6mcBv_pnZ",
        "outputId": "76308c80-a014-4d15-bf9f-d2e54a3fc014"
      },
      "outputs": [],
      "source": [
        "# Apply PCA with 2 components\n",
        "pca_peng = PCA(n_components = 2).fit(X_peng_normalized)\n",
        "X_peng_pca = pca_peng.transform(X_peng_normalized)\n",
        "\n",
        "# Visualize in dataframe\n",
        "df_pca_peng = pd.DataFrame(data = X_peng_pca[:,:2], columns = ['PC 1', 'PC 2'])\n",
        "df_pca_peng['species'] = df_peng['species']\n",
        "df_pca_peng['sex'] = df_peng['sex']\n",
        "df_pca_peng.head()"
      ]
    },
    {
      "cell_type": "markdown",
      "metadata": {
        "id": "QscGpBqj_pna"
      },
      "source": [
        "Let's visualize the results:"
      ]
    },
    {
      "cell_type": "code",
      "execution_count": null,
      "metadata": {
        "colab": {
          "base_uri": "https://localhost:8080/",
          "height": 487
        },
        "id": "6Sun8B1v_pna",
        "outputId": "fe88c80f-61af-491c-dfea-87663bde8432"
      },
      "outputs": [],
      "source": [
        "colors = {'Adelie':'orange', 'Gentoo': 'teal', 'Chinstrap':'orchid'}\n",
        "\n",
        "# Plot\n",
        "plt.figure(figsize=(6, 5))\n",
        "sns.scatterplot(data=df_pca_peng, x=\"PC 1\", y=\"PC 2\",\n",
        "                    hue=\"species\", palette = colors, style=\"sex\")\n",
        "plt.title('Visualization of Palmer Penguins with PCA')\n",
        "plt.show()"
      ]
    },
    {
      "cell_type": "markdown",
      "metadata": {
        "id": "CBxtlR066KBX"
      },
      "source": [
        "We can see a clear separation between Gentoo penguins and the other species. The distinction between male and female is also preserved. The main overlap is between female Chinstrap and male Adelie.\n",
        "\n",
        "Let's have a look at our eigenvector to check the magnitude of each original feature in the principal components. We'll create a dataframe and also add the percentage of explained variance by each component:"
      ]
    },
    {
      "cell_type": "code",
      "execution_count": null,
      "metadata": {
        "colab": {
          "base_uri": "https://localhost:8080/",
          "height": 112
        },
        "id": "H2XNVCQAEbEc",
        "outputId": "9782202d-78c5-4e3e-860b-e1008e583ae9"
      },
      "outputs": [],
      "source": [
        "feature_names = ['bill_length_mm', 'bill_depth_mm', 'flipper_length_mm', 'body_mass_g']\n",
        "# Principal components\n",
        "df_pca_peng_components = pd.DataFrame(pca_peng.components_, columns=feature_names, index=['PC 1', 'PC 2'])\n",
        "df_pca_peng_components['Explained variance [%]'] = pca_peng.explained_variance_ratio_\n",
        "df_pca_peng_components"
      ]
    },
    {
      "cell_type": "markdown",
      "metadata": {
        "id": "TcAr8MBG_pnb"
      },
      "source": [
        "Our first principal component explains about 69% of the variance, and the second principal component explains about 19%, so 88% overall. Not bad!\n",
        "\n",
        "Finally, we can visualize the magnitude of each original feature in the principal components with a plot:"
      ]
    },
    {
      "cell_type": "code",
      "execution_count": null,
      "metadata": {
        "colab": {
          "base_uri": "https://localhost:8080/",
          "height": 330
        },
        "id": "X-1DemmE9Ep3",
        "outputId": "a66876fc-cce2-4055-a2a0-427bb65bce45"
      },
      "outputs": [],
      "source": [
        "# Plot feature magnitude\n",
        "plt.figure(figsize=(6, 2))\n",
        "sns.heatmap(df_pca_peng_components[feature_names], annot = True, cmap='coolwarm')\n",
        "plt.show()"
      ]
    },
    {
      "cell_type": "markdown",
      "metadata": {
        "id": "bjSS_kQ-1ew7"
      },
      "source": [
        "### Number Classification: with vs. without PCA\n",
        "\n",
        "We will try to classify handwritten digits from the [MNIST dataset](http://yann.lecun.com/exdb/mnist/). The goal it to predict the number that is written based on a pixelised image."
      ]
    },
    {
      "cell_type": "code",
      "execution_count": null,
      "metadata": {
        "id": "NkeHqewz6QAC"
      },
      "outputs": [],
      "source": [
        "#load data\n",
        "(x_train, y_train), (x_test, y_test) = mnist.load_data()"
      ]
    },
    {
      "cell_type": "code",
      "execution_count": null,
      "metadata": {},
      "outputs": [],
      "source": [
        "display(x_train)"
      ]
    },
    {
      "cell_type": "code",
      "execution_count": null,
      "metadata": {
        "colab": {
          "base_uri": "https://localhost:8080/",
          "height": 815
        },
        "id": "PthkbibM68Kb",
        "outputId": "1ec91285-3868-4ffc-abe9-8d295c55552f"
      },
      "outputs": [],
      "source": [
        "#visualize the dataset\n",
        "images_and_labels = list(zip(x_train, y_train))\n",
        "plt.subplots_adjust(bottom=0, left=.01, right=.99, top=1.6, hspace=.35)\n",
        "for i, (image, label) in enumerate(images_and_labels[:25]):\n",
        "    plt.subplot(5, 5, i + 1)\n",
        "    plt.axis('off')\n",
        "    plt.imshow(image, cmap=plt.cm.gray, interpolation='nearest')\n",
        "    plt.title('N°%i Label: %i' % (i, label))"
      ]
    },
    {
      "cell_type": "code",
      "execution_count": null,
      "metadata": {
        "id": "VuVB2KgD7pBw"
      },
      "outputs": [],
      "source": [
        "#reshape the data\n",
        "X_train = x_train.reshape(len(x_train),-1)\n",
        "X_test = x_test.reshape(len(x_test),-1)"
      ]
    },
    {
      "cell_type": "code",
      "execution_count": null,
      "metadata": {
        "id": "QNXdd7MBuK82"
      },
      "outputs": [],
      "source": [
        "#take a smaller sample for computational purposes\n",
        "size_sample=10000\n",
        "X_train = X_train[:size_sample]\n",
        "y_train = y_train[:size_sample]\n",
        "\n",
        "#calculate the number of clusters\n",
        "total_clusters = len(np.unique(y_test[:size_sample]))"
      ]
    },
    {
      "cell_type": "code",
      "execution_count": null,
      "metadata": {
        "id": "5vPd5b8-AmsU"
      },
      "outputs": [],
      "source": [
        "#get the informations about the label\n",
        "def retrieve_info(cluster_labels,y):\n",
        "  # Initializing\n",
        "  reference_labels = {}\n",
        "  # For loop to run through each label of cluster label\n",
        "  for i in range(len(np.unique(cluster_labels))):\n",
        "    index = np.where(cluster_labels == i,1,0)\n",
        "    num = np.bincount(y[index==1]).argmax()\n",
        "    reference_labels[i] = num\n",
        "  return reference_labels\n",
        "\n",
        "def get_labels(cluster_labels, y):\n",
        "  reference_labels = retrieve_info(cluster_labels,y)\n",
        "  number_labels = np.random.rand(len(cluster_labels))\n",
        "  for i in range(len(cluster_labels)):\n",
        "    number_labels[i] = reference_labels[cluster_labels[i]]\n",
        "  return number_labels"
      ]
    },
    {
      "cell_type": "code",
      "execution_count": null,
      "metadata": {
        "id": "H-FF5eTvAJtB"
      },
      "outputs": [],
      "source": [
        "#create a function to return the results\n",
        "def MNIST_classification(tsne=False):\n",
        "    tsne = TSNE(n_components=2, perplexity=40)\n",
        "    kmeans = KMeans(n_clusters = total_clusters)\n",
        "    # Fit model\n",
        "    start = time.time()\n",
        "    if tsne:\n",
        "      X_transformed = tsne.fit_transform(X_train)\n",
        "    else:\n",
        "      X_transformed = X_train\n",
        "    kmeans.fit(X_transformed, y_train)\n",
        "    end = time.time()\n",
        "\n",
        "    #labels\n",
        "    labels=kmeans.labels_\n",
        "    train_labels = get_labels(labels, y_train)\n",
        "\n",
        "    # Indicators\n",
        "    run_time = round(end-start, 4)\n",
        "    train_accuracy = round(accuracy_score(train_labels, y_train), 4)\n",
        "    results = [run_time, train_accuracy]\n",
        "    return results"
      ]
    },
    {
      "cell_type": "code",
      "execution_count": null,
      "metadata": {
        "colab": {
          "base_uri": "https://localhost:8080/"
        },
        "id": "RFpDC1M4PFvL",
        "outputId": "29875db9-6fe3-4c96-b689-c2424b2ed41c"
      },
      "outputs": [],
      "source": [
        "#computing and showing the results, this may take a while\n",
        "results = MNIST_classification()\n",
        "results_tsne = MNIST_classification(tsne=True)\n",
        "\n",
        "df_MNIST_results = pd.DataFrame(data=results,\n",
        "                           index = ['Running time', 'Training accuracy'],\n",
        "                           columns = ['KMeans, without TSNE:'])\n",
        "df_MNIST_results['KMeans, with TSNE:'] = results_tsne\n",
        "df_MNIST_results"
      ]
    },
    {
      "cell_type": "markdown",
      "metadata": {
        "id": "iAC1s9pO7bZY"
      },
      "source": [
        "Let's try to visualize the TSNE in action:"
      ]
    },
    {
      "cell_type": "code",
      "execution_count": null,
      "metadata": {
        "colab": {
          "base_uri": "https://localhost:8080/"
        },
        "id": "uoNEoHYPKJp4",
        "outputId": "412d4fb0-d4f0-4739-f8f5-007c3bc8b737"
      },
      "outputs": [],
      "source": [
        "#performing TSNE on a smaller sample\n",
        "tsne = TSNE(n_components=2)\n",
        "x_transformed = tsne.fit_transform(X_train[:3000, :])\n",
        "tsne_df = pd.DataFrame(np.column_stack((x_transformed, y_train[:3000])), columns=['X', 'Y', \"Targets\"])\n",
        "tsne_df.loc[:, \"Targets\"] = tsne_df.Targets.astype(int)"
      ]
    },
    {
      "cell_type": "code",
      "execution_count": null,
      "metadata": {
        "colab": {
          "base_uri": "https://localhost:8080/",
          "height": 824
        },
        "id": "SagIW0ApLY2n",
        "outputId": "b62666aa-ffa3-4ca4-ae32-e9f7a21ad865"
      },
      "outputs": [],
      "source": [
        "#visualizing tsne\n",
        "plt.figure(figsize=(10,8))\n",
        "g = sns.FacetGrid(data=tsne_df, hue='Targets', height=8)\n",
        "g.map(plt.scatter, 'X', 'Y').add_legend()\n",
        "plt.show()"
      ]
    },
    {
      "cell_type": "markdown",
      "metadata": {
        "id": "izDp4RyRGIzD"
      },
      "source": [
        "### Your turn!\n",
        "\n",
        "Based on [this dataset](https://www.kaggle.com/datasets/uciml/forest-cover-type-dataset), try to visualize some clusters by using different methods seen during this lab. Read the kaggle to gather information about the dataset and what you can do with it.\n",
        "\n",
        "Plot the different results and try to make it as much visualizing as possible. What methods is more efficient for the clusturing?  "
      ]
    },
    {
      "cell_type": "code",
      "execution_count": null,
      "metadata": {
        "colab": {
          "base_uri": "https://localhost:8080/",
          "height": 256
        },
        "id": "T9iUp_ztGMkT",
        "outputId": "c8fb0a76-beda-4cee-b3dd-c9f0621c3d10"
      },
      "outputs": [],
      "source": [
        "# Import data\n",
        "url_covtype = 'https://raw.githubusercontent.com/michalis0/DataScience_and_MachineLearning/master/11-dimensionality-reduction/data/covtype.csv'\n",
        "\n",
        "df_covtype = pd.read_csv(url_covtype).dropna().reset_index()\n",
        "df_covtype.head()"
      ]
    },
    {
      "cell_type": "markdown",
      "metadata": {
        "id": "O4qx0pL1GZlb"
      },
      "source": [
        "A possible solution of what could be done can be seen [here](https://www.kaggle.com/code/minc33/visualizing-high-dimensional-clusters/notebook)."
      ]
    }
  ],
  "metadata": {
    "colab": {
      "provenance": [],
      "toc_visible": true
    },
    "kernelspec": {
      "display_name": "intro-ml",
      "language": "python",
      "name": "python3"
    },
    "language_info": {
      "codemirror_mode": {
        "name": "ipython",
        "version": 3
      },
      "file_extension": ".py",
      "mimetype": "text/x-python",
      "name": "python",
      "nbconvert_exporter": "python",
      "pygments_lexer": "ipython3",
      "version": "3.12.9"
    }
  },
  "nbformat": 4,
  "nbformat_minor": 0
}
