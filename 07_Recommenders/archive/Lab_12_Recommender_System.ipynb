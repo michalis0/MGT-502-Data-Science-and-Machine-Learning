{
  "cells": [
    {
      "cell_type": "markdown",
      "metadata": {
        "id": "view-in-github",
        "colab_type": "text"
      },
      "source": [
        "<a href=\"https://colab.research.google.com/github/michalis0/MGT-502-Data-Science-and-Machine-Learning/blob/main/07_Recommenders/Lab_12_Recommender_System.ipynb\" target=\"_parent\"><img src=\"https://colab.research.google.com/assets/colab-badge.svg\" alt=\"Open In Colab\"/></a>"
      ]
    },
    {
      "cell_type": "code",
      "source": [
        "! pip install surprise"
      ],
      "metadata": {
        "colab": {
          "base_uri": "https://localhost:8080/"
        },
        "id": "w-aBRLF30LyO",
        "outputId": "af832320-974d-4e6f-b89e-cfe3dc582211"
      },
      "id": "w-aBRLF30LyO",
      "execution_count": 3,
      "outputs": [
        {
          "output_type": "stream",
          "name": "stderr",
          "text": [
            "/usr/local/lib/python3.10/dist-packages/ipykernel/ipkernel.py:283: DeprecationWarning: `should_run_async` will not call `transform_cell` automatically in the future. Please pass the result to `transformed_cell` argument and any exception that happen during thetransform in `preprocessing_exc_tuple` in IPython 7.17 and above.\n",
            "  and should_run_async(code)\n"
          ]
        },
        {
          "output_type": "stream",
          "name": "stdout",
          "text": [
            "Requirement already satisfied: surprise in /usr/local/lib/python3.10/dist-packages (0.1)\n",
            "Requirement already satisfied: scikit-surprise in /usr/local/lib/python3.10/dist-packages (from surprise) (1.1.3)\n",
            "Requirement already satisfied: joblib>=1.0.0 in /usr/local/lib/python3.10/dist-packages (from scikit-surprise->surprise) (1.4.0)\n",
            "Requirement already satisfied: numpy>=1.17.3 in /usr/local/lib/python3.10/dist-packages (from scikit-surprise->surprise) (1.25.2)\n",
            "Requirement already satisfied: scipy>=1.3.2 in /usr/local/lib/python3.10/dist-packages (from scikit-surprise->surprise) (1.11.4)\n"
          ]
        }
      ]
    },
    {
      "cell_type": "code",
      "execution_count": 4,
      "id": "15dc4475-7f7d-4457-8762-bb031a0629b2",
      "metadata": {
        "colab": {
          "base_uri": "https://localhost:8080/"
        },
        "id": "15dc4475-7f7d-4457-8762-bb031a0629b2",
        "outputId": "b9e8b7b3-8bba-4ad6-f99b-37d8217436f8"
      },
      "outputs": [
        {
          "output_type": "stream",
          "name": "stderr",
          "text": [
            "/usr/local/lib/python3.10/dist-packages/ipykernel/ipkernel.py:283: DeprecationWarning: `should_run_async` will not call `transform_cell` automatically in the future. Please pass the result to `transformed_cell` argument and any exception that happen during thetransform in `preprocessing_exc_tuple` in IPython 7.17 and above.\n",
            "  and should_run_async(code)\n"
          ]
        }
      ],
      "source": [
        "import os\n",
        "os.environ[\"OMP_NUM_THREADS\"] = '1'\n",
        "import pandas as pd\n",
        "import io\n",
        "import re\n",
        "import numpy as np\n",
        "import seaborn as sns\n",
        "import matplotlib.pyplot as plt\n",
        "%matplotlib inline\n",
        "import time\n",
        "import ipywidgets as widgets\n",
        "from ipywidgets import interact, interact_manual\n",
        "from collections import defaultdict\n",
        "\n",
        "# ML import\n",
        "from sklearn import datasets\n",
        "from sklearn.cluster import KMeans\n",
        "from sklearn.cluster import AgglomerativeClustering\n",
        "from scipy.cluster.hierarchy import dendrogram, linkage\n",
        "import scipy.cluster.hierarchy as shc\n",
        "from mlxtend.preprocessing import TransactionEncoder\n",
        "from mlxtend.frequent_patterns import apriori, association_rules\n",
        "\n",
        "from IPython.display import Image, display, HTML\n",
        "\n",
        "# Import from surprise library\n",
        "from surprise import Dataset\n",
        "from surprise import get_dataset_dir\n",
        "from surprise import KNNBasic, KNNWithMeans, SVD\n",
        "from surprise.model_selection import train_test_split\n",
        "from surprise.model_selection import cross_validate, GridSearchCV\n",
        "from surprise import Reader, accuracy\n",
        "\n",
        "# Set some formatting options\n",
        "np.set_printoptions(threshold=500, precision=4)\n",
        "pd.options.display.max_seq_items = 20\n",
        "pd.options.display.max_rows = 20"
      ]
    },
    {
      "cell_type": "markdown",
      "id": "a844a8c0-078c-4946-8927-e570469c601c",
      "metadata": {
        "id": "a844a8c0-078c-4946-8927-e570469c601c"
      },
      "source": [
        "# MOVIE STREAMING SERVICE: CLUSTERING, ASSOCIATION RULES, RECCOMENDER SYSTEM\n",
        "\n",
        "We will implement clustering, association rules, and recommender systems algorithms, applying these methods to:\n",
        "- explore the similarities within groups of people watching movies (clustering analysis)\n",
        "- discover the relations between movies genre (association rules)\n",
        "- recommend movies to users (recommender system)\n",
        "\n",
        "We will use the MovieLens dataset, which contains movie ratings collected from the MovieLens website by the [GroupLens](https://grouplens.org/) research lab.\n",
        "\n",
        "Source: F. Maxwell Harper and Joseph A. Konstan. 2015. The MovieLens Datasets: History and Context. *ACM Transactions on Interactive Intelligent Systems (TiiS)* 5, 4: 19:1–19:19. <https://doi.org/10.1145/2827872>\n",
        "\n"
      ]
    },
    {
      "cell_type": "markdown",
      "id": "306ac928-a1e5-4dd7-8e62-b8108c22e5a9",
      "metadata": {
        "id": "306ac928-a1e5-4dd7-8e62-b8108c22e5a9"
      },
      "source": [
        "## Clustering analysis: similarities between people\n",
        "\n",
        "In this section, you will try to form clusters of individuals based on their preferences regarding movie genres. You will use a transformed version of the MovieLens dataset containing, for a selection of users:\n",
        "- their average rating of all science fiction movies they rated,\n",
        "- their average rating of all comedy movies they rated.\n",
        "\n",
        "Better understanding the differences in people's tastes can help improve the design of recommender systems, for instance for the creation of the user neighborhood. Ok, let's start!"
      ]
    },
    {
      "cell_type": "markdown",
      "id": "0beccfea-24ca-4c3f-92f1-c5a950b2cbce",
      "metadata": {
        "id": "0beccfea-24ca-4c3f-92f1-c5a950b2cbce"
      },
      "source": [
        "- Load the data in a dataframe. The url link is provided below. Display the first 10 observations."
      ]
    },
    {
      "cell_type": "code",
      "execution_count": 5,
      "id": "3e87e292-3eed-4193-ba24-60693606b433",
      "metadata": {
        "colab": {
          "base_uri": "https://localhost:8080/",
          "height": 417
        },
        "id": "3e87e292-3eed-4193-ba24-60693606b433",
        "outputId": "a0733194-5c9f-4968-ab16-a2396af1182d"
      },
      "outputs": [
        {
          "output_type": "stream",
          "name": "stderr",
          "text": [
            "/usr/local/lib/python3.10/dist-packages/ipykernel/ipkernel.py:283: DeprecationWarning: `should_run_async` will not call `transform_cell` automatically in the future. Please pass the result to `transformed_cell` argument and any exception that happen during thetransform in `preprocessing_exc_tuple` in IPython 7.17 and above.\n",
            "  and should_run_async(code)\n"
          ]
        },
        {
          "output_type": "execute_result",
          "data": {
            "text/plain": [
              "   avg_scifi_rating  avg_comedy_rating\n",
              "0              3.50               2.71\n",
              "1              2.56               2.64\n",
              "2              2.00               3.20\n",
              "3              3.18               2.83\n",
              "4              3.00               3.90\n",
              "5              2.33               3.20\n",
              "6              3.00               3.63\n",
              "7              2.30               3.40\n",
              "8              3.11               3.39\n",
              "9              2.85               2.47"
            ],
            "text/html": [
              "\n",
              "  <div id=\"df-e9ee32c9-58cb-4933-b3df-0a5f2025fd29\" class=\"colab-df-container\">\n",
              "    <div>\n",
              "<style scoped>\n",
              "    .dataframe tbody tr th:only-of-type {\n",
              "        vertical-align: middle;\n",
              "    }\n",
              "\n",
              "    .dataframe tbody tr th {\n",
              "        vertical-align: top;\n",
              "    }\n",
              "\n",
              "    .dataframe thead th {\n",
              "        text-align: right;\n",
              "    }\n",
              "</style>\n",
              "<table border=\"1\" class=\"dataframe\">\n",
              "  <thead>\n",
              "    <tr style=\"text-align: right;\">\n",
              "      <th></th>\n",
              "      <th>avg_scifi_rating</th>\n",
              "      <th>avg_comedy_rating</th>\n",
              "    </tr>\n",
              "  </thead>\n",
              "  <tbody>\n",
              "    <tr>\n",
              "      <th>0</th>\n",
              "      <td>3.50</td>\n",
              "      <td>2.71</td>\n",
              "    </tr>\n",
              "    <tr>\n",
              "      <th>1</th>\n",
              "      <td>2.56</td>\n",
              "      <td>2.64</td>\n",
              "    </tr>\n",
              "    <tr>\n",
              "      <th>2</th>\n",
              "      <td>2.00</td>\n",
              "      <td>3.20</td>\n",
              "    </tr>\n",
              "    <tr>\n",
              "      <th>3</th>\n",
              "      <td>3.18</td>\n",
              "      <td>2.83</td>\n",
              "    </tr>\n",
              "    <tr>\n",
              "      <th>4</th>\n",
              "      <td>3.00</td>\n",
              "      <td>3.90</td>\n",
              "    </tr>\n",
              "    <tr>\n",
              "      <th>5</th>\n",
              "      <td>2.33</td>\n",
              "      <td>3.20</td>\n",
              "    </tr>\n",
              "    <tr>\n",
              "      <th>6</th>\n",
              "      <td>3.00</td>\n",
              "      <td>3.63</td>\n",
              "    </tr>\n",
              "    <tr>\n",
              "      <th>7</th>\n",
              "      <td>2.30</td>\n",
              "      <td>3.40</td>\n",
              "    </tr>\n",
              "    <tr>\n",
              "      <th>8</th>\n",
              "      <td>3.11</td>\n",
              "      <td>3.39</td>\n",
              "    </tr>\n",
              "    <tr>\n",
              "      <th>9</th>\n",
              "      <td>2.85</td>\n",
              "      <td>2.47</td>\n",
              "    </tr>\n",
              "  </tbody>\n",
              "</table>\n",
              "</div>\n",
              "    <div class=\"colab-df-buttons\">\n",
              "\n",
              "  <div class=\"colab-df-container\">\n",
              "    <button class=\"colab-df-convert\" onclick=\"convertToInteractive('df-e9ee32c9-58cb-4933-b3df-0a5f2025fd29')\"\n",
              "            title=\"Convert this dataframe to an interactive table.\"\n",
              "            style=\"display:none;\">\n",
              "\n",
              "  <svg xmlns=\"http://www.w3.org/2000/svg\" height=\"24px\" viewBox=\"0 -960 960 960\">\n",
              "    <path d=\"M120-120v-720h720v720H120Zm60-500h600v-160H180v160Zm220 220h160v-160H400v160Zm0 220h160v-160H400v160ZM180-400h160v-160H180v160Zm440 0h160v-160H620v160ZM180-180h160v-160H180v160Zm440 0h160v-160H620v160Z\"/>\n",
              "  </svg>\n",
              "    </button>\n",
              "\n",
              "  <style>\n",
              "    .colab-df-container {\n",
              "      display:flex;\n",
              "      gap: 12px;\n",
              "    }\n",
              "\n",
              "    .colab-df-convert {\n",
              "      background-color: #E8F0FE;\n",
              "      border: none;\n",
              "      border-radius: 50%;\n",
              "      cursor: pointer;\n",
              "      display: none;\n",
              "      fill: #1967D2;\n",
              "      height: 32px;\n",
              "      padding: 0 0 0 0;\n",
              "      width: 32px;\n",
              "    }\n",
              "\n",
              "    .colab-df-convert:hover {\n",
              "      background-color: #E2EBFA;\n",
              "      box-shadow: 0px 1px 2px rgba(60, 64, 67, 0.3), 0px 1px 3px 1px rgba(60, 64, 67, 0.15);\n",
              "      fill: #174EA6;\n",
              "    }\n",
              "\n",
              "    .colab-df-buttons div {\n",
              "      margin-bottom: 4px;\n",
              "    }\n",
              "\n",
              "    [theme=dark] .colab-df-convert {\n",
              "      background-color: #3B4455;\n",
              "      fill: #D2E3FC;\n",
              "    }\n",
              "\n",
              "    [theme=dark] .colab-df-convert:hover {\n",
              "      background-color: #434B5C;\n",
              "      box-shadow: 0px 1px 3px 1px rgba(0, 0, 0, 0.15);\n",
              "      filter: drop-shadow(0px 1px 2px rgba(0, 0, 0, 0.3));\n",
              "      fill: #FFFFFF;\n",
              "    }\n",
              "  </style>\n",
              "\n",
              "    <script>\n",
              "      const buttonEl =\n",
              "        document.querySelector('#df-e9ee32c9-58cb-4933-b3df-0a5f2025fd29 button.colab-df-convert');\n",
              "      buttonEl.style.display =\n",
              "        google.colab.kernel.accessAllowed ? 'block' : 'none';\n",
              "\n",
              "      async function convertToInteractive(key) {\n",
              "        const element = document.querySelector('#df-e9ee32c9-58cb-4933-b3df-0a5f2025fd29');\n",
              "        const dataTable =\n",
              "          await google.colab.kernel.invokeFunction('convertToInteractive',\n",
              "                                                    [key], {});\n",
              "        if (!dataTable) return;\n",
              "\n",
              "        const docLinkHtml = 'Like what you see? Visit the ' +\n",
              "          '<a target=\"_blank\" href=https://colab.research.google.com/notebooks/data_table.ipynb>data table notebook</a>'\n",
              "          + ' to learn more about interactive tables.';\n",
              "        element.innerHTML = '';\n",
              "        dataTable['output_type'] = 'display_data';\n",
              "        await google.colab.output.renderOutput(dataTable, element);\n",
              "        const docLink = document.createElement('div');\n",
              "        docLink.innerHTML = docLinkHtml;\n",
              "        element.appendChild(docLink);\n",
              "      }\n",
              "    </script>\n",
              "  </div>\n",
              "\n",
              "\n",
              "<div id=\"df-7881b527-deb9-41c1-8cc8-2b7e34d793ba\">\n",
              "  <button class=\"colab-df-quickchart\" onclick=\"quickchart('df-7881b527-deb9-41c1-8cc8-2b7e34d793ba')\"\n",
              "            title=\"Suggest charts\"\n",
              "            style=\"display:none;\">\n",
              "\n",
              "<svg xmlns=\"http://www.w3.org/2000/svg\" height=\"24px\"viewBox=\"0 0 24 24\"\n",
              "     width=\"24px\">\n",
              "    <g>\n",
              "        <path d=\"M19 3H5c-1.1 0-2 .9-2 2v14c0 1.1.9 2 2 2h14c1.1 0 2-.9 2-2V5c0-1.1-.9-2-2-2zM9 17H7v-7h2v7zm4 0h-2V7h2v10zm4 0h-2v-4h2v4z\"/>\n",
              "    </g>\n",
              "</svg>\n",
              "  </button>\n",
              "\n",
              "<style>\n",
              "  .colab-df-quickchart {\n",
              "      --bg-color: #E8F0FE;\n",
              "      --fill-color: #1967D2;\n",
              "      --hover-bg-color: #E2EBFA;\n",
              "      --hover-fill-color: #174EA6;\n",
              "      --disabled-fill-color: #AAA;\n",
              "      --disabled-bg-color: #DDD;\n",
              "  }\n",
              "\n",
              "  [theme=dark] .colab-df-quickchart {\n",
              "      --bg-color: #3B4455;\n",
              "      --fill-color: #D2E3FC;\n",
              "      --hover-bg-color: #434B5C;\n",
              "      --hover-fill-color: #FFFFFF;\n",
              "      --disabled-bg-color: #3B4455;\n",
              "      --disabled-fill-color: #666;\n",
              "  }\n",
              "\n",
              "  .colab-df-quickchart {\n",
              "    background-color: var(--bg-color);\n",
              "    border: none;\n",
              "    border-radius: 50%;\n",
              "    cursor: pointer;\n",
              "    display: none;\n",
              "    fill: var(--fill-color);\n",
              "    height: 32px;\n",
              "    padding: 0;\n",
              "    width: 32px;\n",
              "  }\n",
              "\n",
              "  .colab-df-quickchart:hover {\n",
              "    background-color: var(--hover-bg-color);\n",
              "    box-shadow: 0 1px 2px rgba(60, 64, 67, 0.3), 0 1px 3px 1px rgba(60, 64, 67, 0.15);\n",
              "    fill: var(--button-hover-fill-color);\n",
              "  }\n",
              "\n",
              "  .colab-df-quickchart-complete:disabled,\n",
              "  .colab-df-quickchart-complete:disabled:hover {\n",
              "    background-color: var(--disabled-bg-color);\n",
              "    fill: var(--disabled-fill-color);\n",
              "    box-shadow: none;\n",
              "  }\n",
              "\n",
              "  .colab-df-spinner {\n",
              "    border: 2px solid var(--fill-color);\n",
              "    border-color: transparent;\n",
              "    border-bottom-color: var(--fill-color);\n",
              "    animation:\n",
              "      spin 1s steps(1) infinite;\n",
              "  }\n",
              "\n",
              "  @keyframes spin {\n",
              "    0% {\n",
              "      border-color: transparent;\n",
              "      border-bottom-color: var(--fill-color);\n",
              "      border-left-color: var(--fill-color);\n",
              "    }\n",
              "    20% {\n",
              "      border-color: transparent;\n",
              "      border-left-color: var(--fill-color);\n",
              "      border-top-color: var(--fill-color);\n",
              "    }\n",
              "    30% {\n",
              "      border-color: transparent;\n",
              "      border-left-color: var(--fill-color);\n",
              "      border-top-color: var(--fill-color);\n",
              "      border-right-color: var(--fill-color);\n",
              "    }\n",
              "    40% {\n",
              "      border-color: transparent;\n",
              "      border-right-color: var(--fill-color);\n",
              "      border-top-color: var(--fill-color);\n",
              "    }\n",
              "    60% {\n",
              "      border-color: transparent;\n",
              "      border-right-color: var(--fill-color);\n",
              "    }\n",
              "    80% {\n",
              "      border-color: transparent;\n",
              "      border-right-color: var(--fill-color);\n",
              "      border-bottom-color: var(--fill-color);\n",
              "    }\n",
              "    90% {\n",
              "      border-color: transparent;\n",
              "      border-bottom-color: var(--fill-color);\n",
              "    }\n",
              "  }\n",
              "</style>\n",
              "\n",
              "  <script>\n",
              "    async function quickchart(key) {\n",
              "      const quickchartButtonEl =\n",
              "        document.querySelector('#' + key + ' button');\n",
              "      quickchartButtonEl.disabled = true;  // To prevent multiple clicks.\n",
              "      quickchartButtonEl.classList.add('colab-df-spinner');\n",
              "      try {\n",
              "        const charts = await google.colab.kernel.invokeFunction(\n",
              "            'suggestCharts', [key], {});\n",
              "      } catch (error) {\n",
              "        console.error('Error during call to suggestCharts:', error);\n",
              "      }\n",
              "      quickchartButtonEl.classList.remove('colab-df-spinner');\n",
              "      quickchartButtonEl.classList.add('colab-df-quickchart-complete');\n",
              "    }\n",
              "    (() => {\n",
              "      let quickchartButtonEl =\n",
              "        document.querySelector('#df-7881b527-deb9-41c1-8cc8-2b7e34d793ba button');\n",
              "      quickchartButtonEl.style.display =\n",
              "        google.colab.kernel.accessAllowed ? 'block' : 'none';\n",
              "    })();\n",
              "  </script>\n",
              "</div>\n",
              "    </div>\n",
              "  </div>\n"
            ],
            "application/vnd.google.colaboratory.intrinsic+json": {
              "type": "dataframe",
              "variable_name": "df_movies",
              "summary": "{\n  \"name\": \"df_movies\",\n  \"rows\": 167,\n  \"fields\": [\n    {\n      \"column\": \"avg_scifi_rating\",\n      \"properties\": {\n        \"dtype\": \"number\",\n        \"std\": 0.648612143740556,\n        \"min\": 0.5,\n        \"max\": 4.5,\n        \"num_unique_values\": 81,\n        \"samples\": [\n          2.48,\n          3.5,\n          3.19\n        ],\n        \"semantic_type\": \"\",\n        \"description\": \"\"\n      }\n    },\n    {\n      \"column\": \"avg_comedy_rating\",\n      \"properties\": {\n        \"dtype\": \"number\",\n        \"std\": 0.5469893595837781,\n        \"min\": 1.0,\n        \"max\": 4.83,\n        \"num_unique_values\": 100,\n        \"samples\": [\n          2.17,\n          4.1,\n          3.05\n        ],\n        \"semantic_type\": \"\",\n        \"description\": \"\"\n      }\n    }\n  ]\n}"
            }
          },
          "metadata": {},
          "execution_count": 5
        }
      ],
      "source": [
        "url_clustering = 'https://raw.githubusercontent.com/michalis0/MGT-502-Data-Science-and-Machine-Learning/main/data/ratings_clustering.csv'\n",
        "df_movies= pd.read_csv(url_clustering)\n",
        "df_movies.head(10)"
      ]
    },
    {
      "cell_type": "markdown",
      "id": "a71d06f2",
      "metadata": {
        "id": "a71d06f2"
      },
      "source": [
        "The first 10 rows reveal the structure of the dataset at hand, which appears to be very simple: the two columns represent the average rating for scifi movies and comedies for many different users. The information is therefore very limited (only average rating on two genres, we have no other data about users' tastes), which can be both a drawback and an advantage for the future analysis.\n",
        "\n",
        "An obvious drawback is that the results might not be as accurate and useful as in case if we had more specific data. For example, average rating of thrillers, animation films, musicals, drama, etc. Or even user-specific information, like age, gender, country of origin and favourite actors.\n",
        "\n",
        "Yet, there are advantages to having to work with only two columns of data. The main advantage is the simplicity of such an analysis. We can easily plot the two-dimentional data (would be harder to visualize and interpret the results if we had ratings for 10 genres), we can identify simple patterns and the computation time will be reduced."
      ]
    },
    {
      "cell_type": "markdown",
      "id": "34f9776b-3f5a-4738-9e27-5d86bc68f6bc",
      "metadata": {
        "id": "34f9776b-3f5a-4738-9e27-5d86bc68f6bc"
      },
      "source": [
        "- Plot a dendogram using \"ward\" as linkage method and \"euclidean\" as metric.\n",
        "- Based on the dendogram, how many clusters do you think is optimal? Briefly justify your answer."
      ]
    },
    {
      "cell_type": "code",
      "execution_count": 6,
      "id": "8ebaa0de-e766-42a9-a412-878d417ff40d",
      "metadata": {
        "scrolled": false,
        "colab": {
          "base_uri": "https://localhost:8080/",
          "height": 876
        },
        "id": "8ebaa0de-e766-42a9-a412-878d417ff40d",
        "outputId": "f640a5be-9692-4378-a31b-c5689f800a14"
      },
      "outputs": [
        {
          "output_type": "stream",
          "name": "stderr",
          "text": [
            "/usr/local/lib/python3.10/dist-packages/ipykernel/ipkernel.py:283: DeprecationWarning: `should_run_async` will not call `transform_cell` automatically in the future. Please pass the result to `transformed_cell` argument and any exception that happen during thetransform in `preprocessing_exc_tuple` in IPython 7.17 and above.\n",
            "  and should_run_async(code)\n"
          ]
        },
        {
          "output_type": "display_data",
          "data": {
            "text/plain": [
              "<Figure size 1500x1000 with 1 Axes>"
            ],
            "image/png": "[encoded data removed]"
          },
          "metadata": {}
        }
      ],
      "source": [
        "plt.figure(figsize=(15, 10))\n",
        "plt.title(\"Dendrogram\")\n",
        "dend = shc.dendrogram(shc.linkage(df_movies, method='ward', metric='euclidean'))\n",
        "plt.show()"
      ]
    },
    {
      "cell_type": "markdown",
      "id": "0507ea4b",
      "metadata": {
        "id": "0507ea4b"
      },
      "source": [
        "The dendrogram above serves as an illustration of hierarchical relationships between data elements and sets of data within the given sample. It can be observed that the dendogram gets more and more complex as it descends, meaning that larger clusters are being split into smaller ones.\n",
        "\n",
        "If we draw a line in the upper part of the dendrogram, we will obtain fewer clusters with more general characteristics dividing elements into them. Conversely, if we draw a line in the lower part of the dendrogram, we will obtain more clusters defined by more detailed and elaborate sets of characteristics.\n",
        "\n",
        "There is no sure-fire way to identify the best number of clusters. A rule of thumb is that too many is bad because it can lead to overfitting, and too few is bad because such division would not be useful and informative enough. Therefore, I would draw a line right before different colors emerge on the dendrogram, namely, at the height 4.5."
      ]
    },
    {
      "cell_type": "code",
      "execution_count": 7,
      "id": "0da9c01c",
      "metadata": {
        "colab": {
          "base_uri": "https://localhost:8080/",
          "height": 876
        },
        "id": "0da9c01c",
        "outputId": "f94be2e1-128b-4372-cdc5-f6b938301717"
      },
      "outputs": [
        {
          "output_type": "stream",
          "name": "stderr",
          "text": [
            "/usr/local/lib/python3.10/dist-packages/ipykernel/ipkernel.py:283: DeprecationWarning: `should_run_async` will not call `transform_cell` automatically in the future. Please pass the result to `transformed_cell` argument and any exception that happen during thetransform in `preprocessing_exc_tuple` in IPython 7.17 and above.\n",
            "  and should_run_async(code)\n"
          ]
        },
        {
          "output_type": "display_data",
          "data": {
            "text/plain": [
              "<Figure size 1500x1000 with 1 Axes>"
            ],
            "image/png": "[encoded data removed]"
          },
          "metadata": {}
        }
      ],
      "source": [
        "plt.figure(figsize=(15, 10))\n",
        "plt.title(\"Dendrogram\")\n",
        "dend = shc.dendrogram(shc.linkage(df_movies, method='ward', metric='euclidean'))\n",
        "\n",
        "# Add a horizontal line to the dendrogram\n",
        "plt.axhline(y=4.5, color='r', linestyle='--')\n",
        "\n",
        "plt.show()"
      ]
    },
    {
      "cell_type": "markdown",
      "id": "d11fe701",
      "metadata": {
        "id": "d11fe701"
      },
      "source": [
        "The red line drawn at the height 4.5 crosses 4 \"branches\" of the dendrogram, meaning that by cutting at this level we obtain 4 clusters. Is it an optimal number of clusters? We cannot say. Maybe drawing a line slightly lower or higher would be more useful.\n",
        "\n",
        "I based my choice on my subjective perception of the task at hand. Here are my main assumptions:\n",
        "* Since the dataset contains ratings of movies by the users, our main goal would be segmentation of these users. Too much fragmentation (in other words, too many clusters) would lead to unnecessary complexity.\n",
        "* Yet, we need to be careful not to pick clusters that are too general to be informative. Tastes of users can be unified, but only to a certain point, past which such unification will no longer be of any use.\n",
        "* Below 4 on the graph the dendrogram starts to actively branch off, there emerge different colors (done automatically). It seems logical to cut above that point to avoid extra complexity.\n",
        "\n",
        "One of the ways to check whether the original guess concerning the number of clusters was good or not is to implement the Elbow method."
      ]
    },
    {
      "cell_type": "markdown",
      "id": "9783cb37-9721-436d-8915-abbde7c3ee17",
      "metadata": {
        "id": "9783cb37-9721-436d-8915-abbde7c3ee17"
      },
      "source": [
        "- Implement the Elbow method to determine the optimum number of cluster for K-Means algorithm (use `random_state=17` as parameter of K-Means).\n",
        "- Based on the Elbow method, how many clusters do you think is optimal? Briefly justify your answer."
      ]
    },
    {
      "cell_type": "code",
      "execution_count": 8,
      "id": "5a5bcfd7-156e-4168-a618-94a11ddf2bdb",
      "metadata": {
        "colab": {
          "base_uri": "https://localhost:8080/",
          "height": 978
        },
        "id": "5a5bcfd7-156e-4168-a618-94a11ddf2bdb",
        "outputId": "274bda3a-8897-473f-a657-2f9695d167c1"
      },
      "outputs": [
        {
          "output_type": "stream",
          "name": "stderr",
          "text": [
            "/usr/local/lib/python3.10/dist-packages/ipykernel/ipkernel.py:283: DeprecationWarning: `should_run_async` will not call `transform_cell` automatically in the future. Please pass the result to `transformed_cell` argument and any exception that happen during thetransform in `preprocessing_exc_tuple` in IPython 7.17 and above.\n",
            "  and should_run_async(code)\n",
            "/usr/local/lib/python3.10/dist-packages/sklearn/cluster/_kmeans.py:870: FutureWarning: The default value of `n_init` will change from 10 to 'auto' in 1.4. Set the value of `n_init` explicitly to suppress the warning\n",
            "  warnings.warn(\n",
            "/usr/local/lib/python3.10/dist-packages/sklearn/cluster/_kmeans.py:870: FutureWarning: The default value of `n_init` will change from 10 to 'auto' in 1.4. Set the value of `n_init` explicitly to suppress the warning\n",
            "  warnings.warn(\n",
            "/usr/local/lib/python3.10/dist-packages/sklearn/cluster/_kmeans.py:870: FutureWarning: The default value of `n_init` will change from 10 to 'auto' in 1.4. Set the value of `n_init` explicitly to suppress the warning\n",
            "  warnings.warn(\n",
            "/usr/local/lib/python3.10/dist-packages/sklearn/cluster/_kmeans.py:870: FutureWarning: The default value of `n_init` will change from 10 to 'auto' in 1.4. Set the value of `n_init` explicitly to suppress the warning\n",
            "  warnings.warn(\n",
            "/usr/local/lib/python3.10/dist-packages/sklearn/cluster/_kmeans.py:870: FutureWarning: The default value of `n_init` will change from 10 to 'auto' in 1.4. Set the value of `n_init` explicitly to suppress the warning\n",
            "  warnings.warn(\n",
            "/usr/local/lib/python3.10/dist-packages/sklearn/cluster/_kmeans.py:870: FutureWarning: The default value of `n_init` will change from 10 to 'auto' in 1.4. Set the value of `n_init` explicitly to suppress the warning\n",
            "  warnings.warn(\n",
            "/usr/local/lib/python3.10/dist-packages/sklearn/cluster/_kmeans.py:870: FutureWarning: The default value of `n_init` will change from 10 to 'auto' in 1.4. Set the value of `n_init` explicitly to suppress the warning\n",
            "  warnings.warn(\n",
            "/usr/local/lib/python3.10/dist-packages/sklearn/cluster/_kmeans.py:870: FutureWarning: The default value of `n_init` will change from 10 to 'auto' in 1.4. Set the value of `n_init` explicitly to suppress the warning\n",
            "  warnings.warn(\n",
            "/usr/local/lib/python3.10/dist-packages/sklearn/cluster/_kmeans.py:870: FutureWarning: The default value of `n_init` will change from 10 to 'auto' in 1.4. Set the value of `n_init` explicitly to suppress the warning\n",
            "  warnings.warn(\n",
            "/usr/local/lib/python3.10/dist-packages/sklearn/cluster/_kmeans.py:870: FutureWarning: The default value of `n_init` will change from 10 to 'auto' in 1.4. Set the value of `n_init` explicitly to suppress the warning\n",
            "  warnings.warn(\n",
            "/usr/local/lib/python3.10/dist-packages/sklearn/cluster/_kmeans.py:870: FutureWarning: The default value of `n_init` will change from 10 to 'auto' in 1.4. Set the value of `n_init` explicitly to suppress the warning\n",
            "  warnings.warn(\n",
            "/usr/local/lib/python3.10/dist-packages/sklearn/cluster/_kmeans.py:870: FutureWarning: The default value of `n_init` will change from 10 to 'auto' in 1.4. Set the value of `n_init` explicitly to suppress the warning\n",
            "  warnings.warn(\n",
            "/usr/local/lib/python3.10/dist-packages/sklearn/cluster/_kmeans.py:870: FutureWarning: The default value of `n_init` will change from 10 to 'auto' in 1.4. Set the value of `n_init` explicitly to suppress the warning\n",
            "  warnings.warn(\n"
          ]
        },
        {
          "output_type": "display_data",
          "data": {
            "text/plain": [
              "<Figure size 640x480 with 1 Axes>"
            ],
            "image/png": "[encoded data removed]"
          },
          "metadata": {}
        }
      ],
      "source": [
        "inertias = []\n",
        "nbr_clusters = range(2,15)\n",
        "\n",
        "for i in nbr_clusters:\n",
        "    km = KMeans(n_clusters=i, random_state=17).fit(df_movies)  # Create and fit model\n",
        "    inertias.append(km.inertia_)     # Store inertia\n",
        "\n",
        "# Plot\n",
        "plt.plot(nbr_clusters, inertias, '-o')\n",
        "plt.xticks(nbr_clusters)\n",
        "plt.vlines(x=4,ymin=0,ymax=80,linestyles='--', color='r')\n",
        "plt.text(x=4.25,y=70, s='4 clusters seem optimal', fontsize=10)\n",
        "plt.title('Elbow method for inertia')\n",
        "plt.xlabel('Number of clusters (k)')\n",
        "plt.ylabel('Inertia')\n",
        "plt.show()"
      ]
    },
    {
      "cell_type": "markdown",
      "id": "26bf7bfd",
      "metadata": {
        "id": "26bf7bfd"
      },
      "source": [
        "The graph above illustrates that the original assumption concerning the optimal number of clusters was a good one. Looking at the blue line, we can notice the steep decline in inertia on the segment from 2 to 4 clusters. After 4 clusters the line crawls down slowly, meaning that we do not gain much from adding each extra cluster.\n",
        "\n",
        "Taking into consideration the explanations given above, I conclude that 4 is a suitable number of clusters that I can use in my analysis."
      ]
    },
    {
      "cell_type": "markdown",
      "id": "b380737c-27d5-4e77-b47f-fe955e0c3e52",
      "metadata": {
        "id": "b380737c-27d5-4e77-b47f-fe955e0c3e52"
      },
      "source": [
        "- Implement (train) a K-Means algorithm with the number of clusters of your choice. Use `random_state=17` as parameter."
      ]
    },
    {
      "cell_type": "code",
      "execution_count": 9,
      "id": "909c937a-c278-49d6-8af0-c972172864a1",
      "metadata": {
        "colab": {
          "base_uri": "https://localhost:8080/"
        },
        "id": "909c937a-c278-49d6-8af0-c972172864a1",
        "outputId": "790c6568-de4a-487e-cc13-9c8bd8fe4321"
      },
      "outputs": [
        {
          "output_type": "stream",
          "name": "stdout",
          "text": [
            "[[1.4776 3.2559]\n",
            " [2.835  2.866 ]\n",
            " [3.8771 2.4212]\n",
            " [2.9287 3.6054]]\n"
          ]
        },
        {
          "output_type": "stream",
          "name": "stderr",
          "text": [
            "/usr/local/lib/python3.10/dist-packages/ipykernel/ipkernel.py:283: DeprecationWarning: `should_run_async` will not call `transform_cell` automatically in the future. Please pass the result to `transformed_cell` argument and any exception that happen during thetransform in `preprocessing_exc_tuple` in IPython 7.17 and above.\n",
            "  and should_run_async(code)\n",
            "/usr/local/lib/python3.10/dist-packages/sklearn/cluster/_kmeans.py:870: FutureWarning: The default value of `n_init` will change from 10 to 'auto' in 1.4. Set the value of `n_init` explicitly to suppress the warning\n",
            "  warnings.warn(\n"
          ]
        }
      ],
      "source": [
        "kmeans = KMeans(n_clusters=4, random_state=17) #3 clusters\n",
        "kmeans.fit(df_movies)\n",
        "print(kmeans.cluster_centers_)"
      ]
    },
    {
      "cell_type": "markdown",
      "id": "d3f06e39",
      "metadata": {
        "id": "d3f06e39"
      },
      "source": [
        "The matrix displayed above corresponds to the coordinates of the centers of the 4 clusters. Next we can look at the labels assigned to each of the observations, in other words, - to which cluster each user was attributed."
      ]
    },
    {
      "cell_type": "code",
      "execution_count": 10,
      "id": "b289c4e3",
      "metadata": {
        "colab": {
          "base_uri": "https://localhost:8080/"
        },
        "id": "b289c4e3",
        "outputId": "34bc05ef-63ae-4d2a-e1af-8c7f5669965d"
      },
      "outputs": [
        {
          "output_type": "stream",
          "name": "stderr",
          "text": [
            "/usr/local/lib/python3.10/dist-packages/ipykernel/ipkernel.py:283: DeprecationWarning: `should_run_async` will not call `transform_cell` automatically in the future. Please pass the result to `transformed_cell` argument and any exception that happen during thetransform in `preprocessing_exc_tuple` in IPython 7.17 and above.\n",
            "  and should_run_async(code)\n"
          ]
        },
        {
          "output_type": "execute_result",
          "data": {
            "text/plain": [
              "array([2, 1, 0, 1, 3, 1, 3, 3, 3, 1, 1, 1, 0, 3, 3, 1, 1, 2, 0, 1, 3, 3,\n",
              "       1, 3, 3, 2, 3, 1, 1, 0, 3, 1, 1, 3, 3, 3, 3, 1, 1, 3, 3, 1, 1, 3,\n",
              "       0, 3, 1, 3, 3, 3, 3, 3, 1, 1, 3, 1, 3, 1, 2, 1, 3, 0, 2, 3, 2, 1,\n",
              "       3, 3, 1, 1, 1, 1, 3, 3, 0, 1, 1, 1, 1, 2, 1, 1, 3, 1, 3, 3, 3, 0,\n",
              "       0, 1, 1, 3, 2, 1, 0, 3, 3, 1, 1, 3, 1, 2, 1, 1, 1, 0, 1, 0, 0, 3,\n",
              "       1, 1, 3, 1, 1, 0, 1, 1, 1, 1, 3, 3, 0, 1, 0, 1, 3, 1, 1, 2, 1, 1,\n",
              "       2, 1, 3, 3, 3, 1, 2, 1, 2, 2, 2, 3, 3, 3, 2, 3, 1, 1, 1, 1, 1, 1,\n",
              "       1, 1, 3, 3, 3, 2, 3, 3, 3, 1, 3, 3, 0], dtype=int32)"
            ]
          },
          "metadata": {},
          "execution_count": 10
        }
      ],
      "source": [
        "kmeans.labels_"
      ]
    },
    {
      "cell_type": "markdown",
      "id": "ebcb2d01",
      "metadata": {
        "id": "ebcb2d01"
      },
      "source": [
        "This is not the most informative way to present such data. It is confusing and hard to interpret. That is why I decided to plot a scatterplot, where each of the 4 clusters is marked by a different color."
      ]
    },
    {
      "cell_type": "code",
      "execution_count": 11,
      "id": "c212ecb3",
      "metadata": {
        "colab": {
          "base_uri": "https://localhost:8080/",
          "height": 527
        },
        "id": "c212ecb3",
        "outputId": "3c9c8ab2-d7fe-4b14-ea94-acf901bd7bd3"
      },
      "outputs": [
        {
          "output_type": "stream",
          "name": "stderr",
          "text": [
            "/usr/local/lib/python3.10/dist-packages/ipykernel/ipkernel.py:283: DeprecationWarning: `should_run_async` will not call `transform_cell` automatically in the future. Please pass the result to `transformed_cell` argument and any exception that happen during thetransform in `preprocessing_exc_tuple` in IPython 7.17 and above.\n",
            "  and should_run_async(code)\n"
          ]
        },
        {
          "output_type": "display_data",
          "data": {
            "text/plain": [
              "<Figure size 640x480 with 1 Axes>"
            ],
            "image/png": "[encoded data removed]"
          },
          "metadata": {}
        }
      ],
      "source": [
        "x = df_movies['avg_scifi_rating']\n",
        "y = df_movies['avg_comedy_rating']\n",
        "plt.scatter(x, y, c=kmeans.labels_, cmap='cool')\n",
        "plt.title('K-means clustering')\n",
        "plt.xlabel('Average scifi rating')\n",
        "plt.ylabel('Average comedy rating')\n",
        "plt.show()"
      ]
    },
    {
      "cell_type": "markdown",
      "id": "f8764426",
      "metadata": {
        "id": "f8764426"
      },
      "source": [
        "Judging by the scatterplot above, we can infer that the algorithm has identified avid scifi fans (purple), those who love to laugh (pale blue), people who rate everyhting well (pink) and those who are very hard to please (dark blue).\n",
        "\n",
        "Even though it seems like a very clear and accurate way to draw 4 clusters out of the given data elements, it is not the only way."
      ]
    },
    {
      "cell_type": "markdown",
      "id": "088087b0-c0d5-4b14-b9f9-db39cf63652c",
      "metadata": {
        "id": "088087b0-c0d5-4b14-b9f9-db39cf63652c"
      },
      "source": [
        "- Implement (train) a hierarchical algorithm with the same number of clusters as for the K-Means model. Use \"ward\" as linkage method and \"euclidean\" as metric/affinity"
      ]
    },
    {
      "cell_type": "code",
      "execution_count": 12,
      "id": "54fc05f2-78a3-4e36-bc9d-a9aef8a83249",
      "metadata": {
        "colab": {
          "base_uri": "https://localhost:8080/"
        },
        "id": "54fc05f2-78a3-4e36-bc9d-a9aef8a83249",
        "outputId": "d2c1bd50-5a1c-44a2-8951-52f791bb8755"
      },
      "outputs": [
        {
          "output_type": "stream",
          "name": "stdout",
          "text": [
            "[2 3 0 2 0 0 0 0 0 3 3 0 1 0 0 2 0 2 0 2 0 0 0 0 0 2 0 0 3 1 0 3 0 0 0 0 0\n",
            " 0 3 0 0 3 3 0 1 0 3 0 0 0 0 0 3 3 0 3 0 0 2 0 0 0 2 0 2 0 0 0 3 0 3 3 0 0\n",
            " 1 3 0 3 3 2 2 0 0 2 0 0 0 1 1 3 3 0 2 0 1 0 0 3 3 0 3 2 0 3 2 0 0 3 1 0 3\n",
            " 3 0 3 3 1 3 0 3 3 0 0 1 0 1 3 0 0 3 2 3 2 2 2 0 0 0 2 2 3 2 2 2 0 0 0 2 0\n",
            " 0 3 0 0 0 3 0 2 0 0 0 2 0 0 0 0 0 0 0]\n"
          ]
        },
        {
          "output_type": "stream",
          "name": "stderr",
          "text": [
            "/usr/local/lib/python3.10/dist-packages/ipykernel/ipkernel.py:283: DeprecationWarning: `should_run_async` will not call `transform_cell` automatically in the future. Please pass the result to `transformed_cell` argument and any exception that happen during thetransform in `preprocessing_exc_tuple` in IPython 7.17 and above.\n",
            "  and should_run_async(code)\n",
            "/usr/local/lib/python3.10/dist-packages/sklearn/cluster/_agglomerative.py:983: FutureWarning: Attribute `affinity` was deprecated in version 1.2 and will be removed in 1.4. Use `metric` instead\n",
            "  warnings.warn(\n"
          ]
        }
      ],
      "source": [
        "agglomerative = AgglomerativeClustering(n_clusters=4, affinity='euclidean', linkage='ward')\n",
        "\n",
        "agglomerative.fit(df_movies)\n",
        "\n",
        "print(agglomerative.labels_)"
      ]
    },
    {
      "cell_type": "markdown",
      "id": "ff5d5561",
      "metadata": {
        "id": "ff5d5561"
      },
      "source": [
        "A different algorithm has assigned different labels to the same data.\n",
        "\n",
        "As in the previous example, I will create a scatterplot for better visualization."
      ]
    },
    {
      "cell_type": "code",
      "execution_count": 13,
      "id": "02507974",
      "metadata": {
        "colab": {
          "base_uri": "https://localhost:8080/",
          "height": 527
        },
        "id": "02507974",
        "outputId": "a49ce7c3-273e-4358-d3a3-94c6a8ad0ef3"
      },
      "outputs": [
        {
          "output_type": "stream",
          "name": "stderr",
          "text": [
            "/usr/local/lib/python3.10/dist-packages/ipykernel/ipkernel.py:283: DeprecationWarning: `should_run_async` will not call `transform_cell` automatically in the future. Please pass the result to `transformed_cell` argument and any exception that happen during thetransform in `preprocessing_exc_tuple` in IPython 7.17 and above.\n",
            "  and should_run_async(code)\n"
          ]
        },
        {
          "output_type": "display_data",
          "data": {
            "text/plain": [
              "<Figure size 640x480 with 1 Axes>"
            ],
            "image/png": "[encoded data removed]"
          },
          "metadata": {}
        }
      ],
      "source": [
        "x = df_movies['avg_scifi_rating']\n",
        "y = df_movies['avg_comedy_rating']\n",
        "plt.scatter(x, y, c=agglomerative.labels_, cmap='jet')\n",
        "plt.title('Hierarchical clustering')\n",
        "plt.xlabel('Average scifi rating')\n",
        "plt.ylabel('Average comedy rating')\n",
        "plt.show()"
      ]
    },
    {
      "cell_type": "markdown",
      "id": "c21710c5",
      "metadata": {
        "id": "c21710c5"
      },
      "source": [
        "On the face of it, it seems like the clusters are more or less the same. In order to spot the differences, I will compare the two scatterplots drawn next to each other."
      ]
    },
    {
      "cell_type": "markdown",
      "id": "936ecb5f-3c7c-469d-b504-98a6c6e8f082",
      "metadata": {
        "id": "936ecb5f-3c7c-469d-b504-98a6c6e8f082"
      },
      "source": [
        "- Create a figure consisting of two subplots:\n",
        "    - a scatterplot of 'avg_scifi_rating' and 'avg_comedy_rating' colored by the clusters predicted with your KMeans model. Add the cluster centers to your plot. Label your clusters with the name of your choice (e.g., \"Comedy aficionado\").\n",
        "    - a scatterplot of 'avg_scifi_rating' and 'avg_comedy_rating' colored by the clusters predicted with your hierarchical algorithm model. Label your clusters with the name of your choice.\n",
        "- How do your models compare?"
      ]
    },
    {
      "cell_type": "code",
      "execution_count": 14,
      "id": "bca3941a",
      "metadata": {
        "scrolled": false,
        "colab": {
          "base_uri": "https://localhost:8080/",
          "height": 536
        },
        "id": "bca3941a",
        "outputId": "b000306b-f21a-4549-ff83-0bd093f2fbe1"
      },
      "outputs": [
        {
          "output_type": "stream",
          "name": "stderr",
          "text": [
            "/usr/local/lib/python3.10/dist-packages/ipykernel/ipkernel.py:283: DeprecationWarning: `should_run_async` will not call `transform_cell` automatically in the future. Please pass the result to `transformed_cell` argument and any exception that happen during thetransform in `preprocessing_exc_tuple` in IPython 7.17 and above.\n",
            "  and should_run_async(code)\n",
            "<ipython-input-14-f61b61d6994a>:37: UserWarning: Legend does not support handles for Legend instances.\n",
            "A proxy artist may be used instead.\n",
            "See: https://matplotlib.org/stable/tutorials/intermediate/legend_guide.html#controlling-the-legend-entries\n",
            "  fig.legend([legend1, legend2], [\"K-means clustering\", \"Hierarchical clustering\"], loc='right')\n"
          ]
        },
        {
          "output_type": "display_data",
          "data": {
            "text/plain": [
              "<Figure size 1500x500 with 2 Axes>"
            ],
            "image/png": "[encoded data removed]"
          },
          "metadata": {}
        }
      ],
      "source": [
        "fig, ax = plt.subplots(1, 2, figsize=(15, 5))\n",
        "\n",
        "# Scatter plot, K-means\n",
        "scatter1 = ax[0].scatter(df_movies['avg_scifi_rating'],\n",
        "                          df_movies['avg_comedy_rating'],\n",
        "                          c=kmeans.labels_,\n",
        "                          cmap='spring')\n",
        "ax[0].scatter(kmeans.cluster_centers_[:, 0],\n",
        "              kmeans.cluster_centers_[:, 1],\n",
        "              c=\"black\",\n",
        "              marker='x')\n",
        "ax[0].set_xlabel('Scifi rating')\n",
        "ax[0].set_ylabel('Comedy rating')\n",
        "ax[0].set_title('K-means clustering')\n",
        "\n",
        "# Scatter plot of clusters, Hierarchy\n",
        "scatter2 = ax[1].scatter(df_movies['avg_scifi_rating'],\n",
        "                          df_movies['avg_comedy_rating'],\n",
        "                          c=agglomerative.labels_,\n",
        "                          cmap='summer')\n",
        "ax[1].set_xlabel('Scifi rating')\n",
        "ax[1].set_ylabel('Comedy rating')\n",
        "ax[1].set_title('Hierarchical clustering')\n",
        "\n",
        "# Add legends\n",
        "handles1, labels1 = scatter1.legend_elements()\n",
        "#labels1 = ['Cluster {}'.format(i) for i in np.unique(kmeans.labels_)]\n",
        "labels1 = ['Love to laugh', 'Hard to please', 'Scifi fans', 'Any genre is good']\n",
        "legend1 = ax[0].legend(handles1, labels1, loc=\"best\")\n",
        "\n",
        "handles2, labels2 = scatter2.legend_elements()\n",
        "#labels2 = ['Cluster {}'.format(i) for i in np.unique(agglomerative.labels_)]\n",
        "labels2 = ['Any genre is good', 'Love to laugh', 'Scifi fans', 'Hard to please']\n",
        "legend2 = ax[1].legend(handles2, labels2, loc=\"best\")\n",
        "\n",
        "# Add legends to the right of the subplots\n",
        "fig.legend([legend1, legend2], [\"K-means clustering\", \"Hierarchical clustering\"], loc='right')\n",
        "\n",
        "plt.subplots_adjust(wspace=0.4)\n",
        "plt.show()\n"
      ]
    },
    {
      "cell_type": "markdown",
      "id": "b213992b",
      "metadata": {
        "id": "b213992b"
      },
      "source": [
        "An attentive look at the subplots above would allow to spot the slight differences in the way two algorithms drew clusters. Even though the general image looks similar, some dots on the borders of clusters are assigned differently when k-means or hierarchical techniques are used. Yet, these discrepancies are not drastic, and overall we can identify same categories of users on both graphs:\n",
        "\n",
        "* **'love to laugh'** - those who rate comedies well and do not appreciate scifi genre as much, *left-hand side cluster*;\n",
        "* **'scifi fans'** - those who have an explicit preference for scifi movies and do not enjoy comedies as much, *right-hand side cluster*;\n",
        "* **'hard to please'** - the users that leave relatively bad reviews both for comedies and scifi films, *central-lower cluster*;\n",
        "* **'any genre is good'** - those who like both genres of movies, *central-upper cluster*.\n",
        "\n",
        "In case of the k-means algorithm, the 'love to laugh' cluster is bigger than in case of hierarchical algorithm. Among the comedy aficionados, identified by the former, the latter attributed 5 users to 'any genre is good' and placed 1 user in the 'hard to please' category.\n",
        "\n",
        "If we compare 'any genre is good' cluster, we will notice that this cluster is bigger on the second subplot. Same is true for 'scifi fans'. And the 'hard to please' category is bigger in the first subplot.\n",
        "\n",
        "On the first subplot we see the cluster centers marked with little black crosses."
      ]
    },
    {
      "cell_type": "markdown",
      "id": "a195ca1f-77d2-446f-a178-8665c213aef1",
      "metadata": {
        "id": "a195ca1f-77d2-446f-a178-8665c213aef1"
      },
      "source": [
        "## Association Rules: association between movie genres\n",
        "\n",
        "We will now pursue our analysis, but this time trying to dig out information about movies. More precisely, we will search for matches between film genres using association rules. We try to understand, for instance, how likely it is that a film is both drama and action. This information can be interesting for film producers who may either want to produce something similar to the established norm: if most drama films are also action, perhaps the new action-drama film would be equally appreciated, or quite to the contrary try a new combination of genres which is more rare to find."
      ]
    },
    {
      "cell_type": "markdown",
      "id": "abb45c9e-c071-4dad-8011-445ff946d797",
      "metadata": {
        "id": "abb45c9e-c071-4dad-8011-445ff946d797"
      },
      "source": [
        "- Load the data in a dataframe. The url link is provided below.\n",
        "- Display the first 10 observations.\n",
        "- Print the unique values of genres from the first column.\n",
        "- How many unique genres does the first column contain?\n",
        "- How many movies does the dataframe contain?"
      ]
    },
    {
      "cell_type": "code",
      "execution_count": 15,
      "id": "764800a3-1399-480f-abb3-d79609193866",
      "metadata": {
        "colab": {
          "base_uri": "https://localhost:8080/",
          "height": 417
        },
        "id": "764800a3-1399-480f-abb3-d79609193866",
        "outputId": "1252f06d-e199-43a9-8171-3de753e9adff"
      },
      "outputs": [
        {
          "output_type": "stream",
          "name": "stderr",
          "text": [
            "/usr/local/lib/python3.10/dist-packages/ipykernel/ipkernel.py:283: DeprecationWarning: `should_run_async` will not call `transform_cell` automatically in the future. Please pass the result to `transformed_cell` argument and any exception that happen during thetransform in `preprocessing_exc_tuple` in IPython 7.17 and above.\n",
            "  and should_run_async(code)\n"
          ]
        },
        {
          "output_type": "execute_result",
          "data": {
            "text/plain": [
              "           0          1         2       3        4    5    6    7    8    9\n",
              "0  Adventure  Animation  Children  Comedy  Fantasy  NaN  NaN  NaN  NaN  NaN\n",
              "1  Adventure   Children   Fantasy     NaN      NaN  NaN  NaN  NaN  NaN  NaN\n",
              "2     Comedy    Romance       NaN     NaN      NaN  NaN  NaN  NaN  NaN  NaN\n",
              "3     Comedy      Drama   Romance     NaN      NaN  NaN  NaN  NaN  NaN  NaN\n",
              "4     Comedy        NaN       NaN     NaN      NaN  NaN  NaN  NaN  NaN  NaN\n",
              "5     Action      Crime  Thriller     NaN      NaN  NaN  NaN  NaN  NaN  NaN\n",
              "6     Comedy    Romance       NaN     NaN      NaN  NaN  NaN  NaN  NaN  NaN\n",
              "7  Adventure   Children       NaN     NaN      NaN  NaN  NaN  NaN  NaN  NaN\n",
              "8     Action        NaN       NaN     NaN      NaN  NaN  NaN  NaN  NaN  NaN\n",
              "9     Action  Adventure  Thriller     NaN      NaN  NaN  NaN  NaN  NaN  NaN"
            ],
            "text/html": [
              "\n",
              "  <div id=\"df-553717e1-8286-43dc-b56e-6c3c68bd62db\" class=\"colab-df-container\">\n",
              "    <div>\n",
              "<style scoped>\n",
              "    .dataframe tbody tr th:only-of-type {\n",
              "        vertical-align: middle;\n",
              "    }\n",
              "\n",
              "    .dataframe tbody tr th {\n",
              "        vertical-align: top;\n",
              "    }\n",
              "\n",
              "    .dataframe thead th {\n",
              "        text-align: right;\n",
              "    }\n",
              "</style>\n",
              "<table border=\"1\" class=\"dataframe\">\n",
              "  <thead>\n",
              "    <tr style=\"text-align: right;\">\n",
              "      <th></th>\n",
              "      <th>0</th>\n",
              "      <th>1</th>\n",
              "      <th>2</th>\n",
              "      <th>3</th>\n",
              "      <th>4</th>\n",
              "      <th>5</th>\n",
              "      <th>6</th>\n",
              "      <th>7</th>\n",
              "      <th>8</th>\n",
              "      <th>9</th>\n",
              "    </tr>\n",
              "  </thead>\n",
              "  <tbody>\n",
              "    <tr>\n",
              "      <th>0</th>\n",
              "      <td>Adventure</td>\n",
              "      <td>Animation</td>\n",
              "      <td>Children</td>\n",
              "      <td>Comedy</td>\n",
              "      <td>Fantasy</td>\n",
              "      <td>NaN</td>\n",
              "      <td>NaN</td>\n",
              "      <td>NaN</td>\n",
              "      <td>NaN</td>\n",
              "      <td>NaN</td>\n",
              "    </tr>\n",
              "    <tr>\n",
              "      <th>1</th>\n",
              "      <td>Adventure</td>\n",
              "      <td>Children</td>\n",
              "      <td>Fantasy</td>\n",
              "      <td>NaN</td>\n",
              "      <td>NaN</td>\n",
              "      <td>NaN</td>\n",
              "      <td>NaN</td>\n",
              "      <td>NaN</td>\n",
              "      <td>NaN</td>\n",
              "      <td>NaN</td>\n",
              "    </tr>\n",
              "    <tr>\n",
              "      <th>2</th>\n",
              "      <td>Comedy</td>\n",
              "      <td>Romance</td>\n",
              "      <td>NaN</td>\n",
              "      <td>NaN</td>\n",
              "      <td>NaN</td>\n",
              "      <td>NaN</td>\n",
              "      <td>NaN</td>\n",
              "      <td>NaN</td>\n",
              "      <td>NaN</td>\n",
              "      <td>NaN</td>\n",
              "    </tr>\n",
              "    <tr>\n",
              "      <th>3</th>\n",
              "      <td>Comedy</td>\n",
              "      <td>Drama</td>\n",
              "      <td>Romance</td>\n",
              "      <td>NaN</td>\n",
              "      <td>NaN</td>\n",
              "      <td>NaN</td>\n",
              "      <td>NaN</td>\n",
              "      <td>NaN</td>\n",
              "      <td>NaN</td>\n",
              "      <td>NaN</td>\n",
              "    </tr>\n",
              "    <tr>\n",
              "      <th>4</th>\n",
              "      <td>Comedy</td>\n",
              "      <td>NaN</td>\n",
              "      <td>NaN</td>\n",
              "      <td>NaN</td>\n",
              "      <td>NaN</td>\n",
              "      <td>NaN</td>\n",
              "      <td>NaN</td>\n",
              "      <td>NaN</td>\n",
              "      <td>NaN</td>\n",
              "      <td>NaN</td>\n",
              "    </tr>\n",
              "    <tr>\n",
              "      <th>5</th>\n",
              "      <td>Action</td>\n",
              "      <td>Crime</td>\n",
              "      <td>Thriller</td>\n",
              "      <td>NaN</td>\n",
              "      <td>NaN</td>\n",
              "      <td>NaN</td>\n",
              "      <td>NaN</td>\n",
              "      <td>NaN</td>\n",
              "      <td>NaN</td>\n",
              "      <td>NaN</td>\n",
              "    </tr>\n",
              "    <tr>\n",
              "      <th>6</th>\n",
              "      <td>Comedy</td>\n",
              "      <td>Romance</td>\n",
              "      <td>NaN</td>\n",
              "      <td>NaN</td>\n",
              "      <td>NaN</td>\n",
              "      <td>NaN</td>\n",
              "      <td>NaN</td>\n",
              "      <td>NaN</td>\n",
              "      <td>NaN</td>\n",
              "      <td>NaN</td>\n",
              "    </tr>\n",
              "    <tr>\n",
              "      <th>7</th>\n",
              "      <td>Adventure</td>\n",
              "      <td>Children</td>\n",
              "      <td>NaN</td>\n",
              "      <td>NaN</td>\n",
              "      <td>NaN</td>\n",
              "      <td>NaN</td>\n",
              "      <td>NaN</td>\n",
              "      <td>NaN</td>\n",
              "      <td>NaN</td>\n",
              "      <td>NaN</td>\n",
              "    </tr>\n",
              "    <tr>\n",
              "      <th>8</th>\n",
              "      <td>Action</td>\n",
              "      <td>NaN</td>\n",
              "      <td>NaN</td>\n",
              "      <td>NaN</td>\n",
              "      <td>NaN</td>\n",
              "      <td>NaN</td>\n",
              "      <td>NaN</td>\n",
              "      <td>NaN</td>\n",
              "      <td>NaN</td>\n",
              "      <td>NaN</td>\n",
              "    </tr>\n",
              "    <tr>\n",
              "      <th>9</th>\n",
              "      <td>Action</td>\n",
              "      <td>Adventure</td>\n",
              "      <td>Thriller</td>\n",
              "      <td>NaN</td>\n",
              "      <td>NaN</td>\n",
              "      <td>NaN</td>\n",
              "      <td>NaN</td>\n",
              "      <td>NaN</td>\n",
              "      <td>NaN</td>\n",
              "      <td>NaN</td>\n",
              "    </tr>\n",
              "  </tbody>\n",
              "</table>\n",
              "</div>\n",
              "    <div class=\"colab-df-buttons\">\n",
              "\n",
              "  <div class=\"colab-df-container\">\n",
              "    <button class=\"colab-df-convert\" onclick=\"convertToInteractive('df-553717e1-8286-43dc-b56e-6c3c68bd62db')\"\n",
              "            title=\"Convert this dataframe to an interactive table.\"\n",
              "            style=\"display:none;\">\n",
              "\n",
              "  <svg xmlns=\"http://www.w3.org/2000/svg\" height=\"24px\" viewBox=\"0 -960 960 960\">\n",
              "    <path d=\"M120-120v-720h720v720H120Zm60-500h600v-160H180v160Zm220 220h160v-160H400v160Zm0 220h160v-160H400v160ZM180-400h160v-160H180v160Zm440 0h160v-160H620v160ZM180-180h160v-160H180v160Zm440 0h160v-160H620v160Z\"/>\n",
              "  </svg>\n",
              "    </button>\n",
              "\n",
              "  <style>\n",
              "    .colab-df-container {\n",
              "      display:flex;\n",
              "      gap: 12px;\n",
              "    }\n",
              "\n",
              "    .colab-df-convert {\n",
              "      background-color: #E8F0FE;\n",
              "      border: none;\n",
              "      border-radius: 50%;\n",
              "      cursor: pointer;\n",
              "      display: none;\n",
              "      fill: #1967D2;\n",
              "      height: 32px;\n",
              "      padding: 0 0 0 0;\n",
              "      width: 32px;\n",
              "    }\n",
              "\n",
              "    .colab-df-convert:hover {\n",
              "      background-color: #E2EBFA;\n",
              "      box-shadow: 0px 1px 2px rgba(60, 64, 67, 0.3), 0px 1px 3px 1px rgba(60, 64, 67, 0.15);\n",
              "      fill: #174EA6;\n",
              "    }\n",
              "\n",
              "    .colab-df-buttons div {\n",
              "      margin-bottom: 4px;\n",
              "    }\n",
              "\n",
              "    [theme=dark] .colab-df-convert {\n",
              "      background-color: #3B4455;\n",
              "      fill: #D2E3FC;\n",
              "    }\n",
              "\n",
              "    [theme=dark] .colab-df-convert:hover {\n",
              "      background-color: #434B5C;\n",
              "      box-shadow: 0px 1px 3px 1px rgba(0, 0, 0, 0.15);\n",
              "      filter: drop-shadow(0px 1px 2px rgba(0, 0, 0, 0.3));\n",
              "      fill: #FFFFFF;\n",
              "    }\n",
              "  </style>\n",
              "\n",
              "    <script>\n",
              "      const buttonEl =\n",
              "        document.querySelector('#df-553717e1-8286-43dc-b56e-6c3c68bd62db button.colab-df-convert');\n",
              "      buttonEl.style.display =\n",
              "        google.colab.kernel.accessAllowed ? 'block' : 'none';\n",
              "\n",
              "      async function convertToInteractive(key) {\n",
              "        const element = document.querySelector('#df-553717e1-8286-43dc-b56e-6c3c68bd62db');\n",
              "        const dataTable =\n",
              "          await google.colab.kernel.invokeFunction('convertToInteractive',\n",
              "                                                    [key], {});\n",
              "        if (!dataTable) return;\n",
              "\n",
              "        const docLinkHtml = 'Like what you see? Visit the ' +\n",
              "          '<a target=\"_blank\" href=https://colab.research.google.com/notebooks/data_table.ipynb>data table notebook</a>'\n",
              "          + ' to learn more about interactive tables.';\n",
              "        element.innerHTML = '';\n",
              "        dataTable['output_type'] = 'display_data';\n",
              "        await google.colab.output.renderOutput(dataTable, element);\n",
              "        const docLink = document.createElement('div');\n",
              "        docLink.innerHTML = docLinkHtml;\n",
              "        element.appendChild(docLink);\n",
              "      }\n",
              "    </script>\n",
              "  </div>\n",
              "\n",
              "\n",
              "<div id=\"df-b07a61cb-8167-4ecd-8ba0-2ddf60a33f72\">\n",
              "  <button class=\"colab-df-quickchart\" onclick=\"quickchart('df-b07a61cb-8167-4ecd-8ba0-2ddf60a33f72')\"\n",
              "            title=\"Suggest charts\"\n",
              "            style=\"display:none;\">\n",
              "\n",
              "<svg xmlns=\"http://www.w3.org/2000/svg\" height=\"24px\"viewBox=\"0 0 24 24\"\n",
              "     width=\"24px\">\n",
              "    <g>\n",
              "        <path d=\"M19 3H5c-1.1 0-2 .9-2 2v14c0 1.1.9 2 2 2h14c1.1 0 2-.9 2-2V5c0-1.1-.9-2-2-2zM9 17H7v-7h2v7zm4 0h-2V7h2v10zm4 0h-2v-4h2v4z\"/>\n",
              "    </g>\n",
              "</svg>\n",
              "  </button>\n",
              "\n",
              "<style>\n",
              "  .colab-df-quickchart {\n",
              "      --bg-color: #E8F0FE;\n",
              "      --fill-color: #1967D2;\n",
              "      --hover-bg-color: #E2EBFA;\n",
              "      --hover-fill-color: #174EA6;\n",
              "      --disabled-fill-color: #AAA;\n",
              "      --disabled-bg-color: #DDD;\n",
              "  }\n",
              "\n",
              "  [theme=dark] .colab-df-quickchart {\n",
              "      --bg-color: #3B4455;\n",
              "      --fill-color: #D2E3FC;\n",
              "      --hover-bg-color: #434B5C;\n",
              "      --hover-fill-color: #FFFFFF;\n",
              "      --disabled-bg-color: #3B4455;\n",
              "      --disabled-fill-color: #666;\n",
              "  }\n",
              "\n",
              "  .colab-df-quickchart {\n",
              "    background-color: var(--bg-color);\n",
              "    border: none;\n",
              "    border-radius: 50%;\n",
              "    cursor: pointer;\n",
              "    display: none;\n",
              "    fill: var(--fill-color);\n",
              "    height: 32px;\n",
              "    padding: 0;\n",
              "    width: 32px;\n",
              "  }\n",
              "\n",
              "  .colab-df-quickchart:hover {\n",
              "    background-color: var(--hover-bg-color);\n",
              "    box-shadow: 0 1px 2px rgba(60, 64, 67, 0.3), 0 1px 3px 1px rgba(60, 64, 67, 0.15);\n",
              "    fill: var(--button-hover-fill-color);\n",
              "  }\n",
              "\n",
              "  .colab-df-quickchart-complete:disabled,\n",
              "  .colab-df-quickchart-complete:disabled:hover {\n",
              "    background-color: var(--disabled-bg-color);\n",
              "    fill: var(--disabled-fill-color);\n",
              "    box-shadow: none;\n",
              "  }\n",
              "\n",
              "  .colab-df-spinner {\n",
              "    border: 2px solid var(--fill-color);\n",
              "    border-color: transparent;\n",
              "    border-bottom-color: var(--fill-color);\n",
              "    animation:\n",
              "      spin 1s steps(1) infinite;\n",
              "  }\n",
              "\n",
              "  @keyframes spin {\n",
              "    0% {\n",
              "      border-color: transparent;\n",
              "      border-bottom-color: var(--fill-color);\n",
              "      border-left-color: var(--fill-color);\n",
              "    }\n",
              "    20% {\n",
              "      border-color: transparent;\n",
              "      border-left-color: var(--fill-color);\n",
              "      border-top-color: var(--fill-color);\n",
              "    }\n",
              "    30% {\n",
              "      border-color: transparent;\n",
              "      border-left-color: var(--fill-color);\n",
              "      border-top-color: var(--fill-color);\n",
              "      border-right-color: var(--fill-color);\n",
              "    }\n",
              "    40% {\n",
              "      border-color: transparent;\n",
              "      border-right-color: var(--fill-color);\n",
              "      border-top-color: var(--fill-color);\n",
              "    }\n",
              "    60% {\n",
              "      border-color: transparent;\n",
              "      border-right-color: var(--fill-color);\n",
              "    }\n",
              "    80% {\n",
              "      border-color: transparent;\n",
              "      border-right-color: var(--fill-color);\n",
              "      border-bottom-color: var(--fill-color);\n",
              "    }\n",
              "    90% {\n",
              "      border-color: transparent;\n",
              "      border-bottom-color: var(--fill-color);\n",
              "    }\n",
              "  }\n",
              "</style>\n",
              "\n",
              "  <script>\n",
              "    async function quickchart(key) {\n",
              "      const quickchartButtonEl =\n",
              "        document.querySelector('#' + key + ' button');\n",
              "      quickchartButtonEl.disabled = true;  // To prevent multiple clicks.\n",
              "      quickchartButtonEl.classList.add('colab-df-spinner');\n",
              "      try {\n",
              "        const charts = await google.colab.kernel.invokeFunction(\n",
              "            'suggestCharts', [key], {});\n",
              "      } catch (error) {\n",
              "        console.error('Error during call to suggestCharts:', error);\n",
              "      }\n",
              "      quickchartButtonEl.classList.remove('colab-df-spinner');\n",
              "      quickchartButtonEl.classList.add('colab-df-quickchart-complete');\n",
              "    }\n",
              "    (() => {\n",
              "      let quickchartButtonEl =\n",
              "        document.querySelector('#df-b07a61cb-8167-4ecd-8ba0-2ddf60a33f72 button');\n",
              "      quickchartButtonEl.style.display =\n",
              "        google.colab.kernel.accessAllowed ? 'block' : 'none';\n",
              "    })();\n",
              "  </script>\n",
              "</div>\n",
              "    </div>\n",
              "  </div>\n"
            ],
            "application/vnd.google.colaboratory.intrinsic+json": {
              "type": "dataframe",
              "variable_name": "df_movies2",
              "summary": "{\n  \"name\": \"df_movies2\",\n  \"rows\": 27032,\n  \"fields\": [\n    {\n      \"column\": \"0\",\n      \"properties\": {\n        \"dtype\": \"category\",\n        \"num_unique_values\": 19,\n        \"samples\": [\n          \"Adventure\",\n          \"Children\",\n          \"Fantasy\"\n        ],\n        \"semantic_type\": \"\",\n        \"description\": \"\"\n      }\n    },\n    {\n      \"column\": \"1\",\n      \"properties\": {\n        \"dtype\": \"category\",\n        \"num_unique_values\": 18,\n        \"samples\": [\n          \"Animation\",\n          \"Children\",\n          \"Sci-Fi\"\n        ],\n        \"semantic_type\": \"\",\n        \"description\": \"\"\n      }\n    },\n    {\n      \"column\": \"2\",\n      \"properties\": {\n        \"dtype\": \"category\",\n        \"num_unique_values\": 17,\n        \"samples\": [\n          \"Children\",\n          \"Fantasy\",\n          \"Horror\"\n        ],\n        \"semantic_type\": \"\",\n        \"description\": \"\"\n      }\n    },\n    {\n      \"column\": \"3\",\n      \"properties\": {\n        \"dtype\": \"category\",\n        \"num_unique_values\": 16,\n        \"samples\": [\n          \"Comedy\",\n          \"Drama\",\n          \"Romance\"\n        ],\n        \"semantic_type\": \"\",\n        \"description\": \"\"\n      }\n    },\n    {\n      \"column\": \"4\",\n      \"properties\": {\n        \"dtype\": \"category\",\n        \"num_unique_values\": 14,\n        \"samples\": [\n          \"War\",\n          \"IMAX\",\n          \"Fantasy\"\n        ],\n        \"semantic_type\": \"\",\n        \"description\": \"\"\n      }\n    },\n    {\n      \"column\": \"5\",\n      \"properties\": {\n        \"dtype\": \"category\",\n        \"num_unique_values\": 10,\n        \"samples\": [\n          \"War\",\n          \"IMAX\",\n          \"Fantasy\"\n        ],\n        \"semantic_type\": \"\",\n        \"description\": \"\"\n      }\n    },\n    {\n      \"column\": \"6\",\n      \"properties\": {\n        \"dtype\": \"category\",\n        \"num_unique_values\": 8,\n        \"samples\": [\n          \"Mystery\",\n          \"IMAX\",\n          \"Romance\"\n        ],\n        \"semantic_type\": \"\",\n        \"description\": \"\"\n      }\n    },\n    {\n      \"column\": \"7\",\n      \"properties\": {\n        \"dtype\": \"category\",\n        \"num_unique_values\": 3,\n        \"samples\": [\n          \"Thriller\",\n          \"Romance\",\n          \"Mystery\"\n        ],\n        \"semantic_type\": \"\",\n        \"description\": \"\"\n      }\n    },\n    {\n      \"column\": \"8\",\n      \"properties\": {\n        \"dtype\": \"category\",\n        \"num_unique_values\": 1,\n        \"samples\": [\n          \"Thriller\"\n        ],\n        \"semantic_type\": \"\",\n        \"description\": \"\"\n      }\n    },\n    {\n      \"column\": \"9\",\n      \"properties\": {\n        \"dtype\": \"category\",\n        \"num_unique_values\": 1,\n        \"samples\": [\n          \"Western\"\n        ],\n        \"semantic_type\": \"\",\n        \"description\": \"\"\n      }\n    }\n  ]\n}"
            }
          },
          "metadata": {},
          "execution_count": 15
        }
      ],
      "source": [
        "url_association_rules = 'https://raw.githubusercontent.com/michalis0/MGT-502-Data-Science-and-Machine-Learning/main/data/movies_assoc_rules.csv'\n",
        "df_movies2= pd.read_csv(url_association_rules)\n",
        "df_movies2.head(10)\n"
      ]
    },
    {
      "cell_type": "code",
      "execution_count": 16,
      "id": "2245cff8",
      "metadata": {
        "colab": {
          "base_uri": "https://localhost:8080/"
        },
        "id": "2245cff8",
        "outputId": "0e3c0277-6217-4d8a-ca66-11e604f21c41"
      },
      "outputs": [
        {
          "output_type": "stream",
          "name": "stdout",
          "text": [
            "['Adventure' 'Comedy' 'Action' 'Drama' 'Crime' 'Children' 'Mystery'\n",
            " 'Documentary' 'Animation' 'Thriller' 'Horror' 'Fantasy' 'Western'\n",
            " 'Film-Noir' 'Romance' 'War' 'Sci-Fi' 'Musical' 'IMAX']\n"
          ]
        },
        {
          "output_type": "stream",
          "name": "stderr",
          "text": [
            "/usr/local/lib/python3.10/dist-packages/ipykernel/ipkernel.py:283: DeprecationWarning: `should_run_async` will not call `transform_cell` automatically in the future. Please pass the result to `transformed_cell` argument and any exception that happen during thetransform in `preprocessing_exc_tuple` in IPython 7.17 and above.\n",
            "  and should_run_async(code)\n"
          ]
        }
      ],
      "source": [
        "print(df_movies2.iloc[:, 0].unique())"
      ]
    },
    {
      "cell_type": "code",
      "execution_count": 17,
      "id": "169dd4ad",
      "metadata": {
        "colab": {
          "base_uri": "https://localhost:8080/"
        },
        "id": "169dd4ad",
        "outputId": "6fc017f5-88e7-4554-e132-6f15501d53e5"
      },
      "outputs": [
        {
          "output_type": "stream",
          "name": "stdout",
          "text": [
            "There are  19  movie genres.\n"
          ]
        },
        {
          "output_type": "stream",
          "name": "stderr",
          "text": [
            "/usr/local/lib/python3.10/dist-packages/ipykernel/ipkernel.py:283: DeprecationWarning: `should_run_async` will not call `transform_cell` automatically in the future. Please pass the result to `transformed_cell` argument and any exception that happen during thetransform in `preprocessing_exc_tuple` in IPython 7.17 and above.\n",
            "  and should_run_async(code)\n"
          ]
        }
      ],
      "source": [
        "print('There are ', len(df_movies2.iloc[:, 0].unique()), ' movie genres.')"
      ]
    },
    {
      "cell_type": "code",
      "execution_count": 18,
      "id": "5638ff7d",
      "metadata": {
        "colab": {
          "base_uri": "https://localhost:8080/"
        },
        "id": "5638ff7d",
        "outputId": "f82b8b8f-6482-4784-817e-1c5240022170"
      },
      "outputs": [
        {
          "output_type": "stream",
          "name": "stdout",
          "text": [
            "There are  27032  movies.\n"
          ]
        },
        {
          "output_type": "stream",
          "name": "stderr",
          "text": [
            "/usr/local/lib/python3.10/dist-packages/ipykernel/ipkernel.py:283: DeprecationWarning: `should_run_async` will not call `transform_cell` automatically in the future. Please pass the result to `transformed_cell` argument and any exception that happen during thetransform in `preprocessing_exc_tuple` in IPython 7.17 and above.\n",
            "  and should_run_async(code)\n"
          ]
        }
      ],
      "source": [
        "print('There are ', df_movies2.shape[0], ' movies.')"
      ]
    },
    {
      "cell_type": "markdown",
      "id": "51bd9f12-a4a8-46ba-8cdb-ef0a3c9bf6c8",
      "metadata": {
        "id": "51bd9f12-a4a8-46ba-8cdb-ef0a3c9bf6c8"
      },
      "source": [
        "- Preprocessing: convert the dataset using a `Transaction Encoder` from the `mlextend` module so that the dataset is reorganised in columns of unique genres. Rows should contain only True or False boolean values according to whether a film was considered as belonging to a genre column or not. Check that you have the correct dimensions."
      ]
    },
    {
      "cell_type": "markdown",
      "id": "8cd08520",
      "metadata": {
        "id": "8cd08520"
      },
      "source": [
        "The first step is to remove the missing values from the dataframe."
      ]
    },
    {
      "cell_type": "code",
      "execution_count": 19,
      "id": "cfb49f99",
      "metadata": {
        "colab": {
          "base_uri": "https://localhost:8080/"
        },
        "id": "cfb49f99",
        "outputId": "befe7631-61c9-492e-f208-fc062fe52f75"
      },
      "outputs": [
        {
          "output_type": "stream",
          "name": "stderr",
          "text": [
            "/usr/local/lib/python3.10/dist-packages/ipykernel/ipkernel.py:283: DeprecationWarning: `should_run_async` will not call `transform_cell` automatically in the future. Please pass the result to `transformed_cell` argument and any exception that happen during thetransform in `preprocessing_exc_tuple` in IPython 7.17 and above.\n",
            "  and should_run_async(code)\n"
          ]
        }
      ],
      "source": [
        "movie_list = df_movies2.values.tolist()\n",
        "movie_list_cleaned = [[x for x in y if str(x) != 'nan'] for y in movie_list]"
      ]
    },
    {
      "cell_type": "code",
      "execution_count": 20,
      "id": "6d16ef7d-81a3-4fbb-95bd-88f5a2d31302",
      "metadata": {
        "colab": {
          "base_uri": "https://localhost:8080/",
          "height": 435
        },
        "id": "6d16ef7d-81a3-4fbb-95bd-88f5a2d31302",
        "outputId": "e8c1206d-f3ed-48c1-c4f4-d1740e24b7c1"
      },
      "outputs": [
        {
          "output_type": "stream",
          "name": "stderr",
          "text": [
            "/usr/local/lib/python3.10/dist-packages/ipykernel/ipkernel.py:283: DeprecationWarning: `should_run_async` will not call `transform_cell` automatically in the future. Please pass the result to `transformed_cell` argument and any exception that happen during thetransform in `preprocessing_exc_tuple` in IPython 7.17 and above.\n",
            "  and should_run_async(code)\n"
          ]
        },
        {
          "output_type": "execute_result",
          "data": {
            "text/plain": [
              "   Action  Adventure  Animation  Children  Comedy  Crime  Documentary  Drama  \\\n",
              "0   False       True       True      True    True  False        False  False   \n",
              "1   False       True      False      True   False  False        False  False   \n",
              "2   False      False      False     False    True  False        False  False   \n",
              "3   False      False      False     False    True  False        False   True   \n",
              "4   False      False      False     False    True  False        False  False   \n",
              "5    True      False      False     False   False   True        False  False   \n",
              "6   False      False      False     False    True  False        False  False   \n",
              "7   False       True      False      True   False  False        False  False   \n",
              "8    True      False      False     False   False  False        False  False   \n",
              "9    True       True      False     False   False  False        False  False   \n",
              "\n",
              "   Fantasy  Film-Noir  Horror   IMAX  Musical  Mystery  Romance  Sci-Fi  \\\n",
              "0     True      False   False  False    False    False    False   False   \n",
              "1     True      False   False  False    False    False    False   False   \n",
              "2    False      False   False  False    False    False     True   False   \n",
              "3    False      False   False  False    False    False     True   False   \n",
              "4    False      False   False  False    False    False    False   False   \n",
              "5    False      False   False  False    False    False    False   False   \n",
              "6    False      False   False  False    False    False     True   False   \n",
              "7    False      False   False  False    False    False    False   False   \n",
              "8    False      False   False  False    False    False    False   False   \n",
              "9    False      False   False  False    False    False    False   False   \n",
              "\n",
              "   Thriller    War  Western  \n",
              "0     False  False    False  \n",
              "1     False  False    False  \n",
              "2     False  False    False  \n",
              "3     False  False    False  \n",
              "4     False  False    False  \n",
              "5      True  False    False  \n",
              "6     False  False    False  \n",
              "7     False  False    False  \n",
              "8     False  False    False  \n",
              "9      True  False    False  "
            ],
            "text/html": [
              "\n",
              "  <div id=\"df-181d1663-e085-4c91-a36e-9b2c3b47ae69\" class=\"colab-df-container\">\n",
              "    <div>\n",
              "<style scoped>\n",
              "    .dataframe tbody tr th:only-of-type {\n",
              "        vertical-align: middle;\n",
              "    }\n",
              "\n",
              "    .dataframe tbody tr th {\n",
              "        vertical-align: top;\n",
              "    }\n",
              "\n",
              "    .dataframe thead th {\n",
              "        text-align: right;\n",
              "    }\n",
              "</style>\n",
              "<table border=\"1\" class=\"dataframe\">\n",
              "  <thead>\n",
              "    <tr style=\"text-align: right;\">\n",
              "      <th></th>\n",
              "      <th>Action</th>\n",
              "      <th>Adventure</th>\n",
              "      <th>Animation</th>\n",
              "      <th>Children</th>\n",
              "      <th>Comedy</th>\n",
              "      <th>Crime</th>\n",
              "      <th>Documentary</th>\n",
              "      <th>Drama</th>\n",
              "      <th>Fantasy</th>\n",
              "      <th>Film-Noir</th>\n",
              "      <th>Horror</th>\n",
              "      <th>IMAX</th>\n",
              "      <th>Musical</th>\n",
              "      <th>Mystery</th>\n",
              "      <th>Romance</th>\n",
              "      <th>Sci-Fi</th>\n",
              "      <th>Thriller</th>\n",
              "      <th>War</th>\n",
              "      <th>Western</th>\n",
              "    </tr>\n",
              "  </thead>\n",
              "  <tbody>\n",
              "    <tr>\n",
              "      <th>0</th>\n",
              "      <td>False</td>\n",
              "      <td>True</td>\n",
              "      <td>True</td>\n",
              "      <td>True</td>\n",
              "      <td>True</td>\n",
              "      <td>False</td>\n",
              "      <td>False</td>\n",
              "      <td>False</td>\n",
              "      <td>True</td>\n",
              "      <td>False</td>\n",
              "      <td>False</td>\n",
              "      <td>False</td>\n",
              "      <td>False</td>\n",
              "      <td>False</td>\n",
              "      <td>False</td>\n",
              "      <td>False</td>\n",
              "      <td>False</td>\n",
              "      <td>False</td>\n",
              "      <td>False</td>\n",
              "    </tr>\n",
              "    <tr>\n",
              "      <th>1</th>\n",
              "      <td>False</td>\n",
              "      <td>True</td>\n",
              "      <td>False</td>\n",
              "      <td>True</td>\n",
              "      <td>False</td>\n",
              "      <td>False</td>\n",
              "      <td>False</td>\n",
              "      <td>False</td>\n",
              "      <td>True</td>\n",
              "      <td>False</td>\n",
              "      <td>False</td>\n",
              "      <td>False</td>\n",
              "      <td>False</td>\n",
              "      <td>False</td>\n",
              "      <td>False</td>\n",
              "      <td>False</td>\n",
              "      <td>False</td>\n",
              "      <td>False</td>\n",
              "      <td>False</td>\n",
              "    </tr>\n",
              "    <tr>\n",
              "      <th>2</th>\n",
              "      <td>False</td>\n",
              "      <td>False</td>\n",
              "      <td>False</td>\n",
              "      <td>False</td>\n",
              "      <td>True</td>\n",
              "      <td>False</td>\n",
              "      <td>False</td>\n",
              "      <td>False</td>\n",
              "      <td>False</td>\n",
              "      <td>False</td>\n",
              "      <td>False</td>\n",
              "      <td>False</td>\n",
              "      <td>False</td>\n",
              "      <td>False</td>\n",
              "      <td>True</td>\n",
              "      <td>False</td>\n",
              "      <td>False</td>\n",
              "      <td>False</td>\n",
              "      <td>False</td>\n",
              "    </tr>\n",
              "    <tr>\n",
              "      <th>3</th>\n",
              "      <td>False</td>\n",
              "      <td>False</td>\n",
              "      <td>False</td>\n",
              "      <td>False</td>\n",
              "      <td>True</td>\n",
              "      <td>False</td>\n",
              "      <td>False</td>\n",
              "      <td>True</td>\n",
              "      <td>False</td>\n",
              "      <td>False</td>\n",
              "      <td>False</td>\n",
              "      <td>False</td>\n",
              "      <td>False</td>\n",
              "      <td>False</td>\n",
              "      <td>True</td>\n",
              "      <td>False</td>\n",
              "      <td>False</td>\n",
              "      <td>False</td>\n",
              "      <td>False</td>\n",
              "    </tr>\n",
              "    <tr>\n",
              "      <th>4</th>\n",
              "      <td>False</td>\n",
              "      <td>False</td>\n",
              "      <td>False</td>\n",
              "      <td>False</td>\n",
              "      <td>True</td>\n",
              "      <td>False</td>\n",
              "      <td>False</td>\n",
              "      <td>False</td>\n",
              "      <td>False</td>\n",
              "      <td>False</td>\n",
              "      <td>False</td>\n",
              "      <td>False</td>\n",
              "      <td>False</td>\n",
              "      <td>False</td>\n",
              "      <td>False</td>\n",
              "      <td>False</td>\n",
              "      <td>False</td>\n",
              "      <td>False</td>\n",
              "      <td>False</td>\n",
              "    </tr>\n",
              "    <tr>\n",
              "      <th>5</th>\n",
              "      <td>True</td>\n",
              "      <td>False</td>\n",
              "      <td>False</td>\n",
              "      <td>False</td>\n",
              "      <td>False</td>\n",
              "      <td>True</td>\n",
              "      <td>False</td>\n",
              "      <td>False</td>\n",
              "      <td>False</td>\n",
              "      <td>False</td>\n",
              "      <td>False</td>\n",
              "      <td>False</td>\n",
              "      <td>False</td>\n",
              "      <td>False</td>\n",
              "      <td>False</td>\n",
              "      <td>False</td>\n",
              "      <td>True</td>\n",
              "      <td>False</td>\n",
              "      <td>False</td>\n",
              "    </tr>\n",
              "    <tr>\n",
              "      <th>6</th>\n",
              "      <td>False</td>\n",
              "      <td>False</td>\n",
              "      <td>False</td>\n",
              "      <td>False</td>\n",
              "      <td>True</td>\n",
              "      <td>False</td>\n",
              "      <td>False</td>\n",
              "      <td>False</td>\n",
              "      <td>False</td>\n",
              "      <td>False</td>\n",
              "      <td>False</td>\n",
              "      <td>False</td>\n",
              "      <td>False</td>\n",
              "      <td>False</td>\n",
              "      <td>True</td>\n",
              "      <td>False</td>\n",
              "      <td>False</td>\n",
              "      <td>False</td>\n",
              "      <td>False</td>\n",
              "    </tr>\n",
              "    <tr>\n",
              "      <th>7</th>\n",
              "      <td>False</td>\n",
              "      <td>True</td>\n",
              "      <td>False</td>\n",
              "      <td>True</td>\n",
              "      <td>False</td>\n",
              "      <td>False</td>\n",
              "      <td>False</td>\n",
              "      <td>False</td>\n",
              "      <td>False</td>\n",
              "      <td>False</td>\n",
              "      <td>False</td>\n",
              "      <td>False</td>\n",
              "      <td>False</td>\n",
              "      <td>False</td>\n",
              "      <td>False</td>\n",
              "      <td>False</td>\n",
              "      <td>False</td>\n",
              "      <td>False</td>\n",
              "      <td>False</td>\n",
              "    </tr>\n",
              "    <tr>\n",
              "      <th>8</th>\n",
              "      <td>True</td>\n",
              "      <td>False</td>\n",
              "      <td>False</td>\n",
              "      <td>False</td>\n",
              "      <td>False</td>\n",
              "      <td>False</td>\n",
              "      <td>False</td>\n",
              "      <td>False</td>\n",
              "      <td>False</td>\n",
              "      <td>False</td>\n",
              "      <td>False</td>\n",
              "      <td>False</td>\n",
              "      <td>False</td>\n",
              "      <td>False</td>\n",
              "      <td>False</td>\n",
              "      <td>False</td>\n",
              "      <td>False</td>\n",
              "      <td>False</td>\n",
              "      <td>False</td>\n",
              "    </tr>\n",
              "    <tr>\n",
              "      <th>9</th>\n",
              "      <td>True</td>\n",
              "      <td>True</td>\n",
              "      <td>False</td>\n",
              "      <td>False</td>\n",
              "      <td>False</td>\n",
              "      <td>False</td>\n",
              "      <td>False</td>\n",
              "      <td>False</td>\n",
              "      <td>False</td>\n",
              "      <td>False</td>\n",
              "      <td>False</td>\n",
              "      <td>False</td>\n",
              "      <td>False</td>\n",
              "      <td>False</td>\n",
              "      <td>False</td>\n",
              "      <td>False</td>\n",
              "      <td>True</td>\n",
              "      <td>False</td>\n",
              "      <td>False</td>\n",
              "    </tr>\n",
              "  </tbody>\n",
              "</table>\n",
              "</div>\n",
              "    <div class=\"colab-df-buttons\">\n",
              "\n",
              "  <div class=\"colab-df-container\">\n",
              "    <button class=\"colab-df-convert\" onclick=\"convertToInteractive('df-181d1663-e085-4c91-a36e-9b2c3b47ae69')\"\n",
              "            title=\"Convert this dataframe to an interactive table.\"\n",
              "            style=\"display:none;\">\n",
              "\n",
              "  <svg xmlns=\"http://www.w3.org/2000/svg\" height=\"24px\" viewBox=\"0 -960 960 960\">\n",
              "    <path d=\"M120-120v-720h720v720H120Zm60-500h600v-160H180v160Zm220 220h160v-160H400v160Zm0 220h160v-160H400v160ZM180-400h160v-160H180v160Zm440 0h160v-160H620v160ZM180-180h160v-160H180v160Zm440 0h160v-160H620v160Z\"/>\n",
              "  </svg>\n",
              "    </button>\n",
              "\n",
              "  <style>\n",
              "    .colab-df-container {\n",
              "      display:flex;\n",
              "      gap: 12px;\n",
              "    }\n",
              "\n",
              "    .colab-df-convert {\n",
              "      background-color: #E8F0FE;\n",
              "      border: none;\n",
              "      border-radius: 50%;\n",
              "      cursor: pointer;\n",
              "      display: none;\n",
              "      fill: #1967D2;\n",
              "      height: 32px;\n",
              "      padding: 0 0 0 0;\n",
              "      width: 32px;\n",
              "    }\n",
              "\n",
              "    .colab-df-convert:hover {\n",
              "      background-color: #E2EBFA;\n",
              "      box-shadow: 0px 1px 2px rgba(60, 64, 67, 0.3), 0px 1px 3px 1px rgba(60, 64, 67, 0.15);\n",
              "      fill: #174EA6;\n",
              "    }\n",
              "\n",
              "    .colab-df-buttons div {\n",
              "      margin-bottom: 4px;\n",
              "    }\n",
              "\n",
              "    [theme=dark] .colab-df-convert {\n",
              "      background-color: #3B4455;\n",
              "      fill: #D2E3FC;\n",
              "    }\n",
              "\n",
              "    [theme=dark] .colab-df-convert:hover {\n",
              "      background-color: #434B5C;\n",
              "      box-shadow: 0px 1px 3px 1px rgba(0, 0, 0, 0.15);\n",
              "      filter: drop-shadow(0px 1px 2px rgba(0, 0, 0, 0.3));\n",
              "      fill: #FFFFFF;\n",
              "    }\n",
              "  </style>\n",
              "\n",
              "    <script>\n",
              "      const buttonEl =\n",
              "        document.querySelector('#df-181d1663-e085-4c91-a36e-9b2c3b47ae69 button.colab-df-convert');\n",
              "      buttonEl.style.display =\n",
              "        google.colab.kernel.accessAllowed ? 'block' : 'none';\n",
              "\n",
              "      async function convertToInteractive(key) {\n",
              "        const element = document.querySelector('#df-181d1663-e085-4c91-a36e-9b2c3b47ae69');\n",
              "        const dataTable =\n",
              "          await google.colab.kernel.invokeFunction('convertToInteractive',\n",
              "                                                    [key], {});\n",
              "        if (!dataTable) return;\n",
              "\n",
              "        const docLinkHtml = 'Like what you see? Visit the ' +\n",
              "          '<a target=\"_blank\" href=https://colab.research.google.com/notebooks/data_table.ipynb>data table notebook</a>'\n",
              "          + ' to learn more about interactive tables.';\n",
              "        element.innerHTML = '';\n",
              "        dataTable['output_type'] = 'display_data';\n",
              "        await google.colab.output.renderOutput(dataTable, element);\n",
              "        const docLink = document.createElement('div');\n",
              "        docLink.innerHTML = docLinkHtml;\n",
              "        element.appendChild(docLink);\n",
              "      }\n",
              "    </script>\n",
              "  </div>\n",
              "\n",
              "\n",
              "<div id=\"df-c5867c1c-ef13-4a5b-a3bb-c3b3a619a73f\">\n",
              "  <button class=\"colab-df-quickchart\" onclick=\"quickchart('df-c5867c1c-ef13-4a5b-a3bb-c3b3a619a73f')\"\n",
              "            title=\"Suggest charts\"\n",
              "            style=\"display:none;\">\n",
              "\n",
              "<svg xmlns=\"http://www.w3.org/2000/svg\" height=\"24px\"viewBox=\"0 0 24 24\"\n",
              "     width=\"24px\">\n",
              "    <g>\n",
              "        <path d=\"M19 3H5c-1.1 0-2 .9-2 2v14c0 1.1.9 2 2 2h14c1.1 0 2-.9 2-2V5c0-1.1-.9-2-2-2zM9 17H7v-7h2v7zm4 0h-2V7h2v10zm4 0h-2v-4h2v4z\"/>\n",
              "    </g>\n",
              "</svg>\n",
              "  </button>\n",
              "\n",
              "<style>\n",
              "  .colab-df-quickchart {\n",
              "      --bg-color: #E8F0FE;\n",
              "      --fill-color: #1967D2;\n",
              "      --hover-bg-color: #E2EBFA;\n",
              "      --hover-fill-color: #174EA6;\n",
              "      --disabled-fill-color: #AAA;\n",
              "      --disabled-bg-color: #DDD;\n",
              "  }\n",
              "\n",
              "  [theme=dark] .colab-df-quickchart {\n",
              "      --bg-color: #3B4455;\n",
              "      --fill-color: #D2E3FC;\n",
              "      --hover-bg-color: #434B5C;\n",
              "      --hover-fill-color: #FFFFFF;\n",
              "      --disabled-bg-color: #3B4455;\n",
              "      --disabled-fill-color: #666;\n",
              "  }\n",
              "\n",
              "  .colab-df-quickchart {\n",
              "    background-color: var(--bg-color);\n",
              "    border: none;\n",
              "    border-radius: 50%;\n",
              "    cursor: pointer;\n",
              "    display: none;\n",
              "    fill: var(--fill-color);\n",
              "    height: 32px;\n",
              "    padding: 0;\n",
              "    width: 32px;\n",
              "  }\n",
              "\n",
              "  .colab-df-quickchart:hover {\n",
              "    background-color: var(--hover-bg-color);\n",
              "    box-shadow: 0 1px 2px rgba(60, 64, 67, 0.3), 0 1px 3px 1px rgba(60, 64, 67, 0.15);\n",
              "    fill: var(--button-hover-fill-color);\n",
              "  }\n",
              "\n",
              "  .colab-df-quickchart-complete:disabled,\n",
              "  .colab-df-quickchart-complete:disabled:hover {\n",
              "    background-color: var(--disabled-bg-color);\n",
              "    fill: var(--disabled-fill-color);\n",
              "    box-shadow: none;\n",
              "  }\n",
              "\n",
              "  .colab-df-spinner {\n",
              "    border: 2px solid var(--fill-color);\n",
              "    border-color: transparent;\n",
              "    border-bottom-color: var(--fill-color);\n",
              "    animation:\n",
              "      spin 1s steps(1) infinite;\n",
              "  }\n",
              "\n",
              "  @keyframes spin {\n",
              "    0% {\n",
              "      border-color: transparent;\n",
              "      border-bottom-color: var(--fill-color);\n",
              "      border-left-color: var(--fill-color);\n",
              "    }\n",
              "    20% {\n",
              "      border-color: transparent;\n",
              "      border-left-color: var(--fill-color);\n",
              "      border-top-color: var(--fill-color);\n",
              "    }\n",
              "    30% {\n",
              "      border-color: transparent;\n",
              "      border-left-color: var(--fill-color);\n",
              "      border-top-color: var(--fill-color);\n",
              "      border-right-color: var(--fill-color);\n",
              "    }\n",
              "    40% {\n",
              "      border-color: transparent;\n",
              "      border-right-color: var(--fill-color);\n",
              "      border-top-color: var(--fill-color);\n",
              "    }\n",
              "    60% {\n",
              "      border-color: transparent;\n",
              "      border-right-color: var(--fill-color);\n",
              "    }\n",
              "    80% {\n",
              "      border-color: transparent;\n",
              "      border-right-color: var(--fill-color);\n",
              "      border-bottom-color: var(--fill-color);\n",
              "    }\n",
              "    90% {\n",
              "      border-color: transparent;\n",
              "      border-bottom-color: var(--fill-color);\n",
              "    }\n",
              "  }\n",
              "</style>\n",
              "\n",
              "  <script>\n",
              "    async function quickchart(key) {\n",
              "      const quickchartButtonEl =\n",
              "        document.querySelector('#' + key + ' button');\n",
              "      quickchartButtonEl.disabled = true;  // To prevent multiple clicks.\n",
              "      quickchartButtonEl.classList.add('colab-df-spinner');\n",
              "      try {\n",
              "        const charts = await google.colab.kernel.invokeFunction(\n",
              "            'suggestCharts', [key], {});\n",
              "      } catch (error) {\n",
              "        console.error('Error during call to suggestCharts:', error);\n",
              "      }\n",
              "      quickchartButtonEl.classList.remove('colab-df-spinner');\n",
              "      quickchartButtonEl.classList.add('colab-df-quickchart-complete');\n",
              "    }\n",
              "    (() => {\n",
              "      let quickchartButtonEl =\n",
              "        document.querySelector('#df-c5867c1c-ef13-4a5b-a3bb-c3b3a619a73f button');\n",
              "      quickchartButtonEl.style.display =\n",
              "        google.colab.kernel.accessAllowed ? 'block' : 'none';\n",
              "    })();\n",
              "  </script>\n",
              "</div>\n",
              "    </div>\n",
              "  </div>\n"
            ],
            "application/vnd.google.colaboratory.intrinsic+json": {
              "type": "dataframe",
              "variable_name": "df_movies2_encoded",
              "summary": "{\n  \"name\": \"df_movies2_encoded\",\n  \"rows\": 27032,\n  \"fields\": [\n    {\n      \"column\": \"Action\",\n      \"properties\": {\n        \"dtype\": \"boolean\",\n        \"num_unique_values\": 2,\n        \"samples\": [\n          true,\n          false\n        ],\n        \"semantic_type\": \"\",\n        \"description\": \"\"\n      }\n    },\n    {\n      \"column\": \"Adventure\",\n      \"properties\": {\n        \"dtype\": \"boolean\",\n        \"num_unique_values\": 2,\n        \"samples\": [\n          false,\n          true\n        ],\n        \"semantic_type\": \"\",\n        \"description\": \"\"\n      }\n    },\n    {\n      \"column\": \"Animation\",\n      \"properties\": {\n        \"dtype\": \"boolean\",\n        \"num_unique_values\": 2,\n        \"samples\": [\n          false,\n          true\n        ],\n        \"semantic_type\": \"\",\n        \"description\": \"\"\n      }\n    },\n    {\n      \"column\": \"Children\",\n      \"properties\": {\n        \"dtype\": \"boolean\",\n        \"num_unique_values\": 2,\n        \"samples\": [\n          false,\n          true\n        ],\n        \"semantic_type\": \"\",\n        \"description\": \"\"\n      }\n    },\n    {\n      \"column\": \"Comedy\",\n      \"properties\": {\n        \"dtype\": \"boolean\",\n        \"num_unique_values\": 2,\n        \"samples\": [\n          false,\n          true\n        ],\n        \"semantic_type\": \"\",\n        \"description\": \"\"\n      }\n    },\n    {\n      \"column\": \"Crime\",\n      \"properties\": {\n        \"dtype\": \"boolean\",\n        \"num_unique_values\": 2,\n        \"samples\": [\n          true,\n          false\n        ],\n        \"semantic_type\": \"\",\n        \"description\": \"\"\n      }\n    },\n    {\n      \"column\": \"Documentary\",\n      \"properties\": {\n        \"dtype\": \"boolean\",\n        \"num_unique_values\": 2,\n        \"samples\": [\n          true,\n          false\n        ],\n        \"semantic_type\": \"\",\n        \"description\": \"\"\n      }\n    },\n    {\n      \"column\": \"Drama\",\n      \"properties\": {\n        \"dtype\": \"boolean\",\n        \"num_unique_values\": 2,\n        \"samples\": [\n          true,\n          false\n        ],\n        \"semantic_type\": \"\",\n        \"description\": \"\"\n      }\n    },\n    {\n      \"column\": \"Fantasy\",\n      \"properties\": {\n        \"dtype\": \"boolean\",\n        \"num_unique_values\": 2,\n        \"samples\": [\n          false,\n          true\n        ],\n        \"semantic_type\": \"\",\n        \"description\": \"\"\n      }\n    },\n    {\n      \"column\": \"Film-Noir\",\n      \"properties\": {\n        \"dtype\": \"boolean\",\n        \"num_unique_values\": 2,\n        \"samples\": [\n          true,\n          false\n        ],\n        \"semantic_type\": \"\",\n        \"description\": \"\"\n      }\n    },\n    {\n      \"column\": \"Horror\",\n      \"properties\": {\n        \"dtype\": \"boolean\",\n        \"num_unique_values\": 2,\n        \"samples\": [\n          true,\n          false\n        ],\n        \"semantic_type\": \"\",\n        \"description\": \"\"\n      }\n    },\n    {\n      \"column\": \"IMAX\",\n      \"properties\": {\n        \"dtype\": \"boolean\",\n        \"num_unique_values\": 2,\n        \"samples\": [\n          true,\n          false\n        ],\n        \"semantic_type\": \"\",\n        \"description\": \"\"\n      }\n    },\n    {\n      \"column\": \"Musical\",\n      \"properties\": {\n        \"dtype\": \"boolean\",\n        \"num_unique_values\": 2,\n        \"samples\": [\n          true,\n          false\n        ],\n        \"semantic_type\": \"\",\n        \"description\": \"\"\n      }\n    },\n    {\n      \"column\": \"Mystery\",\n      \"properties\": {\n        \"dtype\": \"boolean\",\n        \"num_unique_values\": 2,\n        \"samples\": [\n          true,\n          false\n        ],\n        \"semantic_type\": \"\",\n        \"description\": \"\"\n      }\n    },\n    {\n      \"column\": \"Romance\",\n      \"properties\": {\n        \"dtype\": \"boolean\",\n        \"num_unique_values\": 2,\n        \"samples\": [\n          true,\n          false\n        ],\n        \"semantic_type\": \"\",\n        \"description\": \"\"\n      }\n    },\n    {\n      \"column\": \"Sci-Fi\",\n      \"properties\": {\n        \"dtype\": \"boolean\",\n        \"num_unique_values\": 2,\n        \"samples\": [\n          true,\n          false\n        ],\n        \"semantic_type\": \"\",\n        \"description\": \"\"\n      }\n    },\n    {\n      \"column\": \"Thriller\",\n      \"properties\": {\n        \"dtype\": \"boolean\",\n        \"num_unique_values\": 2,\n        \"samples\": [\n          true,\n          false\n        ],\n        \"semantic_type\": \"\",\n        \"description\": \"\"\n      }\n    },\n    {\n      \"column\": \"War\",\n      \"properties\": {\n        \"dtype\": \"boolean\",\n        \"num_unique_values\": 2,\n        \"samples\": [\n          true,\n          false\n        ],\n        \"semantic_type\": \"\",\n        \"description\": \"\"\n      }\n    },\n    {\n      \"column\": \"Western\",\n      \"properties\": {\n        \"dtype\": \"boolean\",\n        \"num_unique_values\": 2,\n        \"samples\": [\n          true,\n          false\n        ],\n        \"semantic_type\": \"\",\n        \"description\": \"\"\n      }\n    }\n  ]\n}"
            }
          },
          "metadata": {},
          "execution_count": 20
        }
      ],
      "source": [
        "# instance of Encoder\n",
        "te = TransactionEncoder()\n",
        "\n",
        "# fitting encoder and transform our list\n",
        "df_movies2_encoded = te.fit(movie_list_cleaned).transform(movie_list_cleaned)\n",
        "\n",
        "# creating dataframe with results\n",
        "df_movies2_encoded = pd.DataFrame(df_movies2_encoded, columns=te.columns_)\n",
        "df_movies2_encoded.head(10)"
      ]
    },
    {
      "cell_type": "code",
      "execution_count": 21,
      "id": "0e052ac7",
      "metadata": {
        "colab": {
          "base_uri": "https://localhost:8080/"
        },
        "id": "0e052ac7",
        "outputId": "d4d9d6d3-4d80-45be-f2e4-c347c2850703"
      },
      "outputs": [
        {
          "output_type": "stream",
          "name": "stderr",
          "text": [
            "/usr/local/lib/python3.10/dist-packages/ipykernel/ipkernel.py:283: DeprecationWarning: `should_run_async` will not call `transform_cell` automatically in the future. Please pass the result to `transformed_cell` argument and any exception that happen during thetransform in `preprocessing_exc_tuple` in IPython 7.17 and above.\n",
            "  and should_run_async(code)\n"
          ]
        },
        {
          "output_type": "execute_result",
          "data": {
            "text/plain": [
              "(27032, 19)"
            ]
          },
          "metadata": {},
          "execution_count": 21
        }
      ],
      "source": [
        "df_movies2_encoded.shape"
      ]
    },
    {
      "cell_type": "markdown",
      "id": "5aec249e",
      "metadata": {
        "id": "5aec249e"
      },
      "source": [
        "The dimentions correspond to the number of movies (rows - 27032) and the number of genres (columns - 19)."
      ]
    },
    {
      "cell_type": "markdown",
      "source": [
        "###Apriori Algorithm\n",
        "\n",
        "The Apriori algorithm is a classic algorithm used for association rule mining in data mining and machine learning. It's designed to discover interesting relationships, associations, or patterns within large datasets, particularly in transactional databases such as those found in retail, e-commerce, or basket analysis.\n",
        "\n",
        "Here's a breakdown of how the Apriori algorithm works:\n",
        "\n",
        "*   Support: The algorithm starts by calculating the support of itemsets, which is the proportion of transactions in the dataset that contain a particular itemset. The support of an itemset {A, B} is the number of transactions containing both items A and B divided by the total number of transactions.\n",
        "*    Frequent Itemset Generation: Apriori then generates frequent itemsets by iteratively applying the following two steps:\n",
        "    *  Join: It generates candidate itemsets of length (k+1) by joining frequent itemsets of length k.\n",
        "    *  Prune: It prunes the candidate itemsets that do not meet the minimum support threshold. This pruning step is crucial for efficiency, as it eliminates the need to generate and count all possible itemsets.\n",
        "*   Association Rule Generation: Once frequent itemsets are identified, Apriori generates association rules from them. An association rule is an implication of the form {A} -> {B}, where A and B are itemsets, and the rule indicates that if A occurs, then B is likely to occur as well.\n",
        "*   Confidence and Confidence Pruning: Apriori calculates the confidence of each association rule. Confidence is the probability of seeing the items in the consequent (B) given that the antecedent (A) is seen. Rules with confidence above a specified threshold are considered significant.\n",
        "*   Rule Evaluation and Selection: Finally, the algorithm evaluates the generated rules based on user-defined criteria such as support, confidence, lift, or conviction. Lift, for example, measures the ratio of the observed support to that expected if the two items were independent of each other. Rules meeting the specified criteria are selected as interesting and relevant association rules."
      ],
      "metadata": {
        "id": "t_a04_XW6j45"
      },
      "id": "t_a04_XW6j45"
    },
    {
      "cell_type": "markdown",
      "id": "c37e0e99-7012-4efa-99e4-56eb9bd5eee5",
      "metadata": {
        "id": "c37e0e99-7012-4efa-99e4-56eb9bd5eee5"
      },
      "source": [
        "- Frequent itemsets: using the Apriori algorithm to find the frequent itemsets with minimum support of 0.01. There is no condition on the maximum length of an itemset.\n",
        "- How many itemsets did the apriori algorithm return above (for min_support=0.01)?\n",
        "- What are the 10 itemsets with the largest support (you can directly display a dataframe with the 10 itemsets and their support)?"
      ]
    },
    {
      "cell_type": "code",
      "execution_count": 22,
      "id": "242fe963-f30a-452c-9a64-9d74c3b8431b",
      "metadata": {
        "colab": {
          "base_uri": "https://localhost:8080/",
          "height": 699
        },
        "id": "242fe963-f30a-452c-9a64-9d74c3b8431b",
        "outputId": "bce67c21-2910-439c-d20b-449d367b2eda"
      },
      "outputs": [
        {
          "output_type": "stream",
          "name": "stderr",
          "text": [
            "/usr/local/lib/python3.10/dist-packages/ipykernel/ipkernel.py:283: DeprecationWarning: `should_run_async` will not call `transform_cell` automatically in the future. Please pass the result to `transformed_cell` argument and any exception that happen during thetransform in `preprocessing_exc_tuple` in IPython 7.17 and above.\n",
            "  and should_run_async(code)\n"
          ]
        },
        {
          "output_type": "execute_result",
          "data": {
            "text/plain": [
              "     support             itemsets\n",
              "0   0.130216             (Action)\n",
              "1   0.086157          (Adventure)\n",
              "2   0.037992          (Animation)\n",
              "3   0.042135           (Children)\n",
              "4   0.309781             (Comedy)\n",
              "5   0.108723              (Crime)\n",
              "6   0.091410        (Documentary)\n",
              "7   0.493637              (Drama)\n",
              "8   0.052234            (Fantasy)\n",
              "9   0.012208          (Film-Noir)\n",
              "10  0.096589             (Horror)\n",
              "11  0.038325            (Musical)\n",
              "12  0.056008            (Mystery)\n",
              "13  0.152671            (Romance)\n",
              "14  0.064479             (Sci-Fi)\n",
              "15  0.154558           (Thriller)\n",
              "16  0.044170                (War)\n",
              "17  0.025007            (Western)\n",
              "18  0.035957  (Adventure, Action)"
            ],
            "text/html": [
              "\n",
              "  <div id=\"df-a5b45709-2887-4f0a-a0a6-121cf35aba93\" class=\"colab-df-container\">\n",
              "    <div>\n",
              "<style scoped>\n",
              "    .dataframe tbody tr th:only-of-type {\n",
              "        vertical-align: middle;\n",
              "    }\n",
              "\n",
              "    .dataframe tbody tr th {\n",
              "        vertical-align: top;\n",
              "    }\n",
              "\n",
              "    .dataframe thead th {\n",
              "        text-align: right;\n",
              "    }\n",
              "</style>\n",
              "<table border=\"1\" class=\"dataframe\">\n",
              "  <thead>\n",
              "    <tr style=\"text-align: right;\">\n",
              "      <th></th>\n",
              "      <th>support</th>\n",
              "      <th>itemsets</th>\n",
              "    </tr>\n",
              "  </thead>\n",
              "  <tbody>\n",
              "    <tr>\n",
              "      <th>0</th>\n",
              "      <td>0.130216</td>\n",
              "      <td>(Action)</td>\n",
              "    </tr>\n",
              "    <tr>\n",
              "      <th>1</th>\n",
              "      <td>0.086157</td>\n",
              "      <td>(Adventure)</td>\n",
              "    </tr>\n",
              "    <tr>\n",
              "      <th>2</th>\n",
              "      <td>0.037992</td>\n",
              "      <td>(Animation)</td>\n",
              "    </tr>\n",
              "    <tr>\n",
              "      <th>3</th>\n",
              "      <td>0.042135</td>\n",
              "      <td>(Children)</td>\n",
              "    </tr>\n",
              "    <tr>\n",
              "      <th>4</th>\n",
              "      <td>0.309781</td>\n",
              "      <td>(Comedy)</td>\n",
              "    </tr>\n",
              "    <tr>\n",
              "      <th>5</th>\n",
              "      <td>0.108723</td>\n",
              "      <td>(Crime)</td>\n",
              "    </tr>\n",
              "    <tr>\n",
              "      <th>6</th>\n",
              "      <td>0.091410</td>\n",
              "      <td>(Documentary)</td>\n",
              "    </tr>\n",
              "    <tr>\n",
              "      <th>7</th>\n",
              "      <td>0.493637</td>\n",
              "      <td>(Drama)</td>\n",
              "    </tr>\n",
              "    <tr>\n",
              "      <th>8</th>\n",
              "      <td>0.052234</td>\n",
              "      <td>(Fantasy)</td>\n",
              "    </tr>\n",
              "    <tr>\n",
              "      <th>9</th>\n",
              "      <td>0.012208</td>\n",
              "      <td>(Film-Noir)</td>\n",
              "    </tr>\n",
              "    <tr>\n",
              "      <th>10</th>\n",
              "      <td>0.096589</td>\n",
              "      <td>(Horror)</td>\n",
              "    </tr>\n",
              "    <tr>\n",
              "      <th>11</th>\n",
              "      <td>0.038325</td>\n",
              "      <td>(Musical)</td>\n",
              "    </tr>\n",
              "    <tr>\n",
              "      <th>12</th>\n",
              "      <td>0.056008</td>\n",
              "      <td>(Mystery)</td>\n",
              "    </tr>\n",
              "    <tr>\n",
              "      <th>13</th>\n",
              "      <td>0.152671</td>\n",
              "      <td>(Romance)</td>\n",
              "    </tr>\n",
              "    <tr>\n",
              "      <th>14</th>\n",
              "      <td>0.064479</td>\n",
              "      <td>(Sci-Fi)</td>\n",
              "    </tr>\n",
              "    <tr>\n",
              "      <th>15</th>\n",
              "      <td>0.154558</td>\n",
              "      <td>(Thriller)</td>\n",
              "    </tr>\n",
              "    <tr>\n",
              "      <th>16</th>\n",
              "      <td>0.044170</td>\n",
              "      <td>(War)</td>\n",
              "    </tr>\n",
              "    <tr>\n",
              "      <th>17</th>\n",
              "      <td>0.025007</td>\n",
              "      <td>(Western)</td>\n",
              "    </tr>\n",
              "    <tr>\n",
              "      <th>18</th>\n",
              "      <td>0.035957</td>\n",
              "      <td>(Adventure, Action)</td>\n",
              "    </tr>\n",
              "  </tbody>\n",
              "</table>\n",
              "</div>\n",
              "    <div class=\"colab-df-buttons\">\n",
              "\n",
              "  <div class=\"colab-df-container\">\n",
              "    <button class=\"colab-df-convert\" onclick=\"convertToInteractive('df-a5b45709-2887-4f0a-a0a6-121cf35aba93')\"\n",
              "            title=\"Convert this dataframe to an interactive table.\"\n",
              "            style=\"display:none;\">\n",
              "\n",
              "  <svg xmlns=\"http://www.w3.org/2000/svg\" height=\"24px\" viewBox=\"0 -960 960 960\">\n",
              "    <path d=\"M120-120v-720h720v720H120Zm60-500h600v-160H180v160Zm220 220h160v-160H400v160Zm0 220h160v-160H400v160ZM180-400h160v-160H180v160Zm440 0h160v-160H620v160ZM180-180h160v-160H180v160Zm440 0h160v-160H620v160Z\"/>\n",
              "  </svg>\n",
              "    </button>\n",
              "\n",
              "  <style>\n",
              "    .colab-df-container {\n",
              "      display:flex;\n",
              "      gap: 12px;\n",
              "    }\n",
              "\n",
              "    .colab-df-convert {\n",
              "      background-color: #E8F0FE;\n",
              "      border: none;\n",
              "      border-radius: 50%;\n",
              "      cursor: pointer;\n",
              "      display: none;\n",
              "      fill: #1967D2;\n",
              "      height: 32px;\n",
              "      padding: 0 0 0 0;\n",
              "      width: 32px;\n",
              "    }\n",
              "\n",
              "    .colab-df-convert:hover {\n",
              "      background-color: #E2EBFA;\n",
              "      box-shadow: 0px 1px 2px rgba(60, 64, 67, 0.3), 0px 1px 3px 1px rgba(60, 64, 67, 0.15);\n",
              "      fill: #174EA6;\n",
              "    }\n",
              "\n",
              "    .colab-df-buttons div {\n",
              "      margin-bottom: 4px;\n",
              "    }\n",
              "\n",
              "    [theme=dark] .colab-df-convert {\n",
              "      background-color: #3B4455;\n",
              "      fill: #D2E3FC;\n",
              "    }\n",
              "\n",
              "    [theme=dark] .colab-df-convert:hover {\n",
              "      background-color: #434B5C;\n",
              "      box-shadow: 0px 1px 3px 1px rgba(0, 0, 0, 0.15);\n",
              "      filter: drop-shadow(0px 1px 2px rgba(0, 0, 0, 0.3));\n",
              "      fill: #FFFFFF;\n",
              "    }\n",
              "  </style>\n",
              "\n",
              "    <script>\n",
              "      const buttonEl =\n",
              "        document.querySelector('#df-a5b45709-2887-4f0a-a0a6-121cf35aba93 button.colab-df-convert');\n",
              "      buttonEl.style.display =\n",
              "        google.colab.kernel.accessAllowed ? 'block' : 'none';\n",
              "\n",
              "      async function convertToInteractive(key) {\n",
              "        const element = document.querySelector('#df-a5b45709-2887-4f0a-a0a6-121cf35aba93');\n",
              "        const dataTable =\n",
              "          await google.colab.kernel.invokeFunction('convertToInteractive',\n",
              "                                                    [key], {});\n",
              "        if (!dataTable) return;\n",
              "\n",
              "        const docLinkHtml = 'Like what you see? Visit the ' +\n",
              "          '<a target=\"_blank\" href=https://colab.research.google.com/notebooks/data_table.ipynb>data table notebook</a>'\n",
              "          + ' to learn more about interactive tables.';\n",
              "        element.innerHTML = '';\n",
              "        dataTable['output_type'] = 'display_data';\n",
              "        await google.colab.output.renderOutput(dataTable, element);\n",
              "        const docLink = document.createElement('div');\n",
              "        docLink.innerHTML = docLinkHtml;\n",
              "        element.appendChild(docLink);\n",
              "      }\n",
              "    </script>\n",
              "  </div>\n",
              "\n",
              "\n",
              "<div id=\"df-7377c208-c42f-467f-8327-d91eabd63743\">\n",
              "  <button class=\"colab-df-quickchart\" onclick=\"quickchart('df-7377c208-c42f-467f-8327-d91eabd63743')\"\n",
              "            title=\"Suggest charts\"\n",
              "            style=\"display:none;\">\n",
              "\n",
              "<svg xmlns=\"http://www.w3.org/2000/svg\" height=\"24px\"viewBox=\"0 0 24 24\"\n",
              "     width=\"24px\">\n",
              "    <g>\n",
              "        <path d=\"M19 3H5c-1.1 0-2 .9-2 2v14c0 1.1.9 2 2 2h14c1.1 0 2-.9 2-2V5c0-1.1-.9-2-2-2zM9 17H7v-7h2v7zm4 0h-2V7h2v10zm4 0h-2v-4h2v4z\"/>\n",
              "    </g>\n",
              "</svg>\n",
              "  </button>\n",
              "\n",
              "<style>\n",
              "  .colab-df-quickchart {\n",
              "      --bg-color: #E8F0FE;\n",
              "      --fill-color: #1967D2;\n",
              "      --hover-bg-color: #E2EBFA;\n",
              "      --hover-fill-color: #174EA6;\n",
              "      --disabled-fill-color: #AAA;\n",
              "      --disabled-bg-color: #DDD;\n",
              "  }\n",
              "\n",
              "  [theme=dark] .colab-df-quickchart {\n",
              "      --bg-color: #3B4455;\n",
              "      --fill-color: #D2E3FC;\n",
              "      --hover-bg-color: #434B5C;\n",
              "      --hover-fill-color: #FFFFFF;\n",
              "      --disabled-bg-color: #3B4455;\n",
              "      --disabled-fill-color: #666;\n",
              "  }\n",
              "\n",
              "  .colab-df-quickchart {\n",
              "    background-color: var(--bg-color);\n",
              "    border: none;\n",
              "    border-radius: 50%;\n",
              "    cursor: pointer;\n",
              "    display: none;\n",
              "    fill: var(--fill-color);\n",
              "    height: 32px;\n",
              "    padding: 0;\n",
              "    width: 32px;\n",
              "  }\n",
              "\n",
              "  .colab-df-quickchart:hover {\n",
              "    background-color: var(--hover-bg-color);\n",
              "    box-shadow: 0 1px 2px rgba(60, 64, 67, 0.3), 0 1px 3px 1px rgba(60, 64, 67, 0.15);\n",
              "    fill: var(--button-hover-fill-color);\n",
              "  }\n",
              "\n",
              "  .colab-df-quickchart-complete:disabled,\n",
              "  .colab-df-quickchart-complete:disabled:hover {\n",
              "    background-color: var(--disabled-bg-color);\n",
              "    fill: var(--disabled-fill-color);\n",
              "    box-shadow: none;\n",
              "  }\n",
              "\n",
              "  .colab-df-spinner {\n",
              "    border: 2px solid var(--fill-color);\n",
              "    border-color: transparent;\n",
              "    border-bottom-color: var(--fill-color);\n",
              "    animation:\n",
              "      spin 1s steps(1) infinite;\n",
              "  }\n",
              "\n",
              "  @keyframes spin {\n",
              "    0% {\n",
              "      border-color: transparent;\n",
              "      border-bottom-color: var(--fill-color);\n",
              "      border-left-color: var(--fill-color);\n",
              "    }\n",
              "    20% {\n",
              "      border-color: transparent;\n",
              "      border-left-color: var(--fill-color);\n",
              "      border-top-color: var(--fill-color);\n",
              "    }\n",
              "    30% {\n",
              "      border-color: transparent;\n",
              "      border-left-color: var(--fill-color);\n",
              "      border-top-color: var(--fill-color);\n",
              "      border-right-color: var(--fill-color);\n",
              "    }\n",
              "    40% {\n",
              "      border-color: transparent;\n",
              "      border-right-color: var(--fill-color);\n",
              "      border-top-color: var(--fill-color);\n",
              "    }\n",
              "    60% {\n",
              "      border-color: transparent;\n",
              "      border-right-color: var(--fill-color);\n",
              "    }\n",
              "    80% {\n",
              "      border-color: transparent;\n",
              "      border-right-color: var(--fill-color);\n",
              "      border-bottom-color: var(--fill-color);\n",
              "    }\n",
              "    90% {\n",
              "      border-color: transparent;\n",
              "      border-bottom-color: var(--fill-color);\n",
              "    }\n",
              "  }\n",
              "</style>\n",
              "\n",
              "  <script>\n",
              "    async function quickchart(key) {\n",
              "      const quickchartButtonEl =\n",
              "        document.querySelector('#' + key + ' button');\n",
              "      quickchartButtonEl.disabled = true;  // To prevent multiple clicks.\n",
              "      quickchartButtonEl.classList.add('colab-df-spinner');\n",
              "      try {\n",
              "        const charts = await google.colab.kernel.invokeFunction(\n",
              "            'suggestCharts', [key], {});\n",
              "      } catch (error) {\n",
              "        console.error('Error during call to suggestCharts:', error);\n",
              "      }\n",
              "      quickchartButtonEl.classList.remove('colab-df-spinner');\n",
              "      quickchartButtonEl.classList.add('colab-df-quickchart-complete');\n",
              "    }\n",
              "    (() => {\n",
              "      let quickchartButtonEl =\n",
              "        document.querySelector('#df-7377c208-c42f-467f-8327-d91eabd63743 button');\n",
              "      quickchartButtonEl.style.display =\n",
              "        google.colab.kernel.accessAllowed ? 'block' : 'none';\n",
              "    })();\n",
              "  </script>\n",
              "</div>\n",
              "    </div>\n",
              "  </div>\n"
            ],
            "application/vnd.google.colaboratory.intrinsic+json": {
              "type": "dataframe",
              "variable_name": "freq_items",
              "summary": "{\n  \"name\": \"freq_items\",\n  \"rows\": 69,\n  \"fields\": [\n    {\n      \"column\": \"support\",\n      \"properties\": {\n        \"dtype\": \"number\",\n        \"std\": 0.0720269246759107,\n        \"min\": 0.010875998816217815,\n        \"max\": 0.49363717076058006,\n        \"num_unique_values\": 66,\n        \"samples\": [\n          0.033071914767682745,\n          0.014020420242675347,\n          0.13021604024859426\n        ],\n        \"semantic_type\": \"\",\n        \"description\": \"\"\n      }\n    },\n    {\n      \"column\": \"itemsets\",\n      \"properties\": {\n        \"dtype\": \"string\",\n        \"num_unique_values\": 69,\n        \"samples\": [\n          \"frozenset({'Fantasy', 'Action'})\",\n          \"frozenset({'Action'})\",\n          \"frozenset({'Crime', 'Mystery'})\"\n        ],\n        \"semantic_type\": \"\",\n        \"description\": \"\"\n      }\n    }\n  ]\n}"
            }
          },
          "metadata": {},
          "execution_count": 22
        }
      ],
      "source": [
        "# Apriori algorithm\n",
        "freq_items = apriori(df_movies2_encoded, min_support=0.01, use_colnames=True)\n",
        "freq_items.head(19)"
      ]
    },
    {
      "cell_type": "markdown",
      "id": "a2bca8e8",
      "metadata": {
        "id": "a2bca8e8"
      },
      "source": [
        "In the dataframe above we see 19 most frequent itemsets that the algorithm has identified. Most of them are individual elemnts, yet, we can see some pairs like adventure and action, which intuitively makes sense, since we know from personal film-watching experience that this combination is a common one."
      ]
    },
    {
      "cell_type": "code",
      "execution_count": 23,
      "id": "b51bc1e5",
      "metadata": {
        "colab": {
          "base_uri": "https://localhost:8080/"
        },
        "id": "b51bc1e5",
        "outputId": "cea1fce1-ba17-45a0-91ac-11e419028250"
      },
      "outputs": [
        {
          "output_type": "stream",
          "name": "stdout",
          "text": [
            "Number of itemsets: 69\n"
          ]
        },
        {
          "output_type": "stream",
          "name": "stderr",
          "text": [
            "/usr/local/lib/python3.10/dist-packages/ipykernel/ipkernel.py:283: DeprecationWarning: `should_run_async` will not call `transform_cell` automatically in the future. Please pass the result to `transformed_cell` argument and any exception that happen during thetransform in `preprocessing_exc_tuple` in IPython 7.17 and above.\n",
            "  and should_run_async(code)\n"
          ]
        }
      ],
      "source": [
        "print(\"Number of itemsets:\", freq_items.shape[0])"
      ]
    },
    {
      "cell_type": "code",
      "execution_count": 24,
      "id": "5e3cfbd1",
      "metadata": {
        "colab": {
          "base_uri": "https://localhost:8080/"
        },
        "id": "5e3cfbd1",
        "outputId": "1356a841-05b6-4b3a-c83d-536494d5efcd"
      },
      "outputs": [
        {
          "output_type": "stream",
          "name": "stderr",
          "text": [
            "/usr/local/lib/python3.10/dist-packages/ipykernel/ipkernel.py:283: DeprecationWarning: `should_run_async` will not call `transform_cell` automatically in the future. Please pass the result to `transformed_cell` argument and any exception that happen during thetransform in `preprocessing_exc_tuple` in IPython 7.17 and above.\n",
            "  and should_run_async(code)\n"
          ]
        },
        {
          "output_type": "stream",
          "name": "stdout",
          "text": [
            "     support          itemsets\n",
            "7   0.493637           (Drama)\n",
            "4   0.309781          (Comedy)\n",
            "15  0.154558        (Thriller)\n",
            "13  0.152671         (Romance)\n",
            "0   0.130216          (Action)\n",
            "5   0.108723           (Crime)\n",
            "10  0.096589          (Horror)\n",
            "53  0.095183  (Romance, Drama)\n",
            "39  0.094185   (Drama, Comedy)\n",
            "6   0.091410     (Documentary)\n"
          ]
        }
      ],
      "source": [
        "print(freq_items.nlargest(10, 'support'))"
      ]
    },
    {
      "cell_type": "markdown",
      "id": "e59f06fd",
      "metadata": {
        "id": "e59f06fd"
      },
      "source": [
        "If we order the itemsets by support from the highest value to the lowest one, we notice that among top-10 itemsets there are two different combinations that both contain 'drama'. Moreover, the itemset with the highest support is the drama itself! Seems like drama is good on its own and with the elements of other genres in it.\n",
        "\n",
        "Yet, to be sure (at least to a certain extent) in the reliability of these and other itemsets, more research is needed."
      ]
    },
    {
      "cell_type": "markdown",
      "id": "f14e3247-3a63-4f7a-b43a-16c59b95708a",
      "metadata": {
        "id": "f14e3247-3a63-4f7a-b43a-16c59b95708a"
      },
      "source": [
        "- Mining for association rules: using the frequent items identified above, find association rules with a minimum confidence of 0.45 and order them by decreasing value of lift.\n",
        "- Discuss the following statements (true or false with 1-2 lines justification)\n",
        "    - Animation films are associated with Children.  \n",
        "    - If a film has the genre Musical, then it is also a Comedy.\n",
        "    - If War then Drama is the asociation rule with the highest confidence.  "
      ]
    },
    {
      "cell_type": "code",
      "execution_count": 25,
      "id": "93ff18aa-cda1-4402-857f-1b31c95ddecf",
      "metadata": {
        "colab": {
          "base_uri": "https://localhost:8080/",
          "height": 544,
          "referenced_widgets": [
            "205595be921a4728a139377e1c437732",
            "83e9015eff324d668300da5e06ca36fb",
            "c530e823e9524fa38ac38d82712f8471",
            "44f227c4f3ba40f2ba5dec8db25247dd",
            "f7481a60d55844389346b5f920e58f1f",
            "cca1eddcd5174430b4b269fc8f3e0e36",
            "935afcda61ed4d9b8652a4183afe5aec",
            "2506561cd6aa499ca5c0f7e950b9ed80",
            "f289186a0ae34780a2e14b775dc43148",
            "75706947330b4016a04cc56bacca080f"
          ]
        },
        "id": "93ff18aa-cda1-4402-857f-1b31c95ddecf",
        "outputId": "9268fa84-50fb-4a2c-f20c-9fa5ee90680c"
      },
      "outputs": [
        {
          "output_type": "stream",
          "name": "stderr",
          "text": [
            "/usr/local/lib/python3.10/dist-packages/ipykernel/ipkernel.py:283: DeprecationWarning: `should_run_async` will not call `transform_cell` automatically in the future. Please pass the result to `transformed_cell` argument and any exception that happen during thetransform in `preprocessing_exc_tuple` in IPython 7.17 and above.\n",
            "  and should_run_async(code)\n"
          ]
        },
        {
          "output_type": "display_data",
          "data": {
            "text/plain": [
              "interactive(children=(Dropdown(description='sort_by', options=('lift', 'support', 'confidence'), value='lift')…"
            ],
            "application/vnd.jupyter.widget-view+json": {
              "version_major": 2,
              "version_minor": 0,
              "model_id": "205595be921a4728a139377e1c437732"
            }
          },
          "metadata": {}
        }
      ],
      "source": [
        "metrics = ['lift', 'support', 'confidence']\n",
        "thresholds = [0.6, 0.5, 0.45, 0.3, 0.2, 0.15]\n",
        "\n",
        "@interact\n",
        "def interactive_association(sort_by = metrics, threshold = thresholds):\n",
        "    rules_interactive = association_rules(freq_items, metric=\"confidence\", min_threshold= threshold)\n",
        "    return rules_interactive.sort_values(by=sort_by, ascending=False)"
      ]
    },
    {
      "cell_type": "markdown",
      "id": "ca7c9aca",
      "metadata": {
        "id": "ca7c9aca"
      },
      "source": [
        "By choosing 'confidence' as the 'sort_by' parameter, and setting the threshold to 0.45, we obtain a dataframe from which we can infer relations between items and itemsets, make assumptions about combinations of genres."
      ]
    },
    {
      "cell_type": "markdown",
      "id": "b53625e8-c4f0-4146-a4be-2c03f8df1b2a",
      "metadata": {
        "id": "b53625e8-c4f0-4146-a4be-2c03f8df1b2a"
      },
      "source": [
        "*Discuss statements here*\n",
        "\n",
        "* **Animation films are associated with Children.** TRUE.\n",
        "\n",
        "    In the dataframe above we find line 0, which contains different metrics for the combination of 'animation' and 'children' as movie categories. Confidence in this case is slightly above the set threshold of 0.45. This indicates that the movies labeled 'animation' are often also labeled 'children'. The support is equal to 0.017, which is not very high, but still higher than the support of many other itemsets. Finally, the lift is the highest of all and is equal to 10.86. Therefore, we draw a conclusion that the association rule 'animation' + 'children' is strong enough to be relied on.\n",
        "    \n",
        "    \n",
        "* **If a film has the genre Musical, then it is also a Comedy.** FALSE.\n",
        "\n",
        "    Not necessarily. We do, indeed, find the combination 'musical' + 'comedy' in the dataframe above, however, this fact does not imply strict causality 'if musical, then comedy'. It suggests that a musical is often a comedy, but does not exclude a possibility of a musical being a drama or animation or simply just a musical.\n",
        "    \n",
        "    \n",
        "* **If War then Drama is the asociation rule with the highest confidence.** TRUE.\n",
        "\n",
        "    Sorted by confidence, the dataframe above displays the combination 'war' and 'drama' as the first line. The confidence for such combination is roughly equal to 0.75, and a cursory look at other lines allows us to see that it is indeed the highest confidence in the given dataset. It means that genre 'war' frequently occurs together with genre ' drama'. However, if we sort the dataframe by support and not confidence, the combination in question loses its first position. Yet, it stays in the top, which suggest that 'war' and 'drama' is a reliable association rule.\n"
      ]
    },
    {
      "cell_type": "markdown",
      "id": "d08235a6-27ec-45b7-9adc-0eea440b6b02",
      "metadata": {
        "id": "d08235a6-27ec-45b7-9adc-0eea440b6b02"
      },
      "source": [
        "## Recommender systems: item-based recommender system\n",
        "\n",
        "Here's how item-to-item collaborative filtering works:\n",
        "\n",
        "*   Similarity Calculation: The algorithm begins by calculating the similarity between items in the dataset. Various similarity measures can be used, such as cosine similarity, Pearson correlation coefficient, or Jaccard similarity, depending on the nature of the data and the domain.\n",
        "*   Item Neighborhood: Once the similarity between items is calculated, the algorithm identifies the \"neighborhood\" of each item, which consists of the most similar items to it. These similar items form the basis for generating recommendations.\n",
        "*   Recommendation Generation: To generate recommendations for a user, the algorithm looks at the items the user has interacted with or rated positively. It then identifies the most similar items to these items based on the item neighborhoods calculated earlier. These similar items are recommended to the user as potential items of interest.\n",
        "*    Ranking and Filtering: The algorithm may further rank the recommended items based on their similarity scores or other factors such as popularity or novelty. It may also apply filtering to remove items that the user has already interacted with or items that are not relevant to the user's preferences or context.\n",
        "\n",
        "We will not implement the algorithm from scratch, but rather rely on the [Surprise library](http://surpriselib.com/)."
      ]
    },
    {
      "cell_type": "markdown",
      "id": "dc548b9a-1a50-4ada-beb4-100ffe9bd701",
      "metadata": {
        "id": "dc548b9a-1a50-4ada-beb4-100ffe9bd701"
      },
      "source": [
        "- As in the walkthrough, load the *built-in* `ml-100k` from the Surprise library."
      ]
    },
    {
      "cell_type": "code",
      "execution_count": 26,
      "id": "3727a360",
      "metadata": {
        "colab": {
          "base_uri": "https://localhost:8080/"
        },
        "id": "3727a360",
        "outputId": "1d5e3915-c489-446f-fde6-ae3c9f26d464"
      },
      "outputs": [
        {
          "output_type": "stream",
          "name": "stderr",
          "text": [
            "/usr/local/lib/python3.10/dist-packages/ipykernel/ipkernel.py:283: DeprecationWarning: `should_run_async` will not call `transform_cell` automatically in the future. Please pass the result to `transformed_cell` argument and any exception that happen during thetransform in `preprocessing_exc_tuple` in IPython 7.17 and above.\n",
            "  and should_run_async(code)\n"
          ]
        }
      ],
      "source": [
        "import requests\n",
        "requests.packages.urllib3.disable_warnings()\n",
        "import ssl\n",
        "\n",
        "try:\n",
        "    _create_unverified_https_context = ssl._create_unverified_context\n",
        "except AttributeError:\n",
        "    # Legacy Python that doesn't verify HTTPS certificates by default\n",
        "    pass\n",
        "else:\n",
        "    # Handle target environment that doesn't support HTTPS verification\n",
        "    ssl._create_default_https_context = _create_unverified_https_context"
      ]
    },
    {
      "cell_type": "code",
      "execution_count": 27,
      "id": "5678f71a-015e-4fd6-aae9-ec15ccc47b72",
      "metadata": {
        "colab": {
          "base_uri": "https://localhost:8080/"
        },
        "id": "5678f71a-015e-4fd6-aae9-ec15ccc47b72",
        "outputId": "abcf2259-3cac-47e4-df6f-dd3bc1d0767e"
      },
      "outputs": [
        {
          "output_type": "stream",
          "name": "stderr",
          "text": [
            "/usr/local/lib/python3.10/dist-packages/ipykernel/ipkernel.py:283: DeprecationWarning: `should_run_async` will not call `transform_cell` automatically in the future. Please pass the result to `transformed_cell` argument and any exception that happen during thetransform in `preprocessing_exc_tuple` in IPython 7.17 and above.\n",
            "  and should_run_async(code)\n"
          ]
        },
        {
          "output_type": "stream",
          "name": "stdout",
          "text": [
            "Dataset ml-100k could not be found. Do you want to download it? [Y/n] Y\n",
            "Trying to download dataset from https://files.grouplens.org/datasets/movielens/ml-100k.zip...\n",
            "Done! Dataset ml-100k has been saved to /root/.surprise_data/ml-100k\n"
          ]
        }
      ],
      "source": [
        "data = Dataset.load_builtin('ml-100k')"
      ]
    },
    {
      "cell_type": "markdown",
      "id": "c1b550a4-6dd1-441a-8d55-ee8b3113a932",
      "metadata": {
        "id": "c1b550a4-6dd1-441a-8d55-ee8b3113a932"
      },
      "source": [
        "- Use GridSearchCV to find the best number of neighbors (k) for a KNNWithMeans **item-based** algorithm, with the following parameters:\n",
        "    - options for k: `[10, 20, 30, 40, 50]`\n",
        "    - `'sim_options': {'name': ['pearson'], 'user_based': [???]}` Here you have to replace `???` with the appropriate value...\n",
        "    - root-mean-square-error (RMSE) as measures,\n",
        "    - 5 cross-validation folds,\n",
        "    - other parameters: `refit=True, joblib_verbose=2, n_jobs=-1`\n",
        "- What is the optimal k for which GridSearchCV returned the best RMSE score?\n",
        "- What is the RMSE score for the optimal k?"
      ]
    },
    {
      "cell_type": "markdown",
      "id": "5cfb9999",
      "metadata": {
        "id": "5cfb9999"
      },
      "source": [
        "The paramter 'user_based' in this case should be set to 'False', beacause we are aiming at creating an **item-based** algorithm. In other words, we make the algorithm pay attention to patterns of items rather than users."
      ]
    },
    {
      "cell_type": "code",
      "execution_count": 28,
      "id": "b3971dda-842f-4091-9afe-cb186943e3aa",
      "metadata": {
        "colab": {
          "base_uri": "https://localhost:8080/"
        },
        "id": "b3971dda-842f-4091-9afe-cb186943e3aa",
        "outputId": "1713d31b-0b37-4e75-bebb-ce4b05900af3"
      },
      "outputs": [
        {
          "output_type": "stream",
          "name": "stderr",
          "text": [
            "/usr/local/lib/python3.10/dist-packages/ipykernel/ipkernel.py:283: DeprecationWarning: `should_run_async` will not call `transform_cell` automatically in the future. Please pass the result to `transformed_cell` argument and any exception that happen during thetransform in `preprocessing_exc_tuple` in IPython 7.17 and above.\n",
            "  and should_run_async(code)\n",
            "[Parallel(n_jobs=-1)]: Using backend LokyBackend with 2 concurrent workers.\n",
            "[Parallel(n_jobs=-1)]: Done  25 out of  25 | elapsed:  1.8min finished\n"
          ]
        },
        {
          "output_type": "stream",
          "name": "stdout",
          "text": [
            "Computing the pearson similarity matrix...\n",
            "Done computing similarity matrix.\n",
            "Best RMSE score: 0.940287756444457\n",
            "Best parameters: {'k': 50, 'sim_options': {'name': 'pearson', 'user_based': False}}\n"
          ]
        }
      ],
      "source": [
        "# Define the parameter grid to search over\n",
        "param_grid = {'k': [10, 20, 30, 40, 50],\n",
        "              'sim_options': {'name': ['pearson'],\n",
        "                              'user_based': [False]}}\n",
        "\n",
        "# Create the KNNWithMeans algorithm object\n",
        "knn = KNNWithMeans\n",
        "\n",
        "# Use GridSearchCV to find the best value for k\n",
        "grid_search = GridSearchCV(knn, param_grid, measures=['rmse'], cv=5, refit=True, joblib_verbose=2, n_jobs=-1)\n",
        "\n",
        "# Fit the grid search object to the data\n",
        "grid_search.fit(data)\n",
        "\n",
        "# Print the best score and the best parameters\n",
        "print(\"Best RMSE score:\", grid_search.best_score['rmse'])\n",
        "print(\"Best parameters:\", grid_search.best_params['rmse'])"
      ]
    },
    {
      "cell_type": "markdown",
      "id": "afd98fcb-c389-4807-b50b-bf8d56e5404b",
      "metadata": {
        "id": "afd98fcb-c389-4807-b50b-bf8d56e5404b"
      },
      "source": [
        "- Using the Surprise library, split your dataset between training and test set. As parameters, use `test_size=0.2, random_state=12`\n",
        "- Fit a KNNWithMeans algorithm using the best k value retrieved above. As other parameters, use:\n",
        "    - `min_k=1`\n",
        "    - `sim_options = {'name': 'pearson','user_based': ???}`\n",
        "    - `verbose=False`\n",
        "- Predict ratings on the test set using your algorithm"
      ]
    },
    {
      "cell_type": "markdown",
      "id": "fe38fda8",
      "metadata": {
        "id": "fe38fda8"
      },
      "source": [
        "*Explanation of the choice of some of the parameters:*\n",
        "\n",
        "* 'test_size': 20% of the observations were arbitrary put into the test set with the rest being the training data for the algorithm.\n",
        "\n",
        "* k: As previously discovered, the best value for k is 50.\n",
        "\n",
        "* 'user_based': set to FALSE to create an item-based algorithm."
      ]
    },
    {
      "cell_type": "code",
      "execution_count": 29,
      "id": "b342582d-44a9-486b-bcf5-6a58000487a0",
      "metadata": {
        "colab": {
          "base_uri": "https://localhost:8080/"
        },
        "id": "b342582d-44a9-486b-bcf5-6a58000487a0",
        "outputId": "c501c828-2d54-4d3a-f621-54f0c7e0c16c"
      },
      "outputs": [
        {
          "output_type": "stream",
          "name": "stderr",
          "text": [
            "/usr/local/lib/python3.10/dist-packages/ipykernel/ipkernel.py:283: DeprecationWarning: `should_run_async` will not call `transform_cell` automatically in the future. Please pass the result to `transformed_cell` argument and any exception that happen during thetransform in `preprocessing_exc_tuple` in IPython 7.17 and above.\n",
            "  and should_run_async(code)\n"
          ]
        },
        {
          "output_type": "stream",
          "name": "stdout",
          "text": [
            "RMSE: 0.9378\n",
            "Test set RMSE: 0.937783\n"
          ]
        }
      ],
      "source": [
        "# Split the data into training and test sets\n",
        "trainset, testset = train_test_split(data, test_size=0.2, random_state=12)\n",
        "\n",
        "# Define the parameters for the KNNWithMeans algorithm\n",
        "k = 50\n",
        "sim_options = {'name': 'pearson', 'user_based': False}\n",
        "algo = KNNWithMeans(k=k, min_k=1, sim_options=sim_options, verbose=False)\n",
        "\n",
        "# Fit the algorithm to the training set\n",
        "algo.fit(trainset)\n",
        "\n",
        "# Make predictions on the test set\n",
        "predictions = algo.test(testset)\n",
        "\n",
        "# Print the RMSE score on the test set\n",
        "rmse = accuracy.rmse(predictions)\n",
        "print(\"Test set RMSE:\", round(rmse, 6))\n"
      ]
    },
    {
      "cell_type": "code",
      "execution_count": 30,
      "id": "5c735b50",
      "metadata": {
        "colab": {
          "base_uri": "https://localhost:8080/"
        },
        "id": "5c735b50",
        "outputId": "f1e81e7c-5188-4d21-9dee-ab15134dde40"
      },
      "outputs": [
        {
          "output_type": "stream",
          "name": "stderr",
          "text": [
            "/usr/local/lib/python3.10/dist-packages/ipykernel/ipkernel.py:283: DeprecationWarning: `should_run_async` will not call `transform_cell` automatically in the future. Please pass the result to `transformed_cell` argument and any exception that happen during thetransform in `preprocessing_exc_tuple` in IPython 7.17 and above.\n",
            "  and should_run_async(code)\n"
          ]
        },
        {
          "output_type": "stream",
          "name": "stdout",
          "text": [
            "user: 490        item: 293        r_ui = 2.00   est = 3.17   {'actual_k': 34, 'was_impossible': False}\n",
            "user: 533        item: 82         r_ui = 4.00   est = 3.70   {'actual_k': 50, 'was_impossible': False}\n",
            "user: 460        item: 221        r_ui = 4.00   est = 3.65   {'actual_k': 39, 'was_impossible': False}\n",
            "user: 916        item: 68         r_ui = 3.00   est = 3.57   {'actual_k': 50, 'was_impossible': False}\n",
            "user: 924        item: 402        r_ui = 3.00   est = 3.45   {'actual_k': 50, 'was_impossible': False}\n",
            "user: 455        item: 79         r_ui = 4.00   est = 4.07   {'actual_k': 50, 'was_impossible': False}\n",
            "user: 833        item: 447        r_ui = 5.00   est = 3.07   {'actual_k': 50, 'was_impossible': False}\n",
            "user: 500        item: 619        r_ui = 3.00   est = 3.01   {'actual_k': 50, 'was_impossible': False}\n",
            "user: 915        item: 300        r_ui = 3.00   est = 3.03   {'actual_k': 17, 'was_impossible': False}\n",
            "user: 311        item: 31         r_ui = 4.00   est = 4.04   {'actual_k': 50, 'was_impossible': False}\n"
          ]
        }
      ],
      "source": [
        "# Predict ratings on the test set\n",
        "predictions = algo.test(testset)\n",
        "\n",
        "# Print the first five predictions\n",
        "for i in range(10):\n",
        "    print(predictions[i])\n",
        "#for i in range(len(testset)):\n",
        "    #print(predictions[i])\n"
      ]
    },
    {
      "cell_type": "markdown",
      "id": "5b00509a",
      "metadata": {
        "id": "5b00509a"
      },
      "source": [
        "Due to the large number of users in the given dataset, I displayed only a fraction of them for demonstation purposes. The last two lines of code in the cell above (commented) would have displayed the whole range of predictions.\n",
        "\n",
        "In the sample above we see the user ID, item ID, real rating, predicted rating and k."
      ]
    },
    {
      "cell_type": "markdown",
      "id": "9250babc-8ba9-4234-9d21-429766d34bd4",
      "metadata": {
        "id": "9250babc-8ba9-4234-9d21-429766d34bd4"
      },
      "source": [
        "- Use the helper function below to identify the best 10 films for all users\n",
        "- Find the top 10 predictions for user 169 (you should return the titles of the movies)"
      ]
    },
    {
      "cell_type": "code",
      "execution_count": 31,
      "id": "23fe1156-6120-416a-a03e-4b126d2964f2",
      "metadata": {
        "colab": {
          "base_uri": "https://localhost:8080/"
        },
        "id": "23fe1156-6120-416a-a03e-4b126d2964f2",
        "outputId": "72a5c745-7897-4971-cf35-b0acd927f875"
      },
      "outputs": [
        {
          "output_type": "stream",
          "name": "stderr",
          "text": [
            "/usr/local/lib/python3.10/dist-packages/ipykernel/ipkernel.py:283: DeprecationWarning: `should_run_async` will not call `transform_cell` automatically in the future. Please pass the result to `transformed_cell` argument and any exception that happen during thetransform in `preprocessing_exc_tuple` in IPython 7.17 and above.\n",
            "  and should_run_async(code)\n"
          ]
        }
      ],
      "source": [
        "def read_item_names():\n",
        "    '''Read the u.item file from MovieLens 100-k dataset and return two\n",
        "    mappings to convert raw ids into movie names and movie names into raw ids.\n",
        "    '''\n",
        "\n",
        "    file_name = get_dataset_dir() + '/ml-100k/ml-100k/u.item'\n",
        "    rid_to_name = {}\n",
        "    name_to_rid = {}\n",
        "    with io.open(file_name, 'r', encoding='ISO-8859-1') as f:\n",
        "        for line in f:\n",
        "            line = line.split('|')\n",
        "            rid_to_name[line[0]] = line[1]\n",
        "            name_to_rid[line[1]] = line[0]\n",
        "\n",
        "    return rid_to_name, name_to_rid\n",
        "\n",
        "\n",
        "def get_top_n(predictions, n=10):\n",
        "    '''Return the top-N recommendation for each user from a set of predictions.\n",
        "\n",
        "    Args:\n",
        "        predictions(list of Prediction objects): The list of predictions, as\n",
        "            returned by the test method of an algorithm.\n",
        "        n(int): The number of recommendation to output for each user. Default\n",
        "            is 10.\n",
        "\n",
        "    Returns:\n",
        "    A dict where keys are user (raw) ids and values are lists of tuples:\n",
        "        [(raw item id, rating estimation), ...] of size n.\n",
        "    '''\n",
        "    # First map the predictions to each user.\n",
        "    top_n = defaultdict(list) # This is used to group a sequence of key-value pairs into a dictionary of lists\n",
        "    for uid, iid, true_r, est, _ in predictions:\n",
        "        top_n[uid].append((iid, est))\n",
        "    # Then sort the predictions for each user and retrieve the k highest ones.\n",
        "    for uid, user_ratings in top_n.items():\n",
        "        user_ratings.sort(key=lambda x: x[1], reverse=True)\n",
        "        top_n[uid] = user_ratings[:n]\n",
        "    return top_n"
      ]
    },
    {
      "cell_type": "markdown",
      "id": "473f4b72",
      "metadata": {
        "id": "473f4b72"
      },
      "source": [
        "As in the previous case, the size of the dataframe would make it inconvenient to display and work with the entire scope of generated recommendations. Therefore, I store all the top-10 reconmendations in 'top_n', but display only the recomendations for 10 random users."
      ]
    },
    {
      "cell_type": "code",
      "execution_count": 32,
      "id": "8fed6ed5",
      "metadata": {
        "scrolled": false,
        "colab": {
          "base_uri": "https://localhost:8080/"
        },
        "id": "8fed6ed5",
        "outputId": "d1be8d35-b02e-426b-c3a9-e7aacd64f1f5"
      },
      "outputs": [
        {
          "output_type": "stream",
          "name": "stdout",
          "text": [
            "Recommended items for user id 338:  134, 479, 513, 100, 478, 170, 525, 194, 208, 1\n",
            "Recommended movies for user id 338:  Citizen Kane (1941), Vertigo (1958), Third Man, The (1949), Fargo (1996), Philadelphia Story, The (1940), Cinema Paradiso (1988), Big Sleep, The (1946), Sting, The (1973), Young Frankenstein (1974), Toy Story (1995)\n",
            "\n",
            "Recommended items for user id 144:  318, 251, 127, 96, 194, 170, 651, 531, 69, 1039\n",
            "Recommended movies for user id 144:  Schindler's List (1993), Shall We Dance? (1996), Godfather, The (1972), Terminator 2: Judgment Day (1991), Sting, The (1973), Cinema Paradiso (1988), Glory (1989), Shine (1996), Forrest Gump (1994), Hamlet (1996)\n",
            "\n",
            "Recommended items for user id 726:  763, 25, 323\n",
            "Recommended movies for user id 726:  Happy Gilmore (1996), Birdcage, The (1996), Dante's Peak (1997)\n",
            "\n",
            "Recommended items for user id 806:  923, 98, 56, 179, 237, 504, 1, 200, 521, 157\n",
            "Recommended movies for user id 806:  Raise the Red Lantern (1991), Silence of the Lambs, The (1991), Pulp Fiction (1994), Clockwork Orange, A (1971), Jerry Maguire (1996), Bonnie and Clyde (1967), Toy Story (1995), Shining, The (1980), Deer Hunter, The (1978), Platoon (1986)\n",
            "\n",
            "Recommended items for user id 870:  100, 513, 489, 315, 427, 48, 511, 171, 124, 209\n",
            "Recommended movies for user id 870:  Fargo (1996), Third Man, The (1949), Notorious (1946), Apt Pupil (1998), To Kill a Mockingbird (1962), Hoop Dreams (1994), Lawrence of Arabia (1962), Delicatessen (1991), Lone Star (1996), This Is Spinal Tap (1984)\n",
            "\n",
            "Recommended items for user id 841:  300, 333, 344, 331, 323, 892\n",
            "Recommended movies for user id 841:  Air Force One (1997), Game, The (1997), Apostle, The (1997), Edge, The (1997), Dante's Peak (1997), Flubber (1997)\n",
            "\n",
            "Recommended items for user id 588:  178, 313, 173, 315, 100, 172, 181, 652, 15, 735\n",
            "Recommended movies for user id 588:  12 Angry Men (1957), Titanic (1997), Princess Bride, The (1987), Apt Pupil (1998), Fargo (1996), Empire Strikes Back, The (1980), Return of the Jedi (1983), Rosencrantz and Guildenstern Are Dead (1990), Mr. Holland's Opus (1995), Philadelphia (1993)\n",
            "\n",
            "Recommended items for user id 547:  315, 313, 302, 301, 751, 338\n",
            "Recommended movies for user id 547:  Apt Pupil (1998), Titanic (1997), L.A. Confidential (1997), In & Out (1997), Tomorrow Never Dies (1997), Bean (1997)\n",
            "\n",
            "Recommended items for user id 264:  12, 603, 56, 238, 150, 93, 433, 210, 116, 367\n",
            "Recommended movies for user id 264:  Usual Suspects, The (1995), Rear Window (1954), Pulp Fiction (1994), Raising Arizona (1987), Swingers (1996), Welcome to the Dollhouse (1995), Heathers (1989), Indiana Jones and the Last Crusade (1989), Cold Comfort Farm (1995), Clueless (1995)\n",
            "\n",
            "Recommended items for user id 357:  150, 275, 258, 270, 685, 833, 595, 748, 546, 597\n",
            "Recommended movies for user id 357:  Swingers (1996), Sense and Sensibility (1995), Contact (1997), Gattaca (1997), Executive Decision (1996), Bulletproof (1996), Fan, The (1996), Saint, The (1997), Broken Arrow (1996), Eraser (1996)\n",
            "\n"
          ]
        },
        {
          "output_type": "stream",
          "name": "stderr",
          "text": [
            "/usr/local/lib/python3.10/dist-packages/ipykernel/ipkernel.py:283: DeprecationWarning: `should_run_async` will not call `transform_cell` automatically in the future. Please pass the result to `transformed_cell` argument and any exception that happen during thetransform in `preprocessing_exc_tuple` in IPython 7.17 and above.\n",
            "  and should_run_async(code)\n"
          ]
        }
      ],
      "source": [
        "import random\n",
        "\n",
        "# Get top 10 movies for all users\n",
        "top_n = get_top_n(predictions, n=10)\n",
        "\n",
        "# Read the mappings row id <-> movie name\n",
        "rid_to_name, name_to_rid = read_item_names()\n",
        "\n",
        "# Choose 10 random user ids\n",
        "user_ids = random.sample(list(top_n.keys()), 10)\n",
        "\n",
        "# Print the recommended items for each user\n",
        "for uid in user_ids:\n",
        "    user_ratings = top_n[uid]\n",
        "    recommended_items = [iid for (iid, _) in user_ratings]\n",
        "    print(f'Recommended items for user id {uid}: ', ', '.join(recommended_items))\n",
        "\n",
        "    # Convert ids into names\n",
        "    item_names = [rid_to_name[rid] for rid in recommended_items]\n",
        "    print(f'Recommended movies for user id {uid}: ', ', '.join(item_names))\n",
        "    print()  # Add a blank line for readability\n"
      ]
    },
    {
      "cell_type": "markdown",
      "id": "3b47997b",
      "metadata": {
        "id": "3b47997b"
      },
      "source": [
        "The algorithm displays both item IDs and the names of the corresponding movies for each of the randomly chosen users.\n",
        "\n",
        "Next step is to apply the same function to extract top-10 recommendations for the user 169."
      ]
    },
    {
      "cell_type": "code",
      "execution_count": 33,
      "id": "a9f88a04-9eb7-49da-90ea-0f914124cd04",
      "metadata": {
        "colab": {
          "base_uri": "https://localhost:8080/"
        },
        "id": "a9f88a04-9eb7-49da-90ea-0f914124cd04",
        "outputId": "38aa9486-6f15-4719-ca12-79f2c0a70bad"
      },
      "outputs": [
        {
          "output_type": "stream",
          "name": "stdout",
          "text": [
            "Recommended items for user id 169:  603, 483, 499, 134, 480, 525, 482, 495, 204, 443\n",
            "\n",
            "Recommended movies for user id 169:  Rear Window (1954), Casablanca (1942), Cat on a Hot Tin Roof (1958), Citizen Kane (1941), North by Northwest (1959), Big Sleep, The (1946), Some Like It Hot (1959), Around the World in 80 Days (1956), Back to the Future (1985), Birds, The (1963)\n"
          ]
        },
        {
          "output_type": "stream",
          "name": "stderr",
          "text": [
            "/usr/local/lib/python3.10/dist-packages/ipykernel/ipkernel.py:283: DeprecationWarning: `should_run_async` will not call `transform_cell` automatically in the future. Please pass the result to `transformed_cell` argument and any exception that happen during thetransform in `preprocessing_exc_tuple` in IPython 7.17 and above.\n",
            "  and should_run_async(code)\n"
          ]
        }
      ],
      "source": [
        "# Print the recommended items for user id 169\n",
        "uid = '169'\n",
        "user_ratings = top_n[uid]\n",
        "recommended_items = [iid for (iid, _) in user_ratings]\n",
        "print(f'Recommended items for user id {uid}: ',', '.join(recommended_items))\n",
        "\n",
        "# Convert ids into names\n",
        "item_names = [rid_to_name[rid]\n",
        "              for rid in recommended_items]\n",
        "print(f'\\nRecommended movies for user id {uid}: ', ', '.join(item_names))"
      ]
    },
    {
      "cell_type": "markdown",
      "id": "dc00fddb",
      "metadata": {
        "id": "dc00fddb"
      },
      "source": [
        "It seems like user 169 has a preference for old movies! In the previously conducted analysis the year of release of a movie was not taken into consideration, yet, it would be interesting to carry out a research on users' preferences concerning time periods instead of genres. We can expect to obtain clusters of vintage-movies-aficionados, modern viewers and 'any time is a good time'.\n",
        "\n",
        "To take the anlysis even further, we could look at how preferences for genres and time periods compare. For example, there might be a category of users that adores old scifi movies, like the original Star Wars trilogy, but hates the new scifi creations; and vice versa. There might be users who rate all relatively old movies poorly, regardless of genre, and demonstrate a clear preference for recent releases.  \n",
        "\n",
        "Another curious similarity between the recommended movies is the country of production: all of the recommended movies are American.\n",
        "\n",
        "Last but not the least, we can detect genre similarities of the recommended movies. Some of them are horrors and thrillers, there are also a couple of comedies with elements of fantasy.\n",
        "\n",
        "In real streaming services the algorithms are complex and they take into consideration genres, date of release and even your favourite actors, when they make recommendations for you!\n",
        "\n",
        "Coming back to the recommendations for the user 169, there is an important factor to keep in mind, namely, the fact that we used item-based algorithm. We notice that the recommended movies have some traits in common: year of release, country of production, genres. If we used a user-based algorithms, we might have got somewhat different recommendations."
      ]
    },
    {
      "cell_type": "markdown",
      "id": "e0093ba6-a590-4969-bd78-5fa06b4f51b5",
      "metadata": {
        "id": "e0093ba6-a590-4969-bd78-5fa06b4f51b5"
      },
      "source": [
        "- Plot the precision at rank k and the recall at rank k on the same figure, for k between 0 and 20, and a relevance threshold of 3.75\n",
        "- Plot the precision-recall curve"
      ]
    },
    {
      "cell_type": "code",
      "execution_count": 34,
      "id": "81e4c671-baa8-49e3-8dc4-b86add32b952",
      "metadata": {
        "colab": {
          "base_uri": "https://localhost:8080/"
        },
        "id": "81e4c671-baa8-49e3-8dc4-b86add32b952",
        "outputId": "74031e17-193b-4b46-ee52-18d44ebf8af1"
      },
      "outputs": [
        {
          "output_type": "stream",
          "name": "stderr",
          "text": [
            "/usr/local/lib/python3.10/dist-packages/ipykernel/ipkernel.py:283: DeprecationWarning: `should_run_async` will not call `transform_cell` automatically in the future. Please pass the result to `transformed_cell` argument and any exception that happen during thetransform in `preprocessing_exc_tuple` in IPython 7.17 and above.\n",
            "  and should_run_async(code)\n"
          ]
        }
      ],
      "source": [
        "def precision_recall_at_k(predictions, k, threshold):\n",
        "    '''Return precision and recall at k metrics for each user.'''\n",
        "\n",
        "    # First map the predictions to each user.\n",
        "    user_est_true = defaultdict(list)\n",
        "    for uid, _, true_r, est, _ in predictions:\n",
        "        user_est_true[uid].append((est, true_r))\n",
        "\n",
        "    precisions = dict()\n",
        "    recalls = dict()\n",
        "    for uid, user_ratings in user_est_true.items():\n",
        "\n",
        "        # Sort user ratings by estimated value\n",
        "        user_ratings.sort(key=lambda x: x[0], reverse=True)\n",
        "\n",
        "        # Number of relevant items\n",
        "        n_rel = sum((true_r >= threshold) for (_, true_r) in user_ratings)\n",
        "\n",
        "        # Number of recommended items in top k\n",
        "        n_rec_k = sum((est >= threshold) for (est, _) in user_ratings[:k])\n",
        "\n",
        "        # Number of relevant and recommended items in top k\n",
        "        n_rel_and_rec_k = sum(((true_r >= threshold) and (est >= threshold))\n",
        "                              for (est, true_r) in user_ratings[:k])\n",
        "\n",
        "        # Precision@K: Proportion of recommended items that are relevant\n",
        "        precisions[uid] = n_rel_and_rec_k / n_rec_k if n_rec_k != 0 else 1\n",
        "\n",
        "        # Recall@K: Proportion of relevant items that are recommended\n",
        "        recalls[uid] = n_rel_and_rec_k / n_rel if n_rel != 0 else 1\n",
        "\n",
        "    return precisions, recalls\n",
        "\n"
      ]
    },
    {
      "cell_type": "code",
      "execution_count": 35,
      "id": "4dd2eac1",
      "metadata": {
        "colab": {
          "base_uri": "https://localhost:8080/",
          "height": 541
        },
        "id": "4dd2eac1",
        "outputId": "ae13515c-fad5-4dfd-84b4-dcf0ec0d0e52"
      },
      "outputs": [
        {
          "output_type": "stream",
          "name": "stderr",
          "text": [
            "/usr/local/lib/python3.10/dist-packages/ipykernel/ipkernel.py:283: DeprecationWarning: `should_run_async` will not call `transform_cell` automatically in the future. Please pass the result to `transformed_cell` argument and any exception that happen during thetransform in `preprocessing_exc_tuple` in IPython 7.17 and above.\n",
            "  and should_run_async(code)\n"
          ]
        },
        {
          "output_type": "display_data",
          "data": {
            "text/plain": [
              "<Figure size 640x480 with 1 Axes>"
            ],
            "image/png": "[encoded data removed]"
          },
          "metadata": {}
        },
        {
          "output_type": "stream",
          "name": "stdout",
          "text": [
            "Precision for item-based knn, k=20 0.7981439566140122\n",
            "Recall for item-based knn, k=20 0.5264430677235229\n"
          ]
        }
      ],
      "source": [
        "# Compute precision and recall for k between 0 and 9\n",
        "precision = []\n",
        "recall = []\n",
        "for k in range(21):\n",
        "    # rating > 3.75 = relevant, rating < 3.75 = irrelevant\n",
        "    precisions, recalls = precision_recall_at_k(predictions, k=k, threshold=3.75)\n",
        "    # Precision and recall can then be averaged over all users\n",
        "    precision.append( sum(prec for prec in precisions.values()) / len(precisions) )\n",
        "    recall.append( sum(rec for rec in recalls.values()) / len(recalls) )\n",
        "\n",
        "# Plot\n",
        "plt.plot(range(21), recall, 'ro-', label=\"Recall\")\n",
        "plt.plot(range(21), precision, 'go-', label=\"Precision\")\n",
        "plt.legend()\n",
        "plt.title(\"Precision and recall for item-based KNN\")\n",
        "plt.show();\n",
        "\n",
        "# Precision and recall at rank 20:\n",
        "precisions, recalls = precision_recall_at_k(predictions, k=20, threshold=3.75)\n",
        "print(\"Precision for item-based knn, k=20\", sum(prec for prec in precisions.values()) / len(precisions))\n",
        "print(\"Recall for item-based knn, k=20\", sum(rec for rec in recalls.values()) / len(recalls))"
      ]
    },
    {
      "cell_type": "markdown",
      "id": "6d13ce79",
      "metadata": {
        "id": "6d13ce79"
      },
      "source": [
        "The graph above allows us to analyse the tradeoff between recall and precision as the k gradually increases from 0 to 20.\n",
        "\n",
        "We see that the increase in k leads to growth of recall and fall of precision. This is logical, because the more predictions are included, the more likely it is to encounter false positives, which results in a lower precision. A hypothetical perfect model  would strike a perfect balance between high precision and high recall. Alas, in real world, there is almost always a tradeoff between the two.\n",
        "\n",
        "There is no single best answer as to what k to pick based on the recall and precision. If we cannot maximize both at the same time, we need to decide whether to prioritize recall over precision or vice versa. Would it better to recommend a user a movie they would not like or fail to recommend a movie they would have enjoyed? In other words, what is 'better' - to have the highest fraction of true positives among all predicted positives, or to have fewer false negatives? This is debatable question. If I were a developer of a recommender system for a streaming service, I would prioritize recall. Why recall? Because if a user encounteres a movie they are not interested in (false positive), they would just scroll further. And if they do not encounter a movie they would watch, the streaming service loses potential views and the movie producers do not reach the broad audience they could have reached. That is why it is important to minimize the number of false negatives. It's better to recommend a user more movies and have more false positives in that sample, than to recommend less and miss out on potential views (and, therefore, profit). Yet, there is a drawback to this approach. when seeing too many irrelevant recommendations, a user can become annoyed with the algorith and switch to another streaming service.\n",
        "\n",
        "Another arguement in favour of this approach would be the fact that, according to the graph, precision does not decrease sharply. In fact, it decreases slower than recall increases. Therefore, if we take a higher recall, we would not have to sacrifise too much of precision.\n",
        "\n",
        "That being said, I would pick k=20 to maximize recall and show a user top-20 recommendations. Or ever top-50, but 50 is not in the range here."
      ]
    },
    {
      "cell_type": "code",
      "execution_count": 36,
      "id": "f4de804e",
      "metadata": {
        "colab": {
          "base_uri": "https://localhost:8080/"
        },
        "id": "f4de804e",
        "outputId": "3959cc79-e0c6-469b-897f-1c2e8d07b76a"
      },
      "outputs": [
        {
          "output_type": "stream",
          "name": "stderr",
          "text": [
            "/usr/local/lib/python3.10/dist-packages/ipykernel/ipkernel.py:283: DeprecationWarning: `should_run_async` will not call `transform_cell` automatically in the future. Please pass the result to `transformed_cell` argument and any exception that happen during thetransform in `preprocessing_exc_tuple` in IPython 7.17 and above.\n",
            "  and should_run_async(code)\n"
          ]
        }
      ],
      "source": [
        "def precision_recall_algo(algo):\n",
        "    '''Return precision and recall at k metrics for an algorithm.'''\n",
        "\n",
        "    # Fit algo on training set\n",
        "    algo.fit(trainset)\n",
        "\n",
        "    # Predict on test set\n",
        "    predictions = algo.test(testset)\n",
        "\n",
        "    # Compute precision and recall\n",
        "    precision = []\n",
        "    recall = []\n",
        "    for k in range(21):\n",
        "        precisions, recalls = precision_recall_at_k(predictions, k=k, threshold=3.5)\n",
        "        precision.append( sum(prec for prec in precisions.values()) / len(precisions) )\n",
        "        recall.append( sum(rec for rec in recalls.values()) / len(recalls) )\n",
        "\n",
        "    return precision, recall"
      ]
    },
    {
      "cell_type": "code",
      "execution_count": 37,
      "id": "9c04d61d",
      "metadata": {
        "colab": {
          "base_uri": "https://localhost:8080/",
          "height": 527
        },
        "id": "9c04d61d",
        "outputId": "4906602a-3d9e-412f-f667-7b675f98af55"
      },
      "outputs": [
        {
          "output_type": "stream",
          "name": "stderr",
          "text": [
            "/usr/local/lib/python3.10/dist-packages/ipykernel/ipkernel.py:283: DeprecationWarning: `should_run_async` will not call `transform_cell` automatically in the future. Please pass the result to `transformed_cell` argument and any exception that happen during thetransform in `preprocessing_exc_tuple` in IPython 7.17 and above.\n",
            "  and should_run_async(code)\n"
          ]
        },
        {
          "output_type": "display_data",
          "data": {
            "text/plain": [
              "<Figure size 640x480 with 1 Axes>"
            ],
            "image/png": "[encoded data removed]"
          },
          "metadata": {}
        }
      ],
      "source": [
        "# KNN precision and recall\n",
        "algo_KNN =  KNNWithMeans(k=20, min_k=0, sim_options=sim_options, verbose=False)\n",
        "precision_KNN, recall_KNN = precision_recall_algo(algo_KNN)\n",
        "\n",
        "# SVD (Singular Value Decomposition) precision and recall\n",
        "algo_SVD = SVD()\n",
        "precision_SVD, recall_SVD = precision_recall_algo(algo_SVD)\n",
        "\n",
        "# Plot\n",
        "plt.step(recall, precision, color='red', where='post', label ='KNN')\n",
        "plt.step(recall_SVD, precision_SVD, color='pink', where='post', label ='SVD')\n",
        "plt.xlabel('Recall')\n",
        "plt.ylabel('Precision')\n",
        "plt.legend()\n",
        "plt.title('Precision-Recall curve');"
      ]
    },
    {
      "cell_type": "markdown",
      "id": "1022d94d",
      "metadata": {
        "id": "1022d94d"
      },
      "source": [
        "The graph above illustrates that the KNN approach is preferrable to the SVD approach. This conclusion stems form the fact that the area under the red line (KNN) is bigger than the area under the pink line (SVD)."
      ]
    }
  ],
  "metadata": {
    "kernelspec": {
      "display_name": "Python 3 (ipykernel)",
      "language": "python",
      "name": "python3"
    },
    "language_info": {
      "codemirror_mode": {
        "name": "ipython",
        "version": 3
      },
      "file_extension": ".py",
      "mimetype": "text/x-python",
      "name": "python",
      "nbconvert_exporter": "python",
      "pygments_lexer": "ipython3",
      "version": "3.9.12"
    },
    "colab": {
      "provenance": [],
      "include_colab_link": true
    },
    "widgets": {
      "application/vnd.jupyter.widget-state+json": {
        "205595be921a4728a139377e1c437732": {
          "model_module": "@jupyter-widgets/controls",
          "model_name": "VBoxModel",
          "model_module_version": "1.5.0",
          "state": {
            "_dom_classes": [
              "widget-interact"
            ],
            "_model_module": "@jupyter-widgets/controls",
            "_model_module_version": "1.5.0",
            "_model_name": "VBoxModel",
            "_view_count": null,
            "_view_module": "@jupyter-widgets/controls",
            "_view_module_version": "1.5.0",
            "_view_name": "VBoxView",
            "box_style": "",
            "children": [
              "IPY_MODEL_83e9015eff324d668300da5e06ca36fb",
              "IPY_MODEL_c530e823e9524fa38ac38d82712f8471",
              "IPY_MODEL_44f227c4f3ba40f2ba5dec8db25247dd"
            ],
            "layout": "IPY_MODEL_f7481a60d55844389346b5f920e58f1f"
          }
        },
        "83e9015eff324d668300da5e06ca36fb": {
          "model_module": "@jupyter-widgets/controls",
          "model_name": "DropdownModel",
          "model_module_version": "1.5.0",
          "state": {
            "_dom_classes": [],
            "_model_module": "@jupyter-widgets/controls",
            "_model_module_version": "1.5.0",
            "_model_name": "DropdownModel",
            "_options_labels": [
              "lift",
              "support",
              "confidence"
            ],
            "_view_count": null,
            "_view_module": "@jupyter-widgets/controls",
            "_view_module_version": "1.5.0",
            "_view_name": "DropdownView",
            "description": "sort_by",
            "description_tooltip": null,
            "disabled": false,
            "index": 2,
            "layout": "IPY_MODEL_cca1eddcd5174430b4b269fc8f3e0e36",
            "style": "IPY_MODEL_935afcda61ed4d9b8652a4183afe5aec"
          }
        },
        "c530e823e9524fa38ac38d82712f8471": {
          "model_module": "@jupyter-widgets/controls",
          "model_name": "DropdownModel",
          "model_module_version": "1.5.0",
          "state": {
            "_dom_classes": [],
            "_model_module": "@jupyter-widgets/controls",
            "_model_module_version": "1.5.0",
            "_model_name": "DropdownModel",
            "_options_labels": [
              "0.6",
              "0.5",
              "0.45",
              "0.3",
              "0.2",
              "0.15"
            ],
            "_view_count": null,
            "_view_module": "@jupyter-widgets/controls",
            "_view_module_version": "1.5.0",
            "_view_name": "DropdownView",
            "description": "threshold",
            "description_tooltip": null,
            "disabled": false,
            "index": 2,
            "layout": "IPY_MODEL_2506561cd6aa499ca5c0f7e950b9ed80",
            "style": "IPY_MODEL_f289186a0ae34780a2e14b775dc43148"
          }
        },
        "44f227c4f3ba40f2ba5dec8db25247dd": {
          "model_module": "@jupyter-widgets/output",
          "model_name": "OutputModel",
          "model_module_version": "1.0.0",
          "state": {
            "_dom_classes": [],
            "_model_module": "@jupyter-widgets/output",
            "_model_module_version": "1.0.0",
            "_model_name": "OutputModel",
            "_view_count": null,
            "_view_module": "@jupyter-widgets/output",
            "_view_module_version": "1.0.0",
            "_view_name": "OutputView",
            "layout": "IPY_MODEL_75706947330b4016a04cc56bacca080f",
            "msg_id": "",
            "outputs": [
              {
                "output_type": "display_data",
                "data": {
                  "text/plain": "          antecedents consequents  antecedent support  consequent support  \\\n7               (War)     (Drama)            0.044170            0.493637   \n6           (Romance)     (Drama)            0.152671            0.493637   \n4             (Crime)     (Drama)            0.108723            0.493637   \n10  (Crime, Thriller)     (Drama)            0.045576            0.493637   \n8           (Mystery)  (Thriller)            0.056008            0.154558   \n9     (Crime, Action)  (Thriller)            0.028374            0.154558   \n11   (Mystery, Drama)  (Thriller)            0.026672            0.154558   \n5           (Mystery)     (Drama)            0.056008            0.493637   \n2           (Musical)    (Comedy)            0.038325            0.309781   \n1          (Children)    (Comedy)            0.042135            0.309781   \n3           (Romance)    (Comedy)            0.152671            0.309781   \n0         (Animation)  (Children)            0.037992            0.042135   \n\n     support  confidence       lift  leverage  conviction  zhangs_metric  \n7   0.033072    0.748744   1.516790  0.011268    2.015324       0.356457  \n6   0.095183    0.623455   1.262983  0.019819    1.344762       0.245741  \n4   0.063332    0.582511   1.180039  0.009663    1.212877       0.171182  \n10  0.025192    0.552760   1.119769  0.002695    1.132194       0.112066  \n8   0.029410    0.525099   3.397434  0.020753    1.780250       0.747527  \n9   0.014612    0.514993   3.332050  0.010227    1.743157       0.720323  \n11  0.012800    0.479889   3.104921  0.008677    1.625504       0.696508  \n5   0.026672    0.476222   0.964721 -0.000975    0.966751      -0.037295  \n2   0.018238    0.475869   1.536146  0.006365    1.316882       0.362929  \n1   0.019458    0.461809   1.490758  0.006406    1.282479       0.343682  \n3   0.070102    0.459171   1.482245  0.022808    1.276225       0.383968  \n0   0.017387    0.457644  10.861301  0.015786    1.766117       0.943786  ",
                  "text/html": "\n  <div id=\"df-dc46c20b-dc12-4a33-a5a8-72ea9678a181\" class=\"colab-df-container\">\n    <div>\n<style scoped>\n    .dataframe tbody tr th:only-of-type {\n        vertical-align: middle;\n    }\n\n    .dataframe tbody tr th {\n        vertical-align: top;\n    }\n\n    .dataframe thead th {\n        text-align: right;\n    }\n</style>\n<table border=\"1\" class=\"dataframe\">\n  <thead>\n    <tr style=\"text-align: right;\">\n      <th></th>\n      <th>antecedents</th>\n      <th>consequents</th>\n      <th>antecedent support</th>\n      <th>consequent support</th>\n      <th>support</th>\n      <th>confidence</th>\n      <th>lift</th>\n      <th>leverage</th>\n      <th>conviction</th>\n      <th>zhangs_metric</th>\n    </tr>\n  </thead>\n  <tbody>\n    <tr>\n      <th>7</th>\n      <td>(War)</td>\n      <td>(Drama)</td>\n      <td>0.044170</td>\n      <td>0.493637</td>\n      <td>0.033072</td>\n      <td>0.748744</td>\n      <td>1.516790</td>\n      <td>0.011268</td>\n      <td>2.015324</td>\n      <td>0.356457</td>\n    </tr>\n    <tr>\n      <th>6</th>\n      <td>(Romance)</td>\n      <td>(Drama)</td>\n      <td>0.152671</td>\n      <td>0.493637</td>\n      <td>0.095183</td>\n      <td>0.623455</td>\n      <td>1.262983</td>\n      <td>0.019819</td>\n      <td>1.344762</td>\n      <td>0.245741</td>\n    </tr>\n    <tr>\n      <th>4</th>\n      <td>(Crime)</td>\n      <td>(Drama)</td>\n      <td>0.108723</td>\n      <td>0.493637</td>\n      <td>0.063332</td>\n      <td>0.582511</td>\n      <td>1.180039</td>\n      <td>0.009663</td>\n      <td>1.212877</td>\n      <td>0.171182</td>\n    </tr>\n    <tr>\n      <th>10</th>\n      <td>(Crime, Thriller)</td>\n      <td>(Drama)</td>\n      <td>0.045576</td>\n      <td>0.493637</td>\n      <td>0.025192</td>\n      <td>0.552760</td>\n      <td>1.119769</td>\n      <td>0.002695</td>\n      <td>1.132194</td>\n      <td>0.112066</td>\n    </tr>\n    <tr>\n      <th>8</th>\n      <td>(Mystery)</td>\n      <td>(Thriller)</td>\n      <td>0.056008</td>\n      <td>0.154558</td>\n      <td>0.029410</td>\n      <td>0.525099</td>\n      <td>3.397434</td>\n      <td>0.020753</td>\n      <td>1.780250</td>\n      <td>0.747527</td>\n    </tr>\n    <tr>\n      <th>9</th>\n      <td>(Crime, Action)</td>\n      <td>(Thriller)</td>\n      <td>0.028374</td>\n      <td>0.154558</td>\n      <td>0.014612</td>\n      <td>0.514993</td>\n      <td>3.332050</td>\n      <td>0.010227</td>\n      <td>1.743157</td>\n      <td>0.720323</td>\n    </tr>\n    <tr>\n      <th>11</th>\n      <td>(Mystery, Drama)</td>\n      <td>(Thriller)</td>\n      <td>0.026672</td>\n      <td>0.154558</td>\n      <td>0.012800</td>\n      <td>0.479889</td>\n      <td>3.104921</td>\n      <td>0.008677</td>\n      <td>1.625504</td>\n      <td>0.696508</td>\n    </tr>\n    <tr>\n      <th>5</th>\n      <td>(Mystery)</td>\n      <td>(Drama)</td>\n      <td>0.056008</td>\n      <td>0.493637</td>\n      <td>0.026672</td>\n      <td>0.476222</td>\n      <td>0.964721</td>\n      <td>-0.000975</td>\n      <td>0.966751</td>\n      <td>-0.037295</td>\n    </tr>\n    <tr>\n      <th>2</th>\n      <td>(Musical)</td>\n      <td>(Comedy)</td>\n      <td>0.038325</td>\n      <td>0.309781</td>\n      <td>0.018238</td>\n      <td>0.475869</td>\n      <td>1.536146</td>\n      <td>0.006365</td>\n      <td>1.316882</td>\n      <td>0.362929</td>\n    </tr>\n    <tr>\n      <th>1</th>\n      <td>(Children)</td>\n      <td>(Comedy)</td>\n      <td>0.042135</td>\n      <td>0.309781</td>\n      <td>0.019458</td>\n      <td>0.461809</td>\n      <td>1.490758</td>\n      <td>0.006406</td>\n      <td>1.282479</td>\n      <td>0.343682</td>\n    </tr>\n    <tr>\n      <th>3</th>\n      <td>(Romance)</td>\n      <td>(Comedy)</td>\n      <td>0.152671</td>\n      <td>0.309781</td>\n      <td>0.070102</td>\n      <td>0.459171</td>\n      <td>1.482245</td>\n      <td>0.022808</td>\n      <td>1.276225</td>\n      <td>0.383968</td>\n    </tr>\n    <tr>\n      <th>0</th>\n      <td>(Animation)</td>\n      <td>(Children)</td>\n      <td>0.037992</td>\n      <td>0.042135</td>\n      <td>0.017387</td>\n      <td>0.457644</td>\n      <td>10.861301</td>\n      <td>0.015786</td>\n      <td>1.766117</td>\n      <td>0.943786</td>\n    </tr>\n  </tbody>\n</table>\n</div>\n    <div class=\"colab-df-buttons\">\n\n  <div class=\"colab-df-container\">\n    <button class=\"colab-df-convert\" onclick=\"convertToInteractive('df-dc46c20b-dc12-4a33-a5a8-72ea9678a181')\"\n            title=\"Convert this dataframe to an interactive table.\"\n            style=\"display:none;\">\n\n  <svg xmlns=\"http://www.w3.org/2000/svg\" height=\"24px\" viewBox=\"0 -960 960 960\">\n    <path d=\"M120-120v-720h720v720H120Zm60-500h600v-160H180v160Zm220 220h160v-160H400v160Zm0 220h160v-160H400v160ZM180-400h160v-160H180v160Zm440 0h160v-160H620v160ZM180-180h160v-160H180v160Zm440 0h160v-160H620v160Z\"/>\n  </svg>\n    </button>\n\n  <style>\n    .colab-df-container {\n      display:flex;\n      gap: 12px;\n    }\n\n    .colab-df-convert {\n      background-color: #E8F0FE;\n      border: none;\n      border-radius: 50%;\n      cursor: pointer;\n      display: none;\n      fill: #1967D2;\n      height: 32px;\n      padding: 0 0 0 0;\n      width: 32px;\n    }\n\n    .colab-df-convert:hover {\n      background-color: #E2EBFA;\n      box-shadow: 0px 1px 2px rgba(60, 64, 67, 0.3), 0px 1px 3px 1px rgba(60, 64, 67, 0.15);\n      fill: #174EA6;\n    }\n\n    .colab-df-buttons div {\n      margin-bottom: 4px;\n    }\n\n    [theme=dark] .colab-df-convert {\n      background-color: #3B4455;\n      fill: #D2E3FC;\n    }\n\n    [theme=dark] .colab-df-convert:hover {\n      background-color: #434B5C;\n      box-shadow: 0px 1px 3px 1px rgba(0, 0, 0, 0.15);\n      filter: drop-shadow(0px 1px 2px rgba(0, 0, 0, 0.3));\n      fill: #FFFFFF;\n    }\n  </style>\n\n    <script>\n      const buttonEl =\n        document.querySelector('#df-dc46c20b-dc12-4a33-a5a8-72ea9678a181 button.colab-df-convert');\n      buttonEl.style.display =\n        google.colab.kernel.accessAllowed ? 'block' : 'none';\n\n      async function convertToInteractive(key) {\n        const element = document.querySelector('#df-dc46c20b-dc12-4a33-a5a8-72ea9678a181');\n        const dataTable =\n          await google.colab.kernel.invokeFunction('convertToInteractive',\n                                                    [key], {});\n        if (!dataTable) return;\n\n        const docLinkHtml = 'Like what you see? Visit the ' +\n          '<a target=\"_blank\" href=https://colab.research.google.com/notebooks/data_table.ipynb>data table notebook</a>'\n          + ' to learn more about interactive tables.';\n        element.innerHTML = '';\n        dataTable['output_type'] = 'display_data';\n        await google.colab.output.renderOutput(dataTable, element);\n        const docLink = document.createElement('div');\n        docLink.innerHTML = docLinkHtml;\n        element.appendChild(docLink);\n      }\n    </script>\n  </div>\n\n\n<div id=\"df-303fe900-9eda-4003-be9b-1f9ad2dedd08\">\n  <button class=\"colab-df-quickchart\" onclick=\"quickchart('df-303fe900-9eda-4003-be9b-1f9ad2dedd08')\"\n            title=\"Suggest charts\"\n            style=\"display:none;\">\n\n<svg xmlns=\"http://www.w3.org/2000/svg\" height=\"24px\"viewBox=\"0 0 24 24\"\n     width=\"24px\">\n    <g>\n        <path d=\"M19 3H5c-1.1 0-2 .9-2 2v14c0 1.1.9 2 2 2h14c1.1 0 2-.9 2-2V5c0-1.1-.9-2-2-2zM9 17H7v-7h2v7zm4 0h-2V7h2v10zm4 0h-2v-4h2v4z\"/>\n    </g>\n</svg>\n  </button>\n\n<style>\n  .colab-df-quickchart {\n      --bg-color: #E8F0FE;\n      --fill-color: #1967D2;\n      --hover-bg-color: #E2EBFA;\n      --hover-fill-color: #174EA6;\n      --disabled-fill-color: #AAA;\n      --disabled-bg-color: #DDD;\n  }\n\n  [theme=dark] .colab-df-quickchart {\n      --bg-color: #3B4455;\n      --fill-color: #D2E3FC;\n      --hover-bg-color: #434B5C;\n      --hover-fill-color: #FFFFFF;\n      --disabled-bg-color: #3B4455;\n      --disabled-fill-color: #666;\n  }\n\n  .colab-df-quickchart {\n    background-color: var(--bg-color);\n    border: none;\n    border-radius: 50%;\n    cursor: pointer;\n    display: none;\n    fill: var(--fill-color);\n    height: 32px;\n    padding: 0;\n    width: 32px;\n  }\n\n  .colab-df-quickchart:hover {\n    background-color: var(--hover-bg-color);\n    box-shadow: 0 1px 2px rgba(60, 64, 67, 0.3), 0 1px 3px 1px rgba(60, 64, 67, 0.15);\n    fill: var(--button-hover-fill-color);\n  }\n\n  .colab-df-quickchart-complete:disabled,\n  .colab-df-quickchart-complete:disabled:hover {\n    background-color: var(--disabled-bg-color);\n    fill: var(--disabled-fill-color);\n    box-shadow: none;\n  }\n\n  .colab-df-spinner {\n    border: 2px solid var(--fill-color);\n    border-color: transparent;\n    border-bottom-color: var(--fill-color);\n    animation:\n      spin 1s steps(1) infinite;\n  }\n\n  @keyframes spin {\n    0% {\n      border-color: transparent;\n      border-bottom-color: var(--fill-color);\n      border-left-color: var(--fill-color);\n    }\n    20% {\n      border-color: transparent;\n      border-left-color: var(--fill-color);\n      border-top-color: var(--fill-color);\n    }\n    30% {\n      border-color: transparent;\n      border-left-color: var(--fill-color);\n      border-top-color: var(--fill-color);\n      border-right-color: var(--fill-color);\n    }\n    40% {\n      border-color: transparent;\n      border-right-color: var(--fill-color);\n      border-top-color: var(--fill-color);\n    }\n    60% {\n      border-color: transparent;\n      border-right-color: var(--fill-color);\n    }\n    80% {\n      border-color: transparent;\n      border-right-color: var(--fill-color);\n      border-bottom-color: var(--fill-color);\n    }\n    90% {\n      border-color: transparent;\n      border-bottom-color: var(--fill-color);\n    }\n  }\n</style>\n\n  <script>\n    async function quickchart(key) {\n      const quickchartButtonEl =\n        document.querySelector('#' + key + ' button');\n      quickchartButtonEl.disabled = true;  // To prevent multiple clicks.\n      quickchartButtonEl.classList.add('colab-df-spinner');\n      try {\n        const charts = await google.colab.kernel.invokeFunction(\n            'suggestCharts', [key], {});\n      } catch (error) {\n        console.error('Error during call to suggestCharts:', error);\n      }\n      quickchartButtonEl.classList.remove('colab-df-spinner');\n      quickchartButtonEl.classList.add('colab-df-quickchart-complete');\n    }\n    (() => {\n      let quickchartButtonEl =\n        document.querySelector('#df-303fe900-9eda-4003-be9b-1f9ad2dedd08 button');\n      quickchartButtonEl.style.display =\n        google.colab.kernel.accessAllowed ? 'block' : 'none';\n    })();\n  </script>\n</div>\n    </div>\n  </div>\n",
                  "application/vnd.google.colaboratory.intrinsic+json": {
                    "type": "dataframe",
                    "summary": "{\n  \"name\": \"plt\",\n  \"rows\": 12,\n  \"fields\": [\n    {\n      \"column\": \"antecedents\",\n      \"properties\": {\n        \"dtype\": \"string\",\n        \"num_unique_values\": 10,\n        \"samples\": [\n          \"frozenset({'Children'})\",\n          \"frozenset({'Romance'})\",\n          \"frozenset({'Crime', 'Action'})\"\n        ],\n        \"semantic_type\": \"\",\n        \"description\": \"\"\n      }\n    },\n    {\n      \"column\": \"consequents\",\n      \"properties\": {\n        \"dtype\": \"category\",\n        \"num_unique_values\": 4,\n        \"samples\": [\n          \"frozenset({'Thriller'})\",\n          \"frozenset({'Children'})\",\n          \"frozenset({'Drama'})\"\n        ],\n        \"semantic_type\": \"\",\n        \"description\": \"\"\n      }\n    },\n    {\n      \"column\": \"antecedent support\",\n      \"properties\": {\n        \"dtype\": \"number\",\n        \"std\": 0.0457503619681098,\n        \"min\": 0.026672092335010358,\n        \"max\": 0.15267090855282628,\n        \"num_unique_values\": 10,\n        \"samples\": [\n          0.04213524711453093,\n          0.15267090855282628,\n          0.02837377922462267\n        ],\n        \"semantic_type\": \"\",\n        \"description\": \"\"\n      }\n    },\n    {\n      \"column\": \"consequent support\",\n      \"properties\": {\n        \"dtype\": \"number\",\n        \"std\": 0.16788815158403964,\n        \"min\": 0.04213524711453093,\n        \"max\": 0.49363717076058006,\n        \"num_unique_values\": 4,\n        \"samples\": [\n          0.1545575614087008,\n          0.04213524711453093,\n          0.49363717076058006\n        ],\n        \"semantic_type\": \"\",\n        \"description\": \"\"\n      }\n    },\n    {\n      \"column\": \"support\",\n      \"properties\": {\n        \"dtype\": \"number\",\n        \"std\": 0.026278608537847192,\n        \"min\": 0.012799644865344777,\n        \"max\": 0.09518348623853211,\n        \"num_unique_values\": 12,\n        \"samples\": [\n          0.07010210121337673,\n          0.019458419650784254,\n          0.033071914767682745\n        ],\n        \"semantic_type\": \"\",\n        \"description\": \"\"\n      }\n    },\n    {\n      \"column\": \"confidence\",\n      \"properties\": {\n        \"dtype\": \"number\",\n        \"std\": 0.08704369677978627,\n        \"min\": 0.45764362220058424,\n        \"max\": 0.7487437185929648,\n        \"num_unique_values\": 12,\n        \"samples\": [\n          0.4591713108795735,\n          0.46180860403863033,\n          0.7487437185929648\n        ],\n        \"semantic_type\": \"\",\n        \"description\": \"\"\n      }\n    },\n    {\n      \"column\": \"lift\",\n      \"properties\": {\n        \"dtype\": \"number\",\n        \"std\": 2.7490443687820663,\n        \"min\": 0.9647205617276324,\n        \"max\": 10.861301488433883,\n        \"num_unique_values\": 12,\n        \"samples\": [\n          1.482244909923171,\n          1.4907583215156743,\n          1.51678958340865\n        ],\n        \"semantic_type\": \"\",\n        \"description\": \"\"\n      }\n    },\n    {\n      \"column\": \"leverage\",\n      \"properties\": {\n        \"dtype\": \"number\",\n        \"std\": 0.007372413663224951,\n        \"min\": -0.0009753875603550691,\n        \"max\": 0.022807554445791384,\n        \"num_unique_values\": 12,\n        \"samples\": [\n          0.022807554445791384,\n          0.006405720651928012,\n          0.0112680237537684\n        ],\n        \"semantic_type\": \"\",\n        \"description\": \"\"\n      }\n    },\n    {\n      \"column\": \"conviction\",\n      \"properties\": {\n        \"dtype\": \"number\",\n        \"std\": 0.31949072301054027,\n        \"min\": 0.9667507231632811,\n        \"max\": 2.0153240603728917,\n        \"num_unique_values\": 12,\n        \"samples\": [\n          1.2762248260656957,\n          1.282478696024336,\n          2.0153240603728917\n        ],\n        \"semantic_type\": \"\",\n        \"description\": \"\"\n      }\n    },\n    {\n      \"column\": \"zhangs_metric\",\n      \"properties\": {\n        \"dtype\": \"number\",\n        \"std\": 0.295251574069198,\n        \"min\": -0.037294527791053904,\n        \"max\": 0.9437863422336947,\n        \"num_unique_values\": 12,\n        \"samples\": [\n          0.38396847365998943,\n          0.34368156521302423,\n          0.35645745224114533\n        ],\n        \"semantic_type\": \"\",\n        \"description\": \"\"\n      }\n    }\n  ]\n}"
                  }
                },
                "metadata": {}
              }
            ]
          }
        },
        "f7481a60d55844389346b5f920e58f1f": {
          "model_module": "@jupyter-widgets/base",
          "model_name": "LayoutModel",
          "model_module_version": "1.2.0",
          "state": {
            "_model_module": "@jupyter-widgets/base",
            "_model_module_version": "1.2.0",
            "_model_name": "LayoutModel",
            "_view_count": null,
            "_view_module": "@jupyter-widgets/base",
            "_view_module_version": "1.2.0",
            "_view_name": "LayoutView",
            "align_content": null,
            "align_items": null,
            "align_self": null,
            "border": null,
            "bottom": null,
            "display": null,
            "flex": null,
            "flex_flow": null,
            "grid_area": null,
            "grid_auto_columns": null,
            "grid_auto_flow": null,
            "grid_auto_rows": null,
            "grid_column": null,
            "grid_gap": null,
            "grid_row": null,
            "grid_template_areas": null,
            "grid_template_columns": null,
            "grid_template_rows": null,
            "height": null,
            "justify_content": null,
            "justify_items": null,
            "left": null,
            "margin": null,
            "max_height": null,
            "max_width": null,
            "min_height": null,
            "min_width": null,
            "object_fit": null,
            "object_position": null,
            "order": null,
            "overflow": null,
            "overflow_x": null,
            "overflow_y": null,
            "padding": null,
            "right": null,
            "top": null,
            "visibility": null,
            "width": null
          }
        },
        "cca1eddcd5174430b4b269fc8f3e0e36": {
          "model_module": "@jupyter-widgets/base",
          "model_name": "LayoutModel",
          "model_module_version": "1.2.0",
          "state": {
            "_model_module": "@jupyter-widgets/base",
            "_model_module_version": "1.2.0",
            "_model_name": "LayoutModel",
            "_view_count": null,
            "_view_module": "@jupyter-widgets/base",
            "_view_module_version": "1.2.0",
            "_view_name": "LayoutView",
            "align_content": null,
            "align_items": null,
            "align_self": null,
            "border": null,
            "bottom": null,
            "display": null,
            "flex": null,
            "flex_flow": null,
            "grid_area": null,
            "grid_auto_columns": null,
            "grid_auto_flow": null,
            "grid_auto_rows": null,
            "grid_column": null,
            "grid_gap": null,
            "grid_row": null,
            "grid_template_areas": null,
            "grid_template_columns": null,
            "grid_template_rows": null,
            "height": null,
            "justify_content": null,
            "justify_items": null,
            "left": null,
            "margin": null,
            "max_height": null,
            "max_width": null,
            "min_height": null,
            "min_width": null,
            "object_fit": null,
            "object_position": null,
            "order": null,
            "overflow": null,
            "overflow_x": null,
            "overflow_y": null,
            "padding": null,
            "right": null,
            "top": null,
            "visibility": null,
            "width": null
          }
        },
        "935afcda61ed4d9b8652a4183afe5aec": {
          "model_module": "@jupyter-widgets/controls",
          "model_name": "DescriptionStyleModel",
          "model_module_version": "1.5.0",
          "state": {
            "_model_module": "@jupyter-widgets/controls",
            "_model_module_version": "1.5.0",
            "_model_name": "DescriptionStyleModel",
            "_view_count": null,
            "_view_module": "@jupyter-widgets/base",
            "_view_module_version": "1.2.0",
            "_view_name": "StyleView",
            "description_width": ""
          }
        },
        "2506561cd6aa499ca5c0f7e950b9ed80": {
          "model_module": "@jupyter-widgets/base",
          "model_name": "LayoutModel",
          "model_module_version": "1.2.0",
          "state": {
            "_model_module": "@jupyter-widgets/base",
            "_model_module_version": "1.2.0",
            "_model_name": "LayoutModel",
            "_view_count": null,
            "_view_module": "@jupyter-widgets/base",
            "_view_module_version": "1.2.0",
            "_view_name": "LayoutView",
            "align_content": null,
            "align_items": null,
            "align_self": null,
            "border": null,
            "bottom": null,
            "display": null,
            "flex": null,
            "flex_flow": null,
            "grid_area": null,
            "grid_auto_columns": null,
            "grid_auto_flow": null,
            "grid_auto_rows": null,
            "grid_column": null,
            "grid_gap": null,
            "grid_row": null,
            "grid_template_areas": null,
            "grid_template_columns": null,
            "grid_template_rows": null,
            "height": null,
            "justify_content": null,
            "justify_items": null,
            "left": null,
            "margin": null,
            "max_height": null,
            "max_width": null,
            "min_height": null,
            "min_width": null,
            "object_fit": null,
            "object_position": null,
            "order": null,
            "overflow": null,
            "overflow_x": null,
            "overflow_y": null,
            "padding": null,
            "right": null,
            "top": null,
            "visibility": null,
            "width": null
          }
        },
        "f289186a0ae34780a2e14b775dc43148": {
          "model_module": "@jupyter-widgets/controls",
          "model_name": "DescriptionStyleModel",
          "model_module_version": "1.5.0",
          "state": {
            "_model_module": "@jupyter-widgets/controls",
            "_model_module_version": "1.5.0",
            "_model_name": "DescriptionStyleModel",
            "_view_count": null,
            "_view_module": "@jupyter-widgets/base",
            "_view_module_version": "1.2.0",
            "_view_name": "StyleView",
            "description_width": ""
          }
        },
        "75706947330b4016a04cc56bacca080f": {
          "model_module": "@jupyter-widgets/base",
          "model_name": "LayoutModel",
          "model_module_version": "1.2.0",
          "state": {
            "_model_module": "@jupyter-widgets/base",
            "_model_module_version": "1.2.0",
            "_model_name": "LayoutModel",
            "_view_count": null,
            "_view_module": "@jupyter-widgets/base",
            "_view_module_version": "1.2.0",
            "_view_name": "LayoutView",
            "align_content": null,
            "align_items": null,
            "align_self": null,
            "border": null,
            "bottom": null,
            "display": null,
            "flex": null,
            "flex_flow": null,
            "grid_area": null,
            "grid_auto_columns": null,
            "grid_auto_flow": null,
            "grid_auto_rows": null,
            "grid_column": null,
            "grid_gap": null,
            "grid_row": null,
            "grid_template_areas": null,
            "grid_template_columns": null,
            "grid_template_rows": null,
            "height": null,
            "justify_content": null,
            "justify_items": null,
            "left": null,
            "margin": null,
            "max_height": null,
            "max_width": null,
            "min_height": null,
            "min_width": null,
            "object_fit": null,
            "object_position": null,
            "order": null,
            "overflow": null,
            "overflow_x": null,
            "overflow_y": null,
            "padding": null,
            "right": null,
            "top": null,
            "visibility": null,
            "width": null
          }
        }
      }
    }
  },
  "nbformat": 4,
  "nbformat_minor": 5
}